{
  "cells": [
    {
      "cell_type": "markdown",
      "metadata": {
        "id": "JaSmtHTq6Eys"
      },
      "source": [
        "# Start of the work"
      ],
      "id": "JaSmtHTq6Eys"
    },
    {
      "cell_type": "code",
      "execution_count": null,
      "metadata": {
        "id": "fd192d09-38ff-47fb-947b-dc659d4ca54a"
      },
      "outputs": [],
      "source": [
        "# pip install opencv-python"
      ],
      "id": "fd192d09-38ff-47fb-947b-dc659d4ca54a"
    },
    {
      "cell_type": "code",
      "execution_count": null,
      "metadata": {
        "id": "a78f1cc0-12ec-45c6-b084-0a6e944c999f"
      },
      "outputs": [],
      "source": [
        "import seaborn as sns\n",
        "import cv2\n",
        "import matplotlib.pyplot as plt\n",
        "from sklearn import preprocessing\n",
        "from sklearn.model_selection import train_test_split\n",
        "import numpy as np \n",
        "import pandas as pd \n",
        "import matplotlib.pyplot as plt\n",
        "import os\n",
        "import torch\n",
        "from PIL import Image\n",
        "from torchvision import transforms, datasets, models\n",
        "import torch.nn as nn\n",
        "import torch.nn.functional as F\n",
        "import torch.optim\n",
        "import torchvision\n",
        "import torchvision.transforms as transforms\n",
        "import torch.optim as optim\n",
        "from bs4 import BeautifulSoup\n",
        "from tqdm.notebook import tqdm\n",
        "import time"
      ],
      "id": "a78f1cc0-12ec-45c6-b084-0a6e944c999f"
    },
    {
      "cell_type": "code",
      "execution_count": null,
      "metadata": {
        "colab": {
          "base_uri": "https://localhost:8080/"
        },
        "id": "osxmgGscj152",
        "outputId": "4978d427-e136-47f7-e48e-b981fa445821"
      },
      "outputs": [
        {
          "output_type": "stream",
          "name": "stdout",
          "text": [
            "Mounted at /content/drive\n",
            "/content/drive/MyDrive/project\n"
          ]
        }
      ],
      "source": [
        "from google.colab import drive\n",
        "drive.mount('/content/drive')\n",
        "%cd /content/drive/MyDrive/project/"
      ],
      "id": "osxmgGscj152"
    },
    {
      "cell_type": "code",
      "execution_count": null,
      "metadata": {
        "colab": {
          "base_uri": "https://localhost:8080/"
        },
        "id": "Q_qWnIUDHzbZ",
        "outputId": "21950e62-8dca-4571-b2a5-8e60d71b0282"
      },
      "outputs": [
        {
          "output_type": "execute_result",
          "data": {
            "text/plain": [
              "True"
            ]
          },
          "metadata": {},
          "execution_count": 4
        }
      ],
      "source": [
        "torch.cuda.is_available()"
      ],
      "id": "Q_qWnIUDHzbZ"
    },
    {
      "cell_type": "code",
      "execution_count": null,
      "metadata": {
        "id": "v0wEnZsZ228Q"
      },
      "outputs": [],
      "source": [
        "import warnings\n",
        "warnings.filterwarnings(\"ignore\")"
      ],
      "id": "v0wEnZsZ228Q"
    },
    {
      "cell_type": "markdown",
      "metadata": {
        "id": "7a34c4d7"
      },
      "source": [
        "# Data Preprocessing"
      ],
      "id": "7a34c4d7"
    },
    {
      "cell_type": "markdown",
      "source": [
        "## dataframe"
      ],
      "metadata": {
        "id": "AiGGeJ2WMezZ"
      },
      "id": "AiGGeJ2WMezZ"
    },
    {
      "cell_type": "code",
      "execution_count": null,
      "metadata": {
        "id": "f25de5bc"
      },
      "outputs": [],
      "source": [
        "images_path = []\n",
        "annotations_path = []\n",
        "\n",
        "for dirname, _, filenames in os.walk('./archive'):\n",
        "    for filename in filenames:\n",
        "        file_path = os.path.join(dirname, filename)\n",
        "        if file_path[-3:] == 'xml':\n",
        "            annotations_path.append(file_path)\n",
        "        else:\n",
        "            images_path.append(file_path)"
      ],
      "id": "f25de5bc"
    },
    {
      "cell_type": "code",
      "execution_count": null,
      "metadata": {
        "id": "e8f8a784"
      },
      "outputs": [],
      "source": [
        "import xml.etree.ElementTree as ET\n",
        "\n",
        "df = pd.DataFrame(columns=['file_name', 'label', 'xmin', 'ymin', 'xmax', 'ymax'])\n",
        "\n",
        "for xml_file in annotations_path:\n",
        "    tree = ET.parse(xml_file)\n",
        "    root = tree.getroot()\n",
        "    file_name = root.find('filename').text\n",
        "    for obj in root.findall('object'):\n",
        "        row = {\n",
        "            'file_name': file_name,\n",
        "            'label': obj.find('name').text,\n",
        "            'xmin': int(obj.find('bndbox').find('xmin').text),\n",
        "            'ymin': int(obj.find('bndbox').find('ymin').text),\n",
        "            'xmax': int(obj.find('bndbox').find('xmax').text),\n",
        "            'ymax': int(obj.find('bndbox').find('ymax').text)\n",
        "        }\n",
        "        df = df.append(row, ignore_index=True)"
      ],
      "id": "e8f8a784"
    },
    {
      "cell_type": "code",
      "execution_count": null,
      "metadata": {
        "colab": {
          "base_uri": "https://localhost:8080/",
          "height": 483
        },
        "id": "998c4295",
        "outputId": "0026ee76-0a31-489e-918a-651046262856"
      },
      "outputs": [
        {
          "output_type": "execute_result",
          "data": {
            "text/plain": [
              "                file_name         label xmin ymin xmax ymax\n",
              "0     maksssksksss105.png     with_mask  178  143  213  202\n",
              "1     maksssksksss105.png     with_mask  280  103  312  145\n",
              "2     maksssksksss105.png     with_mask  320   79  352  119\n",
              "3     maksssksksss105.png     with_mask  365   53  390   84\n",
              "4     maksssksksss105.png     with_mask  243   36  267   67\n",
              "...                   ...           ...  ...  ...  ...  ...\n",
              "4067  maksssksksss495.png     with_mask  224   70  267  121\n",
              "4068  maksssksksss495.png  without_mask  274   61  330  122\n",
              "4069  maksssksksss495.png     with_mask  291  189  356  224\n",
              "4070  maksssksksss495.png     with_mask  329  117  388  181\n",
              "4071  maksssksksss495.png  without_mask  351   53  389   92\n",
              "\n",
              "[4072 rows x 6 columns]"
            ],
            "text/html": [
              "\n",
              "  <div id=\"df-bf91e07e-24c0-4a72-a228-7a589ea0e3ce\">\n",
              "    <div class=\"colab-df-container\">\n",
              "      <div>\n",
              "<style scoped>\n",
              "    .dataframe tbody tr th:only-of-type {\n",
              "        vertical-align: middle;\n",
              "    }\n",
              "\n",
              "    .dataframe tbody tr th {\n",
              "        vertical-align: top;\n",
              "    }\n",
              "\n",
              "    .dataframe thead th {\n",
              "        text-align: right;\n",
              "    }\n",
              "</style>\n",
              "<table border=\"1\" class=\"dataframe\">\n",
              "  <thead>\n",
              "    <tr style=\"text-align: right;\">\n",
              "      <th></th>\n",
              "      <th>file_name</th>\n",
              "      <th>label</th>\n",
              "      <th>xmin</th>\n",
              "      <th>ymin</th>\n",
              "      <th>xmax</th>\n",
              "      <th>ymax</th>\n",
              "    </tr>\n",
              "  </thead>\n",
              "  <tbody>\n",
              "    <tr>\n",
              "      <th>0</th>\n",
              "      <td>maksssksksss105.png</td>\n",
              "      <td>with_mask</td>\n",
              "      <td>178</td>\n",
              "      <td>143</td>\n",
              "      <td>213</td>\n",
              "      <td>202</td>\n",
              "    </tr>\n",
              "    <tr>\n",
              "      <th>1</th>\n",
              "      <td>maksssksksss105.png</td>\n",
              "      <td>with_mask</td>\n",
              "      <td>280</td>\n",
              "      <td>103</td>\n",
              "      <td>312</td>\n",
              "      <td>145</td>\n",
              "    </tr>\n",
              "    <tr>\n",
              "      <th>2</th>\n",
              "      <td>maksssksksss105.png</td>\n",
              "      <td>with_mask</td>\n",
              "      <td>320</td>\n",
              "      <td>79</td>\n",
              "      <td>352</td>\n",
              "      <td>119</td>\n",
              "    </tr>\n",
              "    <tr>\n",
              "      <th>3</th>\n",
              "      <td>maksssksksss105.png</td>\n",
              "      <td>with_mask</td>\n",
              "      <td>365</td>\n",
              "      <td>53</td>\n",
              "      <td>390</td>\n",
              "      <td>84</td>\n",
              "    </tr>\n",
              "    <tr>\n",
              "      <th>4</th>\n",
              "      <td>maksssksksss105.png</td>\n",
              "      <td>with_mask</td>\n",
              "      <td>243</td>\n",
              "      <td>36</td>\n",
              "      <td>267</td>\n",
              "      <td>67</td>\n",
              "    </tr>\n",
              "    <tr>\n",
              "      <th>...</th>\n",
              "      <td>...</td>\n",
              "      <td>...</td>\n",
              "      <td>...</td>\n",
              "      <td>...</td>\n",
              "      <td>...</td>\n",
              "      <td>...</td>\n",
              "    </tr>\n",
              "    <tr>\n",
              "      <th>4067</th>\n",
              "      <td>maksssksksss495.png</td>\n",
              "      <td>with_mask</td>\n",
              "      <td>224</td>\n",
              "      <td>70</td>\n",
              "      <td>267</td>\n",
              "      <td>121</td>\n",
              "    </tr>\n",
              "    <tr>\n",
              "      <th>4068</th>\n",
              "      <td>maksssksksss495.png</td>\n",
              "      <td>without_mask</td>\n",
              "      <td>274</td>\n",
              "      <td>61</td>\n",
              "      <td>330</td>\n",
              "      <td>122</td>\n",
              "    </tr>\n",
              "    <tr>\n",
              "      <th>4069</th>\n",
              "      <td>maksssksksss495.png</td>\n",
              "      <td>with_mask</td>\n",
              "      <td>291</td>\n",
              "      <td>189</td>\n",
              "      <td>356</td>\n",
              "      <td>224</td>\n",
              "    </tr>\n",
              "    <tr>\n",
              "      <th>4070</th>\n",
              "      <td>maksssksksss495.png</td>\n",
              "      <td>with_mask</td>\n",
              "      <td>329</td>\n",
              "      <td>117</td>\n",
              "      <td>388</td>\n",
              "      <td>181</td>\n",
              "    </tr>\n",
              "    <tr>\n",
              "      <th>4071</th>\n",
              "      <td>maksssksksss495.png</td>\n",
              "      <td>without_mask</td>\n",
              "      <td>351</td>\n",
              "      <td>53</td>\n",
              "      <td>389</td>\n",
              "      <td>92</td>\n",
              "    </tr>\n",
              "  </tbody>\n",
              "</table>\n",
              "<p>4072 rows × 6 columns</p>\n",
              "</div>\n",
              "      <button class=\"colab-df-convert\" onclick=\"convertToInteractive('df-bf91e07e-24c0-4a72-a228-7a589ea0e3ce')\"\n",
              "              title=\"Convert this dataframe to an interactive table.\"\n",
              "              style=\"display:none;\">\n",
              "        \n",
              "  <svg xmlns=\"http://www.w3.org/2000/svg\" height=\"24px\"viewBox=\"0 0 24 24\"\n",
              "       width=\"24px\">\n",
              "    <path d=\"M0 0h24v24H0V0z\" fill=\"none\"/>\n",
              "    <path d=\"M18.56 5.44l.94 2.06.94-2.06 2.06-.94-2.06-.94-.94-2.06-.94 2.06-2.06.94zm-11 1L8.5 8.5l.94-2.06 2.06-.94-2.06-.94L8.5 2.5l-.94 2.06-2.06.94zm10 10l.94 2.06.94-2.06 2.06-.94-2.06-.94-.94-2.06-.94 2.06-2.06.94z\"/><path d=\"M17.41 7.96l-1.37-1.37c-.4-.4-.92-.59-1.43-.59-.52 0-1.04.2-1.43.59L10.3 9.45l-7.72 7.72c-.78.78-.78 2.05 0 2.83L4 21.41c.39.39.9.59 1.41.59.51 0 1.02-.2 1.41-.59l7.78-7.78 2.81-2.81c.8-.78.8-2.07 0-2.86zM5.41 20L4 18.59l7.72-7.72 1.47 1.35L5.41 20z\"/>\n",
              "  </svg>\n",
              "      </button>\n",
              "      \n",
              "  <style>\n",
              "    .colab-df-container {\n",
              "      display:flex;\n",
              "      flex-wrap:wrap;\n",
              "      gap: 12px;\n",
              "    }\n",
              "\n",
              "    .colab-df-convert {\n",
              "      background-color: #E8F0FE;\n",
              "      border: none;\n",
              "      border-radius: 50%;\n",
              "      cursor: pointer;\n",
              "      display: none;\n",
              "      fill: #1967D2;\n",
              "      height: 32px;\n",
              "      padding: 0 0 0 0;\n",
              "      width: 32px;\n",
              "    }\n",
              "\n",
              "    .colab-df-convert:hover {\n",
              "      background-color: #E2EBFA;\n",
              "      box-shadow: 0px 1px 2px rgba(60, 64, 67, 0.3), 0px 1px 3px 1px rgba(60, 64, 67, 0.15);\n",
              "      fill: #174EA6;\n",
              "    }\n",
              "\n",
              "    [theme=dark] .colab-df-convert {\n",
              "      background-color: #3B4455;\n",
              "      fill: #D2E3FC;\n",
              "    }\n",
              "\n",
              "    [theme=dark] .colab-df-convert:hover {\n",
              "      background-color: #434B5C;\n",
              "      box-shadow: 0px 1px 3px 1px rgba(0, 0, 0, 0.15);\n",
              "      filter: drop-shadow(0px 1px 2px rgba(0, 0, 0, 0.3));\n",
              "      fill: #FFFFFF;\n",
              "    }\n",
              "  </style>\n",
              "\n",
              "      <script>\n",
              "        const buttonEl =\n",
              "          document.querySelector('#df-bf91e07e-24c0-4a72-a228-7a589ea0e3ce button.colab-df-convert');\n",
              "        buttonEl.style.display =\n",
              "          google.colab.kernel.accessAllowed ? 'block' : 'none';\n",
              "\n",
              "        async function convertToInteractive(key) {\n",
              "          const element = document.querySelector('#df-bf91e07e-24c0-4a72-a228-7a589ea0e3ce');\n",
              "          const dataTable =\n",
              "            await google.colab.kernel.invokeFunction('convertToInteractive',\n",
              "                                                     [key], {});\n",
              "          if (!dataTable) return;\n",
              "\n",
              "          const docLinkHtml = 'Like what you see? Visit the ' +\n",
              "            '<a target=\"_blank\" href=https://colab.research.google.com/notebooks/data_table.ipynb>data table notebook</a>'\n",
              "            + ' to learn more about interactive tables.';\n",
              "          element.innerHTML = '';\n",
              "          dataTable['output_type'] = 'display_data';\n",
              "          await google.colab.output.renderOutput(dataTable, element);\n",
              "          const docLink = document.createElement('div');\n",
              "          docLink.innerHTML = docLinkHtml;\n",
              "          element.appendChild(docLink);\n",
              "        }\n",
              "      </script>\n",
              "    </div>\n",
              "  </div>\n",
              "  "
            ]
          },
          "metadata": {},
          "execution_count": 8
        }
      ],
      "source": [
        "df"
      ],
      "id": "998c4295"
    },
    {
      "cell_type": "code",
      "execution_count": null,
      "metadata": {
        "colab": {
          "base_uri": "https://localhost:8080/",
          "height": 105
        },
        "id": "5c904291",
        "outputId": "9c4f0a25-c0a0-4b35-b0ee-bfdfbb120067"
      },
      "outputs": [
        {
          "output_type": "execute_result",
          "data": {
            "text/plain": [
              "<matplotlib.axes._subplots.AxesSubplot at 0x7fe5a138c5b0>"
            ]
          },
          "metadata": {},
          "execution_count": 9
        },
        {
          "output_type": "display_data",
          "data": {
            "text/plain": [
              "<Figure size 432x288 with 1 Axes>"
            ],
            "image/png": "[encoded data removed]"
          },
          "metadata": {
            "needs_background": "light"
          }
        }
      ],
      "source": [
        "sns.countplot(x=df.label)"
      ],
      "id": "5c904291"
    },
    {
      "cell_type": "code",
      "execution_count": null,
      "metadata": {
        "colab": {
          "base_uri": "https://localhost:8080/"
        },
        "id": "e66caef8",
        "outputId": "c45194a7-66de-4ebd-e814-5aa42451b8b2"
      },
      "outputs": [
        {
          "output_type": "execute_result",
          "data": {
            "text/plain": [
              "with_mask                3232\n",
              "without_mask              717\n",
              "mask_weared_incorrect     123\n",
              "Name: label, dtype: int64"
            ]
          },
          "metadata": {},
          "execution_count": 10
        }
      ],
      "source": [
        "df.label.value_counts()"
      ],
      "id": "e66caef8"
    },
    {
      "cell_type": "markdown",
      "source": [
        "## save image"
      ],
      "metadata": {
        "id": "P6Sjd_gAMY0S"
      },
      "id": "P6Sjd_gAMY0S"
    },
    {
      "cell_type": "code",
      "execution_count": null,
      "metadata": {
        "id": "MSaqnD60WEga"
      },
      "outputs": [],
      "source": [
        "input_data_path = './archive/images'\n",
        "annotations_path = \"./archive/annotations\"\n",
        "labels = df['label'].unique()\n",
        "directory = ['train', 'test', 'val']\n",
        "output_data_path =  '.'\n",
        "import os\n",
        "for label in labels:\n",
        "    for d in directory:\n",
        "        path = os.path.join(output_data_path, d, label)\n",
        "        #print(path)\n",
        "        if not os.path.exists(path):\n",
        "            os.makedirs(path)\n",
        "\n",
        "from PIL import Image\n",
        "def crop_img(image_path, xmin, ymin, xmax, ymax):\n",
        "    x_shift = (xmax - xmin) * 0.1\n",
        "    y_shift = (ymax - ymin) * 0.1\n",
        "    img = Image.open(image_path)\n",
        "    cropped = img.crop((xmin - x_shift, ymin - y_shift, xmax + x_shift, ymax + y_shift))\n",
        "    return cropped\n",
        "\n",
        "def extract_faces(image_name, image_info):\n",
        "    faces = []\n",
        "    df_one_img = image_info[image_info['file_name'] == image_name][['label', 'xmin', 'ymin', 'xmax', 'ymax']]\n",
        "    #print(df_one_img)\n",
        "    for row_num in range(len(df_one_img)):\n",
        "        label, xmin, ymin, xmax, ymax = df_one_img.iloc[row_num] \n",
        "        image_path = os.path.join(input_data_path, image_name)\n",
        "        faces.append((crop_img(image_path, xmin, ymin, xmax, ymax), label,f'{image_name[:-4]}_{(xmin, ymin)}'))\n",
        "    return faces\n",
        "\n",
        "def save_image(image, image_name, output_data_path,  dataset_type, label):\n",
        "    output_path = os.path.join(output_data_path, dataset_type, label ,f'{image_name}.png')\n",
        "    image.save(output_path)  \n",
        "\n",
        "images = [*os.listdir(\"./archive/images\")]\n",
        "cropped_faces = [extract_faces(img, df) for img in images]\n",
        "flat_cropped_faces = sum(cropped_faces, [])\n",
        "with_mask = [(img, image_name) for img, label,image_name in flat_cropped_faces if label == \"with_mask\"]\n",
        "mask_weared_incorrect = [(img, image_name) for img, label,image_name in flat_cropped_faces if label == \"mask_weared_incorrect\"]\n",
        "without_mask = [(img, image_name) for img, label,image_name in flat_cropped_faces if label == \"without_mask\"]"
      ],
      "id": "MSaqnD60WEga"
    },
    {
      "cell_type": "code",
      "execution_count": null,
      "metadata": {
        "id": "6qA5hBzIYWAh"
      },
      "outputs": [],
      "source": [
        "from sklearn.model_selection import train_test_split\n",
        "\n",
        "train_with_mask, test_with_mask = train_test_split(with_mask, test_size=0.20, random_state=36)\n",
        "test_with_mask, val_with_mask = train_test_split(test_with_mask, test_size=0.7, random_state=36)\n",
        "\n",
        "train_mask_weared_incorrect, test_mask_weared_incorrect = train_test_split(mask_weared_incorrect, test_size=0.20, random_state=36)\n",
        "test_mask_weared_incorrect, val_mask_weared_incorrect = train_test_split(test_mask_weared_incorrect, test_size=0.7, random_state=36)\n",
        "\n",
        "train_without_mask, test_without_mask = train_test_split(without_mask, test_size=0.20, random_state=36)\n",
        "test_without_mask, val_without_mask = train_test_split(test_without_mask, test_size=0.7, random_state=36)\n"
      ],
      "id": "6qA5hBzIYWAh"
    },
    {
      "cell_type": "code",
      "execution_count": null,
      "metadata": {
        "id": "he953kVBM9Oz"
      },
      "outputs": [],
      "source": [
        "output_data_path =  '.'\n",
        "for image, image_name in train_with_mask:\n",
        "    save_image(image, image_name, output_data_path, 'train', 'with_mask')\n",
        "\n",
        "for image, image_name in train_mask_weared_incorrect:\n",
        "    save_image(image, image_name, output_data_path, 'train', 'mask_weared_incorrect')\n",
        "\n",
        "for image, image_name in train_without_mask:\n",
        "    save_image(image, image_name, output_data_path, 'train', 'without_mask')\n",
        "        \n",
        "# Test set\n",
        "\n",
        "for image, image_name in test_with_mask:\n",
        "    save_image(image, image_name, output_data_path, 'test', 'with_mask')\n",
        "\n",
        "for image, image_name in test_mask_weared_incorrect:\n",
        "    save_image(image, image_name, output_data_path, 'test', 'mask_weared_incorrect')\n",
        "\n",
        "for image, image_name in test_without_mask:\n",
        "    save_image(image, image_name, output_data_path, 'test', 'without_mask')\n",
        "    \n",
        "# Val set\n",
        "    \n",
        "for image, image_name in val_with_mask:\n",
        "    save_image(image, image_name, output_data_path, 'val', 'with_mask')\n",
        "\n",
        "for image, image_name in val_without_mask:\n",
        "    save_image(image, image_name, output_data_path, 'val', 'without_mask')\n",
        "\n",
        "for image, image_name in val_mask_weared_incorrect:\n",
        "    save_image(image, image_name, output_data_path, 'val', 'mask_weared_incorrect')\n"
      ],
      "id": "he953kVBM9Oz"
    },
    {
      "cell_type": "markdown",
      "source": [
        "## load data"
      ],
      "metadata": {
        "id": "XEEQHvwzMnUS"
      },
      "id": "XEEQHvwzMnUS"
    },
    {
      "cell_type": "code",
      "execution_count": null,
      "metadata": {
        "id": "qgGieja5N8Pp"
      },
      "outputs": [],
      "source": [
        "Batch_size = 128\n",
        "train_folder = 'train'\n",
        "valid_folder = 'val'\n",
        "test_folder = 'test'\n",
        "\n",
        "data_transforms_test = transforms.Compose([\n",
        "        transforms.CenterCrop(224),\n",
        "        transforms.ToTensor(),\n",
        "        transforms.Normalize([0.485, 0.456, 0.406], [0.229, 0.224, 0.225])\n",
        "])\n",
        "data_transforms = transforms.Compose([\n",
        "        transforms.RandomResizedCrop(224),\n",
        "        transforms.RandomHorizontalFlip(),\n",
        "        transforms.RandomRotation(10),\n",
        "        transforms.ToTensor(),\n",
        "        transforms.Normalize([0.485, 0.456, 0.406], [0.229, 0.224, 0.225])\n",
        "])\n",
        "\n",
        "train_data = datasets.ImageFolder(train_folder, transform=data_transforms)\n",
        "valid_data = datasets.ImageFolder(valid_folder, transform=data_transforms_test)\n",
        "test_data = datasets.ImageFolder(test_folder, transform=data_transforms_test)\n",
        "\n",
        "len(train_data)\n",
        "len(valid_data)\n",
        "len(test_data)\n",
        "\n",
        "train_loader = torch.utils.data.DataLoader(train_data, batch_size=Batch_size, shuffle=True,num_workers=0)\n",
        "valid_loader = torch.utils.data.DataLoader(valid_data, batch_size=Batch_size, shuffle=False,num_workers=0)\n",
        "test_loader = torch.utils.data.DataLoader(test_data, batch_size=Batch_size, shuffle=False,num_workers=0)"
      ],
      "id": "qgGieja5N8Pp"
    },
    {
      "cell_type": "markdown",
      "metadata": {
        "id": "55f0d668"
      },
      "source": [
        "# Model"
      ],
      "id": "55f0d668"
    },
    {
      "cell_type": "markdown",
      "metadata": {
        "id": "_5Q0VpGGyTrd"
      },
      "source": [
        "## pre model work"
      ],
      "id": "_5Q0VpGGyTrd"
    },
    {
      "cell_type": "code",
      "execution_count": null,
      "metadata": {
        "id": "dEnQeqGa4cII"
      },
      "outputs": [],
      "source": [
        "device = torch.device(\"cuda\" if torch.cuda.is_available() else \"cpu\")"
      ],
      "id": "dEnQeqGa4cII"
    },
    {
      "cell_type": "code",
      "execution_count": null,
      "metadata": {
        "id": "I3nFu75y3Iqi"
      },
      "outputs": [],
      "source": [
        "from sklearn.metrics import f1_score, precision_score, recall_score\n",
        "def evaluate_accuracy(test_iter, net, device=device):\n",
        "    pred_all = []\n",
        "    label_all = []\n",
        "    metric = [0, 0]\n",
        "    with torch.no_grad():\n",
        "        for X, y in test_iter:\n",
        "            net.eval()\n",
        "            X = X.to(device)\n",
        "            y = y.to(device)\n",
        "            net = net.to(device)\n",
        "            y_hat = net(X)\n",
        "            metric[0] += (y_hat.argmax(dim=1) == y).sum().item()\n",
        "            metric[1] += len(y)\n",
        "            pred_all.extend(y_hat.argmax(dim=1).cpu())\n",
        "            label_all.extend(y.cpu())\n",
        "            l_loss = loss(y_hat, y)\n",
        "            \n",
        "        precision = precision_score(label_all,pred_all,average='macro')\n",
        "        recall = recall_score(label_all,pred_all,average='macro')\n",
        "        f1 = f1_score(label_all,pred_all,average='macro')\n",
        "            \n",
        "    return l_loss.item(), metric[0]/metric[1], precision, recall, f1\n",
        "\n",
        "def metricss(y_true, y_pred):\n",
        "    pre = precision_score(y_true, y_pred, average='macro')\n",
        "    recall = recall_score(y_true, y_pred, average='macro')\n",
        "    f1 = f1_score(y_true, y_pred, average='macro')\n",
        "    return {'1pre': pre,'2recall': recall,'3f1': f1}\n",
        "\n",
        "def plot_metricss():\n",
        "  # plt.plot(training_history[\"epoch\"], training_history[\"train_loss\"])\n",
        "  # plt.plot(training_history[\"epoch\"], training_history[\"test_loss\"])\n",
        "  # plt.plot(training_history[\"epoch\"], training_history[\"train_accuracy\"])\n",
        "  # plt.plot(training_history[\"epoch\"], training_history[\"test_accuracy\"])\n",
        "\n",
        "  # plt.xlabel(\"number of epochs\")\n",
        "  # plt.ylabel(\"objective function\")\n",
        "  # plt.legend([\"train_loss\",\"test_loss\",\"train_accuracy\", \"test_accuracy\"])\n",
        "\n",
        "    history_df = pd.DataFrame(training_history)\n",
        "    fig, ax = plt.subplots(1,2, figsize=(12, 6))\n",
        "    \n",
        "    history_df.loc[0:, ['train_loss', 'test_loss']].plot(ax=ax[0])\n",
        "    ax[0].set(xlabel = 'epoch number', ylabel = 'loss')\n",
        "\n",
        "    history_df.loc[0:, ['train_accuracy', 'test_accuracy']].plot(ax=ax[1])\n",
        "    ax[1].set(xlabel = 'epoch number', ylabel = 'accuracy')"
      ],
      "id": "I3nFu75y3Iqi"
    },
    {
      "cell_type": "code",
      "execution_count": null,
      "metadata": {
        "id": "edW7Ce5d3fyJ"
      },
      "outputs": [],
      "source": [
        "def train(model):\n",
        "  since = time.time()\n",
        "  for epoch in range(num_epochs):\n",
        "      metric = [0, 0, 0]\n",
        "      model.train()\n",
        "      total_y, total_pred_label = [], []\n",
        "      \n",
        "      for X, y in train_loader:\n",
        "          X = X.to(device)\n",
        "          y = y.to(device)\n",
        "          y_hat = model(X)\n",
        "          l = loss(y_hat, y)\n",
        "          optimizer.zero_grad()\n",
        "          l.backward()\n",
        "          optimizer.step()\n",
        "          metric[0] += l.item()*len(y)\n",
        "          metric[1] += (y_hat.argmax(dim=1) == y).sum().item()\n",
        "          metric[2] += len(y)\n",
        "          \n",
        "          total_y.extend(y.cpu())\n",
        "          total_pred_label.extend(y_hat.argmax(dim=1).cpu())\n",
        "\n",
        "      with torch.no_grad():\n",
        "          train_l = metric[0]/metric[2]\n",
        "          train_acc = metric[1]/metric[2]\n",
        "          test_l, test_acc, test_pre,test_recall,test_f1 = evaluate_accuracy(valid_loader, model, device)\n",
        "      \n",
        "          metric_score = metricss(np.array(total_y), np.array(total_pred_label))\n",
        "          sorted_metric_score = sorted(metric_score.items(), key=lambda x: x[0])\n",
        "          metrics_string = '\\t'.join(['loss'] +['acc']+ [metric_name[1:] for metric_name, _ in sorted_metric_score])\n",
        "          score_string = '\\t'.join(['{:.4f}'.format(train_l)] + ['{:.4f}'.format(train_acc)]+['{:.4f}'.format(score) for _, score in sorted_metric_score])\n",
        "          print(\"{}{}\\t{}\".format('epoch', epoch, metrics_string))\n",
        "          print(\"{}{}\\t{}\".format('train', '', score_string))\n",
        "\n",
        "          training_history[\"train_loss\"].append(train_l)\n",
        "          training_history[\"train_accuracy\"].append(train_acc)    \n",
        "          training_history[\"epoch\"].append(epoch)\n",
        "          training_history[\"test_loss\"].append(test_l)\n",
        "          training_history[\"test_accuracy\"].append(test_acc)\n",
        "          print(\"{}{}\\t{:.4f}\\t{:.4f}\\t{:.4f}\\t{:.4f}\\t{:.4f}\".format('test', '', test_l, test_acc, test_pre, test_recall, test_f1))  \n",
        "\n",
        "  time_elapsed = time.time() - since\n",
        "  print('Training completed in {:.0f}m {:.0f}s'.format(time_elapsed // 60, time_elapsed % 60))"
      ],
      "id": "edW7Ce5d3fyJ"
    },
    {
      "cell_type": "markdown",
      "metadata": {
        "id": "cdaagowc1wz4"
      },
      "source": [
        "## CNN Model"
      ],
      "id": "cdaagowc1wz4"
    },
    {
      "cell_type": "code",
      "execution_count": null,
      "metadata": {
        "id": "f875cad2"
      },
      "outputs": [],
      "source": [
        "class CNN(nn.Module):\n",
        "    def __init__(self,in_channels, out_channels):\n",
        "        super().__init__()\n",
        "        self.conv1 = nn.Conv2d(in_channels, 32, 3, 1)\n",
        "        self.conv2 = nn.Conv2d(32, 64, 3, 1)\n",
        "        self.dropout1 = nn.Dropout(0.25)\n",
        "        self.dropout2 = nn.Dropout(0.5)\n",
        "        #you may need to change the numbers when given an input of different dimensions\n",
        "        self.fc1 = nn.Linear(774400, 128)\n",
        "        self.fc2 = nn.Linear(128, out_channels)\n",
        "\n",
        "    def forward(self, x):\n",
        "        x = self.conv1(x)\n",
        "        x = F.relu(x)\n",
        "        x = self.conv2(x)\n",
        "        x = F.relu(x)\n",
        "        x = F.max_pool2d(x, 2)\n",
        "        x = self.dropout1(x)\n",
        "        x = torch.flatten(x, 1)\n",
        "        x = self.fc1(x)\n",
        "        x = F.relu(x)\n",
        "        x = self.dropout2(x)\n",
        "        x = self.fc2(x)\n",
        "        output = F.log_softmax(x, dim=1)\n",
        "        return output"
      ],
      "id": "f875cad2"
    },
    {
      "cell_type": "code",
      "execution_count": null,
      "metadata": {
        "colab": {
          "base_uri": "https://localhost:8080/"
        },
        "id": "iClQJpJ-3vKn",
        "outputId": "047d9247-0e46-4060-83fb-11570f6452af"
      },
      "outputs": [
        {
          "output_type": "stream",
          "name": "stdout",
          "text": [
            "epoch0\tloss\tacc\tpre\trecall\tf1\n",
            "train\t0.5865\t0.7749\t0.4495\t0.3971\t0.4088\n",
            "test\t1.8851\t0.7920\t0.2640\t0.3333\t0.2946\n",
            "epoch1\tloss\tacc\tpre\trecall\tf1\n",
            "train\t0.3758\t0.8695\t0.5363\t0.5421\t0.5390\n",
            "test\t1.4476\t0.7920\t0.2640\t0.3333\t0.2946\n",
            "epoch2\tloss\tacc\tpre\trecall\tf1\n",
            "train\t0.3692\t0.8787\t0.5415\t0.5595\t0.5504\n",
            "test\t3.1438\t0.7920\t0.2640\t0.3333\t0.2946\n",
            "epoch3\tloss\tacc\tpre\trecall\tf1\n",
            "train\t0.3616\t0.8876\t0.5526\t0.5692\t0.5608\n",
            "test\t4.0044\t0.7972\t0.5987\t0.3432\t0.3147\n",
            "epoch4\tloss\tacc\tpre\trecall\tf1\n",
            "train\t0.3518\t0.8805\t0.5438\t0.5648\t0.5541\n",
            "test\t3.8600\t0.7920\t0.2640\t0.3333\t0.2946\n",
            "Training completed in 1m 51s\n"
          ]
        }
      ],
      "source": [
        "num_epochs = 5\n",
        "model = CNN(3,3).to(device)\n",
        "loss = nn.CrossEntropyLoss()\n",
        "optimizer = optim.SGD(model.parameters(), lr=1e-2, momentum=0.7)\n",
        "training_history = {\"train_loss\": [], \"train_accuracy\": [], \"epoch\": [], \"test_loss\": [], \"test_accuracy\": []}\n",
        "train(model)"
      ],
      "id": "iClQJpJ-3vKn"
    },
    {
      "cell_type": "code",
      "execution_count": null,
      "metadata": {
        "id": "6-EWpaD24qs4",
        "colab": {
          "base_uri": "https://localhost:8080/",
          "height": 388
        },
        "outputId": "7da748ed-f22f-4b85-817c-a17a11bbc8cd"
      },
      "outputs": [
        {
          "output_type": "display_data",
          "data": {
            "text/plain": [
              "<Figure size 864x432 with 2 Axes>"
            ],
            "image/png": "[encoded data removed]"
          },
          "metadata": {
            "needs_background": "light"
          }
        }
      ],
      "source": [
        "plot_metricss()"
      ],
      "id": "6-EWpaD24qs4"
    },
    {
      "cell_type": "markdown",
      "metadata": {
        "id": "3HhoYHh64rM0"
      },
      "source": [
        "## Densnet161"
      ],
      "id": "3HhoYHh64rM0"
    },
    {
      "cell_type": "code",
      "source": [
        "import torch\n",
        "torch.cuda.empty_cache()"
      ],
      "metadata": {
        "id": "LQPN3YoHXPgu"
      },
      "id": "LQPN3YoHXPgu",
      "execution_count": null,
      "outputs": []
    },
    {
      "cell_type": "code",
      "execution_count": null,
      "metadata": {
        "id": "yelekol2wMpX",
        "colab": {
          "base_uri": "https://localhost:8080/",
          "height": 86,
          "referenced_widgets": [
            "9c14a753c0cc483199f673675d13f301",
            "d568d11ab19f4e4b872b92570ab60624",
            "60d1f9af46bb4a1bae86efb601ecb556",
            "91156477a80b461f901e89616ea37a4e",
            "7c54488c6bd8446c90b22efc730d16ac",
            "091523b09920426594b9873cf9a0d29f",
            "627217d4d3ec44d19290af9210c6a188",
            "e6f34162043c47068599574fa7fe417f",
            "095bdbcfc0e54f0ea98ccb2f11388a23",
            "9bbcadecb7074eb684402e79d1d6db8f",
            "a2a8013f8a0d4dbab233aa803096ef47"
          ]
        },
        "outputId": "1db0c8fa-6393-4592-a54d-f030e7ef8e9a"
      },
      "outputs": [
        {
          "output_type": "stream",
          "name": "stderr",
          "text": [
            "Downloading: \"https://download.pytorch.org/models/densenet161-8d451a50.pth\" to /root/.cache/torch/hub/checkpoints/densenet161-8d451a50.pth\n"
          ]
        },
        {
          "output_type": "display_data",
          "data": {
            "text/plain": [
              "  0%|          | 0.00/110M [00:00<?, ?B/s]"
            ],
            "application/vnd.jupyter.widget-view+json": {
              "version_major": 2,
              "version_minor": 0,
              "model_id": "9c14a753c0cc483199f673675d13f301"
            }
          },
          "metadata": {}
        }
      ],
      "source": [
        "model = models.densenet161(pretrained=True)\n",
        "for param in model.parameters():\n",
        "    param.requires_grad=True\n",
        "n_inputs = model.classifier.in_features\n",
        "last_layer = nn.Linear(n_inputs, 3)\n",
        "model.classifier.out_features = last_layer"
      ],
      "id": "yelekol2wMpX"
    },
    {
      "cell_type": "code",
      "execution_count": null,
      "metadata": {
        "colab": {
          "base_uri": "https://localhost:8080/",
          "height": 460
        },
        "id": "FgBYSJnb4-2v",
        "outputId": "1bb0b2d0-5a43-4bb6-9767-c5a4968da172"
      },
      "outputs": [
        {
          "output_type": "error",
          "ename": "OutOfMemoryError",
          "evalue": "ignored",
          "traceback": [
            "\u001b[0;31m---------------------------------------------------------------------------\u001b[0m",
            "\u001b[0;31mOutOfMemoryError\u001b[0m                          Traceback (most recent call last)",
            "\u001b[0;32m<ipython-input-12-3fa95bf2cf1c>\u001b[0m in \u001b[0;36m<module>\u001b[0;34m\u001b[0m\n\u001b[1;32m      4\u001b[0m \u001b[0moptimizer\u001b[0m \u001b[0;34m=\u001b[0m \u001b[0moptim\u001b[0m\u001b[0;34m.\u001b[0m\u001b[0mSGD\u001b[0m\u001b[0;34m(\u001b[0m\u001b[0mmodel\u001b[0m\u001b[0;34m.\u001b[0m\u001b[0mparameters\u001b[0m\u001b[0;34m(\u001b[0m\u001b[0;34m)\u001b[0m\u001b[0;34m,\u001b[0m \u001b[0mlr\u001b[0m\u001b[0;34m=\u001b[0m\u001b[0;36m1e-2\u001b[0m\u001b[0;34m,\u001b[0m \u001b[0mmomentum\u001b[0m\u001b[0;34m=\u001b[0m\u001b[0;36m0.7\u001b[0m\u001b[0;34m)\u001b[0m\u001b[0;34m\u001b[0m\u001b[0;34m\u001b[0m\u001b[0m\n\u001b[1;32m      5\u001b[0m \u001b[0mtraining_history\u001b[0m \u001b[0;34m=\u001b[0m \u001b[0;34m{\u001b[0m\u001b[0;34m\"train_loss\"\u001b[0m\u001b[0;34m:\u001b[0m \u001b[0;34m[\u001b[0m\u001b[0;34m]\u001b[0m\u001b[0;34m,\u001b[0m \u001b[0;34m\"train_accuracy\"\u001b[0m\u001b[0;34m:\u001b[0m \u001b[0;34m[\u001b[0m\u001b[0;34m]\u001b[0m\u001b[0;34m,\u001b[0m \u001b[0;34m\"epoch\"\u001b[0m\u001b[0;34m:\u001b[0m \u001b[0;34m[\u001b[0m\u001b[0;34m]\u001b[0m\u001b[0;34m,\u001b[0m \u001b[0;34m\"test_loss\"\u001b[0m\u001b[0;34m:\u001b[0m \u001b[0;34m[\u001b[0m\u001b[0;34m]\u001b[0m\u001b[0;34m,\u001b[0m \u001b[0;34m\"test_accuracy\"\u001b[0m\u001b[0;34m:\u001b[0m \u001b[0;34m[\u001b[0m\u001b[0;34m]\u001b[0m\u001b[0;34m}\u001b[0m\u001b[0;34m\u001b[0m\u001b[0;34m\u001b[0m\u001b[0m\n\u001b[0;32m----> 6\u001b[0;31m \u001b[0mtrain\u001b[0m\u001b[0;34m(\u001b[0m\u001b[0mmodel\u001b[0m\u001b[0;34m)\u001b[0m\u001b[0;34m\u001b[0m\u001b[0;34m\u001b[0m\u001b[0m\n\u001b[0m",
            "\u001b[0;32m<ipython-input-9-d3e1da99933d>\u001b[0m in \u001b[0;36mtrain\u001b[0;34m(model)\u001b[0m\n\u001b[1;32m      9\u001b[0m           \u001b[0mX\u001b[0m \u001b[0;34m=\u001b[0m \u001b[0mX\u001b[0m\u001b[0;34m.\u001b[0m\u001b[0mto\u001b[0m\u001b[0;34m(\u001b[0m\u001b[0mdevice\u001b[0m\u001b[0;34m)\u001b[0m\u001b[0;34m\u001b[0m\u001b[0;34m\u001b[0m\u001b[0m\n\u001b[1;32m     10\u001b[0m           \u001b[0my\u001b[0m \u001b[0;34m=\u001b[0m \u001b[0my\u001b[0m\u001b[0;34m.\u001b[0m\u001b[0mto\u001b[0m\u001b[0;34m(\u001b[0m\u001b[0mdevice\u001b[0m\u001b[0;34m)\u001b[0m\u001b[0;34m\u001b[0m\u001b[0;34m\u001b[0m\u001b[0m\n\u001b[0;32m---> 11\u001b[0;31m           \u001b[0my_hat\u001b[0m \u001b[0;34m=\u001b[0m \u001b[0mmodel\u001b[0m\u001b[0;34m(\u001b[0m\u001b[0mX\u001b[0m\u001b[0;34m)\u001b[0m\u001b[0;34m\u001b[0m\u001b[0;34m\u001b[0m\u001b[0m\n\u001b[0m\u001b[1;32m     12\u001b[0m           \u001b[0ml\u001b[0m \u001b[0;34m=\u001b[0m \u001b[0mloss\u001b[0m\u001b[0;34m(\u001b[0m\u001b[0my_hat\u001b[0m\u001b[0;34m,\u001b[0m \u001b[0my\u001b[0m\u001b[0;34m)\u001b[0m\u001b[0;34m\u001b[0m\u001b[0;34m\u001b[0m\u001b[0m\n\u001b[1;32m     13\u001b[0m           \u001b[0moptimizer\u001b[0m\u001b[0;34m.\u001b[0m\u001b[0mzero_grad\u001b[0m\u001b[0;34m(\u001b[0m\u001b[0;34m)\u001b[0m\u001b[0;34m\u001b[0m\u001b[0;34m\u001b[0m\u001b[0m\n",
            "\u001b[0;32m/usr/local/lib/python3.8/dist-packages/torch/nn/modules/module.py\u001b[0m in \u001b[0;36m_call_impl\u001b[0;34m(self, *input, **kwargs)\u001b[0m\n\u001b[1;32m   1188\u001b[0m         if not (self._backward_hooks or self._forward_hooks or self._forward_pre_hooks or _global_backward_hooks\n\u001b[1;32m   1189\u001b[0m                 or _global_forward_hooks or _global_forward_pre_hooks):\n\u001b[0;32m-> 1190\u001b[0;31m             \u001b[0;32mreturn\u001b[0m \u001b[0mforward_call\u001b[0m\u001b[0;34m(\u001b[0m\u001b[0;34m*\u001b[0m\u001b[0minput\u001b[0m\u001b[0;34m,\u001b[0m \u001b[0;34m**\u001b[0m\u001b[0mkwargs\u001b[0m\u001b[0;34m)\u001b[0m\u001b[0;34m\u001b[0m\u001b[0;34m\u001b[0m\u001b[0m\n\u001b[0m\u001b[1;32m   1191\u001b[0m         \u001b[0;31m# Do not call functions when jit is used\u001b[0m\u001b[0;34m\u001b[0m\u001b[0;34m\u001b[0m\u001b[0;34m\u001b[0m\u001b[0m\n\u001b[1;32m   1192\u001b[0m         \u001b[0mfull_backward_hooks\u001b[0m\u001b[0;34m,\u001b[0m \u001b[0mnon_full_backward_hooks\u001b[0m \u001b[0;34m=\u001b[0m \u001b[0;34m[\u001b[0m\u001b[0;34m]\u001b[0m\u001b[0;34m,\u001b[0m \u001b[0;34m[\u001b[0m\u001b[0;34m]\u001b[0m\u001b[0;34m\u001b[0m\u001b[0;34m\u001b[0m\u001b[0m\n",
            "\u001b[0;32m/usr/local/lib/python3.8/dist-packages/torchvision/models/densenet.py\u001b[0m in \u001b[0;36mforward\u001b[0;34m(self, x)\u001b[0m\n\u001b[1;32m    212\u001b[0m \u001b[0;34m\u001b[0m\u001b[0m\n\u001b[1;32m    213\u001b[0m     \u001b[0;32mdef\u001b[0m \u001b[0mforward\u001b[0m\u001b[0;34m(\u001b[0m\u001b[0mself\u001b[0m\u001b[0;34m,\u001b[0m \u001b[0mx\u001b[0m\u001b[0;34m:\u001b[0m \u001b[0mTensor\u001b[0m\u001b[0;34m)\u001b[0m \u001b[0;34m->\u001b[0m \u001b[0mTensor\u001b[0m\u001b[0;34m:\u001b[0m\u001b[0;34m\u001b[0m\u001b[0;34m\u001b[0m\u001b[0m\n\u001b[0;32m--> 214\u001b[0;31m         \u001b[0mfeatures\u001b[0m \u001b[0;34m=\u001b[0m \u001b[0mself\u001b[0m\u001b[0;34m.\u001b[0m\u001b[0mfeatures\u001b[0m\u001b[0;34m(\u001b[0m\u001b[0mx\u001b[0m\u001b[0;34m)\u001b[0m\u001b[0;34m\u001b[0m\u001b[0;34m\u001b[0m\u001b[0m\n\u001b[0m\u001b[1;32m    215\u001b[0m         \u001b[0mout\u001b[0m \u001b[0;34m=\u001b[0m \u001b[0mF\u001b[0m\u001b[0;34m.\u001b[0m\u001b[0mrelu\u001b[0m\u001b[0;34m(\u001b[0m\u001b[0mfeatures\u001b[0m\u001b[0;34m,\u001b[0m \u001b[0minplace\u001b[0m\u001b[0;34m=\u001b[0m\u001b[0;32mTrue\u001b[0m\u001b[0;34m)\u001b[0m\u001b[0;34m\u001b[0m\u001b[0;34m\u001b[0m\u001b[0m\n\u001b[1;32m    216\u001b[0m         \u001b[0mout\u001b[0m \u001b[0;34m=\u001b[0m \u001b[0mF\u001b[0m\u001b[0;34m.\u001b[0m\u001b[0madaptive_avg_pool2d\u001b[0m\u001b[0;34m(\u001b[0m\u001b[0mout\u001b[0m\u001b[0;34m,\u001b[0m \u001b[0;34m(\u001b[0m\u001b[0;36m1\u001b[0m\u001b[0;34m,\u001b[0m \u001b[0;36m1\u001b[0m\u001b[0;34m)\u001b[0m\u001b[0;34m)\u001b[0m\u001b[0;34m\u001b[0m\u001b[0;34m\u001b[0m\u001b[0m\n",
            "\u001b[0;32m/usr/local/lib/python3.8/dist-packages/torch/nn/modules/module.py\u001b[0m in \u001b[0;36m_call_impl\u001b[0;34m(self, *input, **kwargs)\u001b[0m\n\u001b[1;32m   1188\u001b[0m         if not (self._backward_hooks or self._forward_hooks or self._forward_pre_hooks or _global_backward_hooks\n\u001b[1;32m   1189\u001b[0m                 or _global_forward_hooks or _global_forward_pre_hooks):\n\u001b[0;32m-> 1190\u001b[0;31m             \u001b[0;32mreturn\u001b[0m \u001b[0mforward_call\u001b[0m\u001b[0;34m(\u001b[0m\u001b[0;34m*\u001b[0m\u001b[0minput\u001b[0m\u001b[0;34m,\u001b[0m \u001b[0;34m**\u001b[0m\u001b[0mkwargs\u001b[0m\u001b[0;34m)\u001b[0m\u001b[0;34m\u001b[0m\u001b[0;34m\u001b[0m\u001b[0m\n\u001b[0m\u001b[1;32m   1191\u001b[0m         \u001b[0;31m# Do not call functions when jit is used\u001b[0m\u001b[0;34m\u001b[0m\u001b[0;34m\u001b[0m\u001b[0;34m\u001b[0m\u001b[0m\n\u001b[1;32m   1192\u001b[0m         \u001b[0mfull_backward_hooks\u001b[0m\u001b[0;34m,\u001b[0m \u001b[0mnon_full_backward_hooks\u001b[0m \u001b[0;34m=\u001b[0m \u001b[0;34m[\u001b[0m\u001b[0;34m]\u001b[0m\u001b[0;34m,\u001b[0m \u001b[0;34m[\u001b[0m\u001b[0;34m]\u001b[0m\u001b[0;34m\u001b[0m\u001b[0;34m\u001b[0m\u001b[0m\n",
            "\u001b[0;32m/usr/local/lib/python3.8/dist-packages/torch/nn/modules/container.py\u001b[0m in \u001b[0;36mforward\u001b[0;34m(self, input)\u001b[0m\n\u001b[1;32m    202\u001b[0m     \u001b[0;32mdef\u001b[0m \u001b[0mforward\u001b[0m\u001b[0;34m(\u001b[0m\u001b[0mself\u001b[0m\u001b[0;34m,\u001b[0m \u001b[0minput\u001b[0m\u001b[0;34m)\u001b[0m\u001b[0;34m:\u001b[0m\u001b[0;34m\u001b[0m\u001b[0;34m\u001b[0m\u001b[0m\n\u001b[1;32m    203\u001b[0m         \u001b[0;32mfor\u001b[0m \u001b[0mmodule\u001b[0m \u001b[0;32min\u001b[0m \u001b[0mself\u001b[0m\u001b[0;34m:\u001b[0m\u001b[0;34m\u001b[0m\u001b[0;34m\u001b[0m\u001b[0m\n\u001b[0;32m--> 204\u001b[0;31m             \u001b[0minput\u001b[0m \u001b[0;34m=\u001b[0m \u001b[0mmodule\u001b[0m\u001b[0;34m(\u001b[0m\u001b[0minput\u001b[0m\u001b[0;34m)\u001b[0m\u001b[0;34m\u001b[0m\u001b[0;34m\u001b[0m\u001b[0m\n\u001b[0m\u001b[1;32m    205\u001b[0m         \u001b[0;32mreturn\u001b[0m \u001b[0minput\u001b[0m\u001b[0;34m\u001b[0m\u001b[0;34m\u001b[0m\u001b[0m\n\u001b[1;32m    206\u001b[0m \u001b[0;34m\u001b[0m\u001b[0m\n",
            "\u001b[0;32m/usr/local/lib/python3.8/dist-packages/torch/nn/modules/module.py\u001b[0m in \u001b[0;36m_call_impl\u001b[0;34m(self, *input, **kwargs)\u001b[0m\n\u001b[1;32m   1188\u001b[0m         if not (self._backward_hooks or self._forward_hooks or self._forward_pre_hooks or _global_backward_hooks\n\u001b[1;32m   1189\u001b[0m                 or _global_forward_hooks or _global_forward_pre_hooks):\n\u001b[0;32m-> 1190\u001b[0;31m             \u001b[0;32mreturn\u001b[0m \u001b[0mforward_call\u001b[0m\u001b[0;34m(\u001b[0m\u001b[0;34m*\u001b[0m\u001b[0minput\u001b[0m\u001b[0;34m,\u001b[0m \u001b[0;34m**\u001b[0m\u001b[0mkwargs\u001b[0m\u001b[0;34m)\u001b[0m\u001b[0;34m\u001b[0m\u001b[0;34m\u001b[0m\u001b[0m\n\u001b[0m\u001b[1;32m   1191\u001b[0m         \u001b[0;31m# Do not call functions when jit is used\u001b[0m\u001b[0;34m\u001b[0m\u001b[0;34m\u001b[0m\u001b[0;34m\u001b[0m\u001b[0m\n\u001b[1;32m   1192\u001b[0m         \u001b[0mfull_backward_hooks\u001b[0m\u001b[0;34m,\u001b[0m \u001b[0mnon_full_backward_hooks\u001b[0m \u001b[0;34m=\u001b[0m \u001b[0;34m[\u001b[0m\u001b[0;34m]\u001b[0m\u001b[0;34m,\u001b[0m \u001b[0;34m[\u001b[0m\u001b[0;34m]\u001b[0m\u001b[0;34m\u001b[0m\u001b[0;34m\u001b[0m\u001b[0m\n",
            "\u001b[0;32m/usr/local/lib/python3.8/dist-packages/torchvision/models/densenet.py\u001b[0m in \u001b[0;36mforward\u001b[0;34m(self, init_features)\u001b[0m\n\u001b[1;32m    121\u001b[0m         \u001b[0mfeatures\u001b[0m \u001b[0;34m=\u001b[0m \u001b[0;34m[\u001b[0m\u001b[0minit_features\u001b[0m\u001b[0;34m]\u001b[0m\u001b[0;34m\u001b[0m\u001b[0;34m\u001b[0m\u001b[0m\n\u001b[1;32m    122\u001b[0m         \u001b[0;32mfor\u001b[0m \u001b[0mname\u001b[0m\u001b[0;34m,\u001b[0m \u001b[0mlayer\u001b[0m \u001b[0;32min\u001b[0m \u001b[0mself\u001b[0m\u001b[0;34m.\u001b[0m\u001b[0mitems\u001b[0m\u001b[0;34m(\u001b[0m\u001b[0;34m)\u001b[0m\u001b[0;34m:\u001b[0m\u001b[0;34m\u001b[0m\u001b[0;34m\u001b[0m\u001b[0m\n\u001b[0;32m--> 123\u001b[0;31m             \u001b[0mnew_features\u001b[0m \u001b[0;34m=\u001b[0m \u001b[0mlayer\u001b[0m\u001b[0;34m(\u001b[0m\u001b[0mfeatures\u001b[0m\u001b[0;34m)\u001b[0m\u001b[0;34m\u001b[0m\u001b[0;34m\u001b[0m\u001b[0m\n\u001b[0m\u001b[1;32m    124\u001b[0m             \u001b[0mfeatures\u001b[0m\u001b[0;34m.\u001b[0m\u001b[0mappend\u001b[0m\u001b[0;34m(\u001b[0m\u001b[0mnew_features\u001b[0m\u001b[0;34m)\u001b[0m\u001b[0;34m\u001b[0m\u001b[0;34m\u001b[0m\u001b[0m\n\u001b[1;32m    125\u001b[0m         \u001b[0;32mreturn\u001b[0m \u001b[0mtorch\u001b[0m\u001b[0;34m.\u001b[0m\u001b[0mcat\u001b[0m\u001b[0;34m(\u001b[0m\u001b[0mfeatures\u001b[0m\u001b[0;34m,\u001b[0m \u001b[0;36m1\u001b[0m\u001b[0;34m)\u001b[0m\u001b[0;34m\u001b[0m\u001b[0;34m\u001b[0m\u001b[0m\n",
            "\u001b[0;32m/usr/local/lib/python3.8/dist-packages/torch/nn/modules/module.py\u001b[0m in \u001b[0;36m_call_impl\u001b[0;34m(self, *input, **kwargs)\u001b[0m\n\u001b[1;32m   1188\u001b[0m         if not (self._backward_hooks or self._forward_hooks or self._forward_pre_hooks or _global_backward_hooks\n\u001b[1;32m   1189\u001b[0m                 or _global_forward_hooks or _global_forward_pre_hooks):\n\u001b[0;32m-> 1190\u001b[0;31m             \u001b[0;32mreturn\u001b[0m \u001b[0mforward_call\u001b[0m\u001b[0;34m(\u001b[0m\u001b[0;34m*\u001b[0m\u001b[0minput\u001b[0m\u001b[0;34m,\u001b[0m \u001b[0;34m**\u001b[0m\u001b[0mkwargs\u001b[0m\u001b[0;34m)\u001b[0m\u001b[0;34m\u001b[0m\u001b[0;34m\u001b[0m\u001b[0m\n\u001b[0m\u001b[1;32m   1191\u001b[0m         \u001b[0;31m# Do not call functions when jit is used\u001b[0m\u001b[0;34m\u001b[0m\u001b[0;34m\u001b[0m\u001b[0;34m\u001b[0m\u001b[0m\n\u001b[1;32m   1192\u001b[0m         \u001b[0mfull_backward_hooks\u001b[0m\u001b[0;34m,\u001b[0m \u001b[0mnon_full_backward_hooks\u001b[0m \u001b[0;34m=\u001b[0m \u001b[0;34m[\u001b[0m\u001b[0;34m]\u001b[0m\u001b[0;34m,\u001b[0m \u001b[0;34m[\u001b[0m\u001b[0;34m]\u001b[0m\u001b[0;34m\u001b[0m\u001b[0;34m\u001b[0m\u001b[0m\n",
            "\u001b[0;32m/usr/local/lib/python3.8/dist-packages/torchvision/models/densenet.py\u001b[0m in \u001b[0;36mforward\u001b[0;34m(self, input)\u001b[0m\n\u001b[1;32m     87\u001b[0m             \u001b[0mbottleneck_output\u001b[0m \u001b[0;34m=\u001b[0m \u001b[0mself\u001b[0m\u001b[0;34m.\u001b[0m\u001b[0mcall_checkpoint_bottleneck\u001b[0m\u001b[0;34m(\u001b[0m\u001b[0mprev_features\u001b[0m\u001b[0;34m)\u001b[0m\u001b[0;34m\u001b[0m\u001b[0;34m\u001b[0m\u001b[0m\n\u001b[1;32m     88\u001b[0m         \u001b[0;32melse\u001b[0m\u001b[0;34m:\u001b[0m\u001b[0;34m\u001b[0m\u001b[0;34m\u001b[0m\u001b[0m\n\u001b[0;32m---> 89\u001b[0;31m             \u001b[0mbottleneck_output\u001b[0m \u001b[0;34m=\u001b[0m \u001b[0mself\u001b[0m\u001b[0;34m.\u001b[0m\u001b[0mbn_function\u001b[0m\u001b[0;34m(\u001b[0m\u001b[0mprev_features\u001b[0m\u001b[0;34m)\u001b[0m\u001b[0;34m\u001b[0m\u001b[0;34m\u001b[0m\u001b[0m\n\u001b[0m\u001b[1;32m     90\u001b[0m \u001b[0;34m\u001b[0m\u001b[0m\n\u001b[1;32m     91\u001b[0m         \u001b[0mnew_features\u001b[0m \u001b[0;34m=\u001b[0m \u001b[0mself\u001b[0m\u001b[0;34m.\u001b[0m\u001b[0mconv2\u001b[0m\u001b[0;34m(\u001b[0m\u001b[0mself\u001b[0m\u001b[0;34m.\u001b[0m\u001b[0mrelu2\u001b[0m\u001b[0;34m(\u001b[0m\u001b[0mself\u001b[0m\u001b[0;34m.\u001b[0m\u001b[0mnorm2\u001b[0m\u001b[0;34m(\u001b[0m\u001b[0mbottleneck_output\u001b[0m\u001b[0;34m)\u001b[0m\u001b[0;34m)\u001b[0m\u001b[0;34m)\u001b[0m\u001b[0;34m\u001b[0m\u001b[0;34m\u001b[0m\u001b[0m\n",
            "\u001b[0;32m/usr/local/lib/python3.8/dist-packages/torchvision/models/densenet.py\u001b[0m in \u001b[0;36mbn_function\u001b[0;34m(self, inputs)\u001b[0m\n\u001b[1;32m     47\u001b[0m \u001b[0;34m\u001b[0m\u001b[0m\n\u001b[1;32m     48\u001b[0m     \u001b[0;32mdef\u001b[0m \u001b[0mbn_function\u001b[0m\u001b[0;34m(\u001b[0m\u001b[0mself\u001b[0m\u001b[0;34m,\u001b[0m \u001b[0minputs\u001b[0m\u001b[0;34m:\u001b[0m \u001b[0mList\u001b[0m\u001b[0;34m[\u001b[0m\u001b[0mTensor\u001b[0m\u001b[0;34m]\u001b[0m\u001b[0;34m)\u001b[0m \u001b[0;34m->\u001b[0m \u001b[0mTensor\u001b[0m\u001b[0;34m:\u001b[0m\u001b[0;34m\u001b[0m\u001b[0;34m\u001b[0m\u001b[0m\n\u001b[0;32m---> 49\u001b[0;31m         \u001b[0mconcated_features\u001b[0m \u001b[0;34m=\u001b[0m \u001b[0mtorch\u001b[0m\u001b[0;34m.\u001b[0m\u001b[0mcat\u001b[0m\u001b[0;34m(\u001b[0m\u001b[0minputs\u001b[0m\u001b[0;34m,\u001b[0m \u001b[0;36m1\u001b[0m\u001b[0;34m)\u001b[0m\u001b[0;34m\u001b[0m\u001b[0;34m\u001b[0m\u001b[0m\n\u001b[0m\u001b[1;32m     50\u001b[0m         \u001b[0mbottleneck_output\u001b[0m \u001b[0;34m=\u001b[0m \u001b[0mself\u001b[0m\u001b[0;34m.\u001b[0m\u001b[0mconv1\u001b[0m\u001b[0;34m(\u001b[0m\u001b[0mself\u001b[0m\u001b[0;34m.\u001b[0m\u001b[0mrelu1\u001b[0m\u001b[0;34m(\u001b[0m\u001b[0mself\u001b[0m\u001b[0;34m.\u001b[0m\u001b[0mnorm1\u001b[0m\u001b[0;34m(\u001b[0m\u001b[0mconcated_features\u001b[0m\u001b[0;34m)\u001b[0m\u001b[0;34m)\u001b[0m\u001b[0;34m)\u001b[0m  \u001b[0;31m# noqa: T484\u001b[0m\u001b[0;34m\u001b[0m\u001b[0;34m\u001b[0m\u001b[0m\n\u001b[1;32m     51\u001b[0m         \u001b[0;32mreturn\u001b[0m \u001b[0mbottleneck_output\u001b[0m\u001b[0;34m\u001b[0m\u001b[0;34m\u001b[0m\u001b[0m\n",
            "\u001b[0;31mOutOfMemoryError\u001b[0m: CUDA out of memory. Tried to allocate 204.00 MiB (GPU 0; 14.76 GiB total capacity; 13.34 GiB already allocated; 103.75 MiB free; 13.60 GiB reserved in total by PyTorch) If reserved memory is >> allocated memory try setting max_split_size_mb to avoid fragmentation.  See documentation for Memory Management and PYTORCH_CUDA_ALLOC_CONF"
          ]
        }
      ],
      "source": [
        "num_epochs = 5\n",
        "model = model.to(device)\n",
        "loss = nn.CrossEntropyLoss()\n",
        "optimizer = optim.SGD(model.parameters(), lr=1e-2, momentum=0.7)\n",
        "training_history = {\"train_loss\": [], \"train_accuracy\": [], \"epoch\": [], \"test_loss\": [], \"test_accuracy\": []}\n",
        "train(model)"
      ],
      "id": "FgBYSJnb4-2v"
    },
    {
      "cell_type": "code",
      "execution_count": null,
      "metadata": {
        "id": "JX07_4wH58Vk"
      },
      "outputs": [],
      "source": [
        "plot_metricss()"
      ],
      "id": "JX07_4wH58Vk"
    },
    {
      "cell_type": "markdown",
      "metadata": {
        "id": "o59k152W5V31"
      },
      "source": [
        "## Alexnet"
      ],
      "id": "o59k152W5V31"
    },
    {
      "cell_type": "code",
      "execution_count": null,
      "metadata": {
        "id": "gaJrCJCV5Y8B"
      },
      "outputs": [],
      "source": [
        "model = models.alexnet(pretrained=True)\n",
        "num_ftrs = model.classifier[-1].in_features \n",
        "model.classifier[-1] = nn.Linear(num_ftrs, 3)\n",
        "model = model.to(device)"
      ],
      "id": "gaJrCJCV5Y8B"
    },
    {
      "cell_type": "code",
      "execution_count": null,
      "metadata": {
        "id": "5-2QeQs_5uK1",
        "colab": {
          "base_uri": "https://localhost:8080/"
        },
        "outputId": "5bd26d51-5f18-4187-a69d-2fadc1fe27ef"
      },
      "outputs": [
        {
          "output_type": "stream",
          "name": "stdout",
          "text": [
            "epoch0\tloss\tacc\tpre\trecall\tf1\n",
            "train\t0.5024\t0.8415\t0.5301\t0.4902\t0.5028\n",
            "test\t1.8180\t0.8024\t0.5104\t0.3583\t0.3441\n",
            "epoch1\tloss\tacc\tpre\trecall\tf1\n",
            "train\t0.3112\t0.8928\t0.5595\t0.5745\t0.5669\n",
            "test\t0.9650\t0.7797\t0.3929\t0.3590\t0.3515\n",
            "epoch2\tloss\tacc\tpre\trecall\tf1\n",
            "train\t0.2880\t0.9002\t0.7735\t0.6030\t0.6068\n",
            "test\t3.2973\t0.8007\t0.5524\t0.3524\t0.3330\n",
            "epoch3\tloss\tacc\tpre\trecall\tf1\n",
            "train\t0.2522\t0.9109\t0.8360\t0.6294\t0.6474\n",
            "test\t3.1119\t0.8024\t0.5588\t0.3557\t0.3391\n",
            "epoch4\tloss\tacc\tpre\trecall\tf1\n",
            "train\t0.2455\t0.9201\t0.8380\t0.6481\t0.6761\n",
            "test\t2.6138\t0.8024\t0.5104\t0.3583\t0.3441\n",
            "Training completed in 1m 11s\n"
          ]
        }
      ],
      "source": [
        "num_epochs = 5\n",
        "model = model.to(device)\n",
        "loss = nn.CrossEntropyLoss()\n",
        "optimizer = optim.SGD(model.parameters(), lr=1e-2, momentum=0.7)\n",
        "training_history = {\"train_loss\": [], \"train_accuracy\": [], \"epoch\": [], \"test_loss\": [], \"test_accuracy\": []}\n",
        "train(model)"
      ],
      "id": "5-2QeQs_5uK1"
    },
    {
      "cell_type": "code",
      "execution_count": null,
      "metadata": {
        "id": "m6g2PyYM59PT",
        "colab": {
          "base_uri": "https://localhost:8080/",
          "height": 388
        },
        "outputId": "7a6e4d45-8983-4a40-bbe8-6578d4e50e53"
      },
      "outputs": [
        {
          "output_type": "display_data",
          "data": {
            "text/plain": [
              "<Figure size 864x432 with 2 Axes>"
            ],
            "image/png": "[encoded data removed]"
          },
          "metadata": {
            "needs_background": "light"
          }
        }
      ],
      "source": [
        "plot_metricss()"
      ],
      "id": "m6g2PyYM59PT"
    },
    {
      "cell_type": "markdown",
      "metadata": {
        "id": "LOZGjoAi_Ng3"
      },
      "source": [
        "## ResNet"
      ],
      "id": "LOZGjoAi_Ng3"
    },
    {
      "cell_type": "code",
      "execution_count": null,
      "metadata": {
        "colab": {
          "base_uri": "https://localhost:8080/",
          "height": 86,
          "referenced_widgets": [
            "405a3f52d3cd4c9c8deb89b428b336d4",
            "f462c61ff021482387499854c2916cb5",
            "972ee6e8b6144a5db402da6777378af2",
            "3d1ee99d0f5945a9826a27aed6afa085",
            "5465078e211b43f5ae99e28b335c9ad6",
            "63f771e2fe9544febecaf3f2bc9c6f2c",
            "6d45a56b50fd4fd8b6e6e20d86075cca",
            "0e917899975544a6bcc29ab7a6a7f571",
            "4b0e9ae5df754691a2b8af5e23e5c8b8",
            "ab7e7aa9c42d4d7faab0c4cb4845040d",
            "dc090372d61342a98bfd77f63b597884"
          ]
        },
        "id": "ZMuk132v_QGI",
        "outputId": "727296ef-218f-483c-b9e9-0158e542f06f"
      },
      "outputs": [
        {
          "output_type": "stream",
          "name": "stderr",
          "text": [
            "Downloading: \"https://download.pytorch.org/models/resnet34-b627a593.pth\" to /root/.cache/torch/hub/checkpoints/resnet34-b627a593.pth\n"
          ]
        },
        {
          "output_type": "display_data",
          "data": {
            "text/plain": [
              "  0%|          | 0.00/83.3M [00:00<?, ?B/s]"
            ],
            "application/vnd.jupyter.widget-view+json": {
              "version_major": 2,
              "version_minor": 0,
              "model_id": "405a3f52d3cd4c9c8deb89b428b336d4"
            }
          },
          "metadata": {}
        }
      ],
      "source": [
        "model=models.resnet34(pretrained=True)\n",
        "n_inputs=model.fc.in_features\n",
        "last_layer=nn.Linear(n_inputs,3)\n",
        "model.fc.out_features=last_layer"
      ],
      "id": "ZMuk132v_QGI"
    },
    {
      "cell_type": "code",
      "execution_count": null,
      "metadata": {
        "colab": {
          "base_uri": "https://localhost:8080/"
        },
        "id": "KzE7KM0l_k5e",
        "outputId": "312c99a7-97fa-48e9-e335-6a46f5a24dd3"
      },
      "outputs": [
        {
          "output_type": "stream",
          "name": "stdout",
          "text": [
            "epoch0\tloss\tacc\tpre\trecall\tf1\n",
            "train\t1.3227\t0.7973\t0.0081\t0.0075\t0.0078\n",
            "test\t7.3001\t0.7937\t0.5978\t0.3366\t0.3015\n",
            "epoch1\tloss\tacc\tpre\trecall\tf1\n",
            "train\t0.3075\t0.9017\t0.7195\t0.6374\t0.6581\n",
            "test\t1.2361\t0.7937\t0.4402\t0.3956\t0.4008\n",
            "epoch2\tloss\tacc\tpre\trecall\tf1\n",
            "train\t0.2177\t0.9251\t0.8230\t0.7008\t0.7285\n",
            "test\t3.1206\t0.8007\t0.5996\t0.3498\t0.3275\n",
            "epoch3\tloss\tacc\tpre\trecall\tf1\n",
            "train\t0.2168\t0.9272\t0.8244\t0.7037\t0.7368\n",
            "test\t2.8627\t0.7990\t0.5992\t0.3465\t0.3212\n",
            "epoch4\tloss\tacc\tpre\trecall\tf1\n",
            "train\t0.1957\t0.9312\t0.8585\t0.7230\t0.7596\n",
            "test\t4.0350\t0.7990\t0.5992\t0.3465\t0.3212\n",
            "Training completed in 4m 10s\n"
          ]
        }
      ],
      "source": [
        "num_epochs = 5\n",
        "model = model.to(device)\n",
        "loss = nn.CrossEntropyLoss()\n",
        "optimizer = optim.SGD(model.parameters(), lr=1e-2, momentum=0.7)\n",
        "training_history = {\"train_loss\": [], \"train_accuracy\": [], \"epoch\": [], \"test_loss\": [], \"test_accuracy\": []}\n",
        "train(model)"
      ],
      "id": "KzE7KM0l_k5e"
    },
    {
      "cell_type": "code",
      "execution_count": null,
      "metadata": {
        "id": "0dhGsWFc_qiJ",
        "colab": {
          "base_uri": "https://localhost:8080/",
          "height": 388
        },
        "outputId": "37b58a17-654d-4df8-9c20-360e1c20e77b"
      },
      "outputs": [
        {
          "output_type": "display_data",
          "data": {
            "text/plain": [
              "<Figure size 864x432 with 2 Axes>"
            ],
            "image/png": "[encoded data removed]"
          },
          "metadata": {
            "needs_background": "light"
          }
        }
      ],
      "source": [
        "plot_metricss()"
      ],
      "id": "0dhGsWFc_qiJ"
    },
    {
      "cell_type": "markdown",
      "metadata": {
        "id": "g-wUcZBLk7G7"
      },
      "source": [
        "# solution 1 : Data augmentation"
      ],
      "id": "g-wUcZBLk7G7"
    },
    {
      "cell_type": "code",
      "execution_count": null,
      "metadata": {
        "id": "wE_oEdc7k8VV"
      },
      "outputs": [],
      "source": [
        "from keras.models import Sequential\n",
        "from keras.layers import Conv2D, MaxPooling2D, Flatten, Dense, Dropout\n",
        "\n",
        "model = Sequential()\n",
        "model.add(Conv2D(filters = 16, kernel_size = 3,  padding='same', activation = 'relu', input_shape = (35,35,3)))\n",
        "model.add(MaxPooling2D(pool_size = 2))\n",
        "model.add(Conv2D(filters = 32, kernel_size = 3,  padding='same', activation = 'relu'))\n",
        "model.add(MaxPooling2D(pool_size = 2))\n",
        "model.add(Conv2D(filters = 64, kernel_size = 3,  padding='same', activation = 'relu'))\n",
        "model.add(MaxPooling2D(pool_size = 2))\n",
        "model.add(Dropout(0.3))\n",
        "model.add(Flatten())\n",
        "model.add(Dense(units = 500, activation = 'relu'))\n",
        "model.add(Dropout(0.3))\n",
        "model.add(Dense(units = 3, activation = 'softmax'))"
      ],
      "id": "wE_oEdc7k8VV"
    },
    {
      "cell_type": "code",
      "execution_count": null,
      "metadata": {
        "id": "0w8hfFv0lFnL"
      },
      "outputs": [],
      "source": [
        "batch_size = 8\n",
        "epochs = 50"
      ],
      "id": "0w8hfFv0lFnL"
    },
    {
      "cell_type": "code",
      "execution_count": null,
      "metadata": {
        "id": "1-34hVRFlJF5",
        "colab": {
          "base_uri": "https://localhost:8080/"
        },
        "outputId": "8161814e-454a-4f4f-c394-3eac623c603e"
      },
      "outputs": [
        {
          "output_type": "stream",
          "name": "stdout",
          "text": [
            "Found 3256 images belonging to 3 classes.\n",
            "Found 572 images belonging to 3 classes.\n",
            "Found 244 images belonging to 3 classes.\n"
          ]
        }
      ],
      "source": [
        "from keras.preprocessing.image import ImageDataGenerator\n",
        "\n",
        "datagen = ImageDataGenerator(\n",
        "    rescale=1.0 / 255, horizontal_flip=True, zoom_range=0.1, shear_range=0.2, width_shift_range=0.1,\n",
        "    height_shift_range=0.1, rotation_range=4, vertical_flip=False\n",
        "\n",
        ")\n",
        "\n",
        "val_datagen = ImageDataGenerator(\n",
        "    rescale=1.0 / 255\n",
        ")\n",
        "\n",
        "train_generator = datagen.flow_from_directory(\n",
        "    directory='./train', \n",
        "    target_size = (35,35),\n",
        "    class_mode=\"categorical\", batch_size=batch_size, shuffle=True\n",
        ")\n",
        "\n",
        "val_generator = val_datagen.flow_from_directory(\n",
        "    directory='./val', \n",
        "    target_size = (35,35),\n",
        "    class_mode=\"categorical\", batch_size=batch_size, shuffle=True\n",
        ")\n",
        "\n",
        "test_generator = val_datagen.flow_from_directory(\n",
        "    directory='./test', \n",
        "    target_size = (35,35),\n",
        "    class_mode=\"categorical\", batch_size=batch_size, shuffle=False\n",
        ")"
      ],
      "id": "1-34hVRFlJF5"
    },
    {
      "cell_type": "code",
      "execution_count": null,
      "metadata": {
        "id": "VvhL0cbfljIL"
      },
      "outputs": [],
      "source": [
        "data_size = len(train_generator) \n",
        "steps_per_epoch = int(data_size / batch_size)\n",
        "val_steps = int(len(val_generator) // batch_size)"
      ],
      "id": "VvhL0cbfljIL"
    },
    {
      "cell_type": "code",
      "execution_count": null,
      "metadata": {
        "id": "ATTcMI4Flqlt"
      },
      "outputs": [],
      "source": [
        "model.compile(\n",
        "    optimizer=\"adam\",\n",
        "    loss=\"categorical_crossentropy\",\n",
        "    metrics=['accuracy', 'Recall', 'Precision', 'AUC']\n",
        "\n",
        ")"
      ],
      "id": "ATTcMI4Flqlt"
    },
    {
      "cell_type": "code",
      "execution_count": null,
      "metadata": {
        "id": "m4BVUT-rltcz"
      },
      "outputs": [],
      "source": [
        "from tensorflow.keras.callbacks import EarlyStopping\n",
        "early_stopping = EarlyStopping(monitor='val_loss', patience=8, restore_best_weights=True)"
      ],
      "id": "m4BVUT-rltcz"
    },
    {
      "cell_type": "code",
      "execution_count": null,
      "metadata": {
        "id": "WkgA8EUBlv76"
      },
      "outputs": [],
      "source": [
        "from tensorflow.keras.callbacks import ReduceLROnPlateau\n",
        "\n",
        "lrr = ReduceLROnPlateau(monitor='val_loss',patience=8,verbose=1,factor=0.5, min_lr=0.00001)"
      ],
      "id": "WkgA8EUBlv76"
    },
    {
      "cell_type": "code",
      "execution_count": null,
      "metadata": {
        "id": "NT2TJobwlyvm",
        "colab": {
          "base_uri": "https://localhost:8080/"
        },
        "outputId": "72a3173c-4393-47f5-927d-3c30164a0487"
      },
      "outputs": [
        {
          "output_type": "stream",
          "name": "stdout",
          "text": [
            "Epoch 1/50\n",
            "50/50 [==============================] - 2s 29ms/step - loss: 0.5940 - accuracy: 0.7925 - recall: 0.7725 - precision: 0.8089 - auc: 0.9044 - val_loss: 0.5492 - val_accuracy: 0.8194 - val_recall: 0.8194 - val_precision: 0.8429 - val_auc: 0.9190 - lr: 0.0010\n",
            "Epoch 2/50\n",
            "50/50 [==============================] - 1s 21ms/step - loss: 0.4626 - accuracy: 0.8075 - recall: 0.7725 - precision: 0.8443 - auc: 0.9451 - val_loss: 0.3262 - val_accuracy: 0.9167 - val_recall: 0.8194 - val_precision: 0.9365 - val_auc: 0.9758 - lr: 0.0010\n",
            "Epoch 3/50\n",
            "50/50 [==============================] - 1s 21ms/step - loss: 0.4147 - accuracy: 0.8775 - recall: 0.8350 - precision: 0.8883 - auc: 0.9539 - val_loss: 0.3892 - val_accuracy: 0.8750 - val_recall: 0.8472 - val_precision: 0.8714 - val_auc: 0.9575 - lr: 0.0010\n",
            "Epoch 4/50\n",
            "50/50 [==============================] - 1s 20ms/step - loss: 0.2913 - accuracy: 0.9300 - recall: 0.9250 - precision: 0.9391 - auc: 0.9765 - val_loss: 0.2494 - val_accuracy: 0.9306 - val_recall: 0.9028 - val_precision: 0.9286 - val_auc: 0.9843 - lr: 0.0010\n",
            "Epoch 5/50\n",
            "50/50 [==============================] - 1s 20ms/step - loss: 0.2966 - accuracy: 0.9175 - recall: 0.9075 - precision: 0.9260 - auc: 0.9737 - val_loss: 0.2280 - val_accuracy: 0.9167 - val_recall: 0.9167 - val_precision: 0.9429 - val_auc: 0.9899 - lr: 0.0010\n",
            "Epoch 6/50\n",
            "50/50 [==============================] - 1s 20ms/step - loss: 0.2233 - accuracy: 0.9425 - recall: 0.9300 - precision: 0.9442 - auc: 0.9829 - val_loss: 0.2041 - val_accuracy: 0.9444 - val_recall: 0.9444 - val_precision: 0.9444 - val_auc: 0.9873 - lr: 0.0010\n",
            "Epoch 7/50\n",
            "50/50 [==============================] - 1s 21ms/step - loss: 0.2872 - accuracy: 0.9150 - recall: 0.9150 - precision: 0.9173 - auc: 0.9751 - val_loss: 0.1174 - val_accuracy: 0.9583 - val_recall: 0.9583 - val_precision: 0.9718 - val_auc: 0.9959 - lr: 0.0010\n",
            "Epoch 8/50\n",
            "50/50 [==============================] - 1s 24ms/step - loss: 0.2800 - accuracy: 0.9125 - recall: 0.9075 - precision: 0.9144 - auc: 0.9775 - val_loss: 0.2149 - val_accuracy: 0.9167 - val_recall: 0.9167 - val_precision: 0.9167 - val_auc: 0.9879 - lr: 0.0010\n",
            "Epoch 9/50\n",
            "50/50 [==============================] - 1s 25ms/step - loss: 0.2546 - accuracy: 0.9250 - recall: 0.9175 - precision: 0.9315 - auc: 0.9788 - val_loss: 0.2564 - val_accuracy: 0.8889 - val_recall: 0.8889 - val_precision: 0.8889 - val_auc: 0.9846 - lr: 0.0010\n",
            "Epoch 10/50\n",
            "50/50 [==============================] - 1s 23ms/step - loss: 0.2367 - accuracy: 0.9300 - recall: 0.9250 - precision: 0.9343 - auc: 0.9815 - val_loss: 0.1260 - val_accuracy: 0.9722 - val_recall: 0.9722 - val_precision: 0.9722 - val_auc: 0.9969 - lr: 0.0010\n",
            "Epoch 11/50\n",
            "50/50 [==============================] - 1s 21ms/step - loss: 0.2268 - accuracy: 0.9350 - recall: 0.9275 - precision: 0.9440 - auc: 0.9822 - val_loss: 0.1969 - val_accuracy: 0.9167 - val_recall: 0.9167 - val_precision: 0.9296 - val_auc: 0.9899 - lr: 0.0010\n",
            "Epoch 12/50\n",
            "50/50 [==============================] - 1s 21ms/step - loss: 0.2055 - accuracy: 0.9325 - recall: 0.9250 - precision: 0.9343 - auc: 0.9869 - val_loss: 0.3384 - val_accuracy: 0.8472 - val_recall: 0.8472 - val_precision: 0.8714 - val_auc: 0.9736 - lr: 0.0010\n",
            "Epoch 13/50\n",
            "50/50 [==============================] - 1s 21ms/step - loss: 0.2166 - accuracy: 0.9300 - recall: 0.9250 - precision: 0.9367 - auc: 0.9843 - val_loss: 0.1576 - val_accuracy: 0.9583 - val_recall: 0.9444 - val_precision: 0.9577 - val_auc: 0.9932 - lr: 0.0010\n",
            "Epoch 14/50\n",
            "50/50 [==============================] - 1s 21ms/step - loss: 0.1677 - accuracy: 0.9450 - recall: 0.9400 - precision: 0.9471 - auc: 0.9910 - val_loss: 0.2157 - val_accuracy: 0.9306 - val_recall: 0.9306 - val_precision: 0.9306 - val_auc: 0.9867 - lr: 0.0010\n",
            "Epoch 15/50\n",
            "48/50 [===========================>..] - ETA: 0s - loss: 0.2457 - accuracy: 0.9349 - recall: 0.9297 - precision: 0.9370 - auc: 0.9815\n",
            "Epoch 15: ReduceLROnPlateau reducing learning rate to 0.0005000000237487257.\n",
            "50/50 [==============================] - 1s 21ms/step - loss: 0.2391 - accuracy: 0.9375 - recall: 0.9325 - precision: 0.9395 - auc: 0.9822 - val_loss: 0.1831 - val_accuracy: 0.9583 - val_recall: 0.9583 - val_precision: 0.9718 - val_auc: 0.9885 - lr: 0.0010\n"
          ]
        }
      ],
      "source": [
        "model_history = model.fit_generator(\n",
        "    generator=train_generator,\n",
        "    steps_per_epoch=steps_per_epoch,\n",
        "    epochs=epochs,\n",
        "    shuffle=True,\n",
        "    validation_data=val_generator,\n",
        "    validation_steps=val_steps,\n",
        "    callbacks=[early_stopping, lrr]\n",
        ")"
      ],
      "id": "NT2TJobwlyvm"
    },
    {
      "cell_type": "code",
      "execution_count": null,
      "metadata": {
        "id": "9jZtD7ABmaFM"
      },
      "outputs": [],
      "source": [
        "def plot_loss_and_accuracy(history):\n",
        "    history_df = pd.DataFrame(history)\n",
        "    fig, ax = plt.subplots(1,2, figsize=(12, 6))\n",
        "    \n",
        "    history_df.loc[0:, ['loss', 'val_loss']].plot(ax=ax[0])\n",
        "    ax[0].set(xlabel = 'epoch number', ylabel = 'loss')\n",
        "\n",
        "    history_df.loc[0:, ['accuracy', 'val_accuracy']].plot(ax=ax[1])\n",
        "    ax[1].set(xlabel = 'epoch number', ylabel = 'accuracy')"
      ],
      "id": "9jZtD7ABmaFM"
    },
    {
      "cell_type": "code",
      "execution_count": null,
      "metadata": {
        "id": "_N5GBs7rmb2q",
        "colab": {
          "base_uri": "https://localhost:8080/",
          "height": 388
        },
        "outputId": "722d5a30-b6b3-42d3-a4ee-c91b60db4cd9"
      },
      "outputs": [
        {
          "output_type": "display_data",
          "data": {
            "text/plain": [
              "<Figure size 864x432 with 2 Axes>"
            ],
            "image/png": "[encoded data removed]"
          },
          "metadata": {
            "needs_background": "light"
          }
        }
      ],
      "source": [
        "plot_loss_and_accuracy(model_history.history)"
      ],
      "id": "_N5GBs7rmb2q"
    },
    {
      "cell_type": "code",
      "source": [
        "from sklearn.metrics import confusion_matrix, classification_report\n",
        "from sklearn.metrics import precision_score, recall_score, accuracy_score,f1_score, classification_report\n",
        "\n",
        "import seaborn as sns \n",
        "\n",
        "def evaluation(y, y_hat, title = 'Confusion Matrix'):\n",
        "    \"\"\"Evaluation function\n",
        "    Prints Classification reports and confusion matrix\n",
        "    \"\"\"\n",
        "    cm = confusion_matrix(y, y_hat)\n",
        "    precision = precision_score(y, y_hat,average='micro')\n",
        "    recall = recall_score(y, y_hat,average='micro')\n",
        "    accuracy = accuracy_score(y,y_hat)\n",
        "    f1 = f1_score(y,y_hat,average='micro')\n",
        "    report = classification_report(y,y_hat)\n",
        "    print(report)\n",
        "    print('Recall: ', recall)\n",
        "    print('Accuracy: ', accuracy)\n",
        "    print('Precision: ', precision)\n",
        "    print('F1: ', f1)\n",
        "    sns.heatmap(cm,  cmap= 'PuBu', annot=True, fmt='g', annot_kws={'size':20})\n",
        "    plt.xlabel('predicted', fontsize=18)\n",
        "    plt.ylabel('actual', fontsize=18)\n",
        "    plt.title(title, fontsize=18)\n",
        "    \n",
        "    plt.show()"
      ],
      "metadata": {
        "id": "BGzQkf9-ohmN"
      },
      "id": "BGzQkf9-ohmN",
      "execution_count": null,
      "outputs": []
    },
    {
      "cell_type": "code",
      "source": [
        "y_true = test_generator.labels\n",
        "y_pred = model.predict(test_generator).argmax(axis=1) # Predict prob and get Class Indices\n",
        "\n",
        "evaluation(y_true, y_pred)"
      ],
      "metadata": {
        "colab": {
          "base_uri": "https://localhost:8080/",
          "height": 562
        },
        "id": "2Own7F_8olT6",
        "outputId": "20c6c2be-cbeb-4b90-db0a-9dbbacf7012a"
      },
      "id": "2Own7F_8olT6",
      "execution_count": null,
      "outputs": [
        {
          "output_type": "stream",
          "name": "stdout",
          "text": [
            "31/31 [==============================] - 0s 11ms/step\n",
            "              precision    recall  f1-score   support\n",
            "\n",
            "           0       0.00      0.00      0.00         7\n",
            "           1       0.96      0.99      0.98       194\n",
            "           2       0.91      0.95      0.93        43\n",
            "\n",
            "    accuracy                           0.95       244\n",
            "   macro avg       0.63      0.65      0.64       244\n",
            "weighted avg       0.93      0.95      0.94       244\n",
            "\n",
            "Recall:  0.9549180327868853\n",
            "Accuracy:  0.9549180327868853\n",
            "Precision:  0.9549180327868853\n",
            "F1:  0.9549180327868853\n"
          ]
        },
        {
          "output_type": "display_data",
          "data": {
            "text/plain": [
              "<Figure size 432x288 with 2 Axes>"
            ],
            "image/png": "[encoded data removed]"
          },
          "metadata": {
            "needs_background": "light"
          }
        }
      ]
    },
    {
      "cell_type": "code",
      "execution_count": null,
      "metadata": {
        "id": "qM-QSt9Pg_u2"
      },
      "outputs": [],
      "source": [
        "model = Sequential()\n",
        "model.add(Conv2D(filters = 16, kernel_size = 3,  padding='same', activation = 'relu', input_shape = (35,35,3)))\n",
        "model.add(MaxPooling2D(pool_size = 2))\n",
        "model.add(Conv2D(filters = 32, kernel_size = 3,  padding='same', activation = 'relu'))\n",
        "model.add(MaxPooling2D(pool_size = 2))\n",
        "model.add(Conv2D(filters = 64, kernel_size = 3,  padding='same', activation = 'relu'))\n",
        "model.add(MaxPooling2D(pool_size = 2))\n",
        "model.add(Dropout(0.3))\n",
        "model.add(Flatten())\n",
        "model.add(Dense(units = 500, activation = 'relu'))\n",
        "model.add(Dropout(0.3))\n",
        "model.add(Dense(units = 3, activation = 'softmax'))"
      ],
      "id": "qM-QSt9Pg_u2"
    },
    {
      "cell_type": "code",
      "execution_count": null,
      "metadata": {
        "id": "ks9k6kL4hHSQ"
      },
      "outputs": [],
      "source": [
        "model.compile(\n",
        "    optimizer=\"adam\",\n",
        "    loss=\"categorical_crossentropy\",\n",
        "    metrics=['accuracy', 'Recall', 'Precision', 'AUC']\n",
        "\n",
        ")"
      ],
      "id": "ks9k6kL4hHSQ"
    },
    {
      "cell_type": "code",
      "execution_count": null,
      "metadata": {
        "id": "4l1WGw_rgzqW",
        "colab": {
          "base_uri": "https://localhost:8080/"
        },
        "outputId": "f889082c-f47f-4b24-b485-c39f6bd9242b"
      },
      "outputs": [
        {
          "output_type": "stream",
          "name": "stdout",
          "text": [
            "Epoch 1/50\n",
            "50/50 [==============================] - 2s 29ms/step - loss: 0.5104 - accuracy: 0.8075 - recall: 0.7725 - precision: 0.8218 - auc: 0.9301 - val_loss: 0.7585 - val_accuracy: 0.7222 - val_recall: 0.6944 - val_precision: 0.7463 - val_auc: 0.9009\n",
            "Epoch 2/50\n",
            "50/50 [==============================] - 1s 22ms/step - loss: 0.3165 - accuracy: 0.9075 - recall: 0.8950 - precision: 0.9203 - auc: 0.9722 - val_loss: 0.2230 - val_accuracy: 0.9444 - val_recall: 0.9444 - val_precision: 0.9444 - val_auc: 0.9868\n",
            "Epoch 3/50\n",
            "50/50 [==============================] - 1s 20ms/step - loss: 0.3459 - accuracy: 0.8975 - recall: 0.8875 - precision: 0.9103 - auc: 0.9641 - val_loss: 0.1801 - val_accuracy: 0.9583 - val_recall: 0.9583 - val_precision: 0.9583 - val_auc: 0.9906\n",
            "Epoch 4/50\n",
            "50/50 [==============================] - 1s 21ms/step - loss: 0.2781 - accuracy: 0.9150 - recall: 0.9125 - precision: 0.9241 - auc: 0.9791 - val_loss: 0.2455 - val_accuracy: 0.9583 - val_recall: 0.9583 - val_precision: 0.9718 - val_auc: 0.9768\n",
            "Epoch 5/50\n",
            "50/50 [==============================] - 1s 21ms/step - loss: 0.2715 - accuracy: 0.9325 - recall: 0.9275 - precision: 0.9345 - auc: 0.9748 - val_loss: 0.3211 - val_accuracy: 0.8889 - val_recall: 0.8889 - val_precision: 0.8889 - val_auc: 0.9720\n",
            "Epoch 6/50\n",
            "50/50 [==============================] - 1s 20ms/step - loss: 0.3244 - accuracy: 0.8950 - recall: 0.8875 - precision: 0.9079 - auc: 0.9712 - val_loss: 0.3697 - val_accuracy: 0.8750 - val_recall: 0.8750 - val_precision: 0.8750 - val_auc: 0.9662\n",
            "Epoch 7/50\n",
            "50/50 [==============================] - 1s 21ms/step - loss: 0.2495 - accuracy: 0.9300 - recall: 0.9200 - precision: 0.9316 - auc: 0.9808 - val_loss: 0.0883 - val_accuracy: 0.9861 - val_recall: 0.9861 - val_precision: 0.9861 - val_auc: 0.9973\n",
            "Epoch 8/50\n",
            "50/50 [==============================] - 1s 20ms/step - loss: 0.2192 - accuracy: 0.9400 - recall: 0.9325 - precision: 0.9467 - auc: 0.9833 - val_loss: 0.3033 - val_accuracy: 0.8889 - val_recall: 0.8472 - val_precision: 0.8841 - val_auc: 0.9773\n",
            "Epoch 9/50\n",
            "50/50 [==============================] - 1s 20ms/step - loss: 0.2177 - accuracy: 0.9375 - recall: 0.9250 - precision: 0.9512 - auc: 0.9860 - val_loss: 0.2793 - val_accuracy: 0.9028 - val_recall: 0.8889 - val_precision: 0.9143 - val_auc: 0.9807\n",
            "Epoch 10/50\n",
            "50/50 [==============================] - 1s 20ms/step - loss: 0.2789 - accuracy: 0.9075 - recall: 0.9000 - precision: 0.9137 - auc: 0.9772 - val_loss: 0.3503 - val_accuracy: 0.8889 - val_recall: 0.8889 - val_precision: 0.8889 - val_auc: 0.9724\n",
            "Epoch 11/50\n",
            "50/50 [==============================] - 1s 21ms/step - loss: 0.2844 - accuracy: 0.9125 - recall: 0.8975 - precision: 0.9229 - auc: 0.9767 - val_loss: 0.2880 - val_accuracy: 0.9167 - val_recall: 0.9167 - val_precision: 0.9167 - val_auc: 0.9743\n",
            "Epoch 12/50\n",
            "50/50 [==============================] - 1s 25ms/step - loss: 0.2248 - accuracy: 0.9250 - recall: 0.9150 - precision: 0.9361 - auc: 0.9854 - val_loss: 0.2135 - val_accuracy: 0.9306 - val_recall: 0.9167 - val_precision: 0.9565 - val_auc: 0.9879\n",
            "Epoch 13/50\n",
            "50/50 [==============================] - 1s 21ms/step - loss: 0.2480 - accuracy: 0.9350 - recall: 0.9250 - precision: 0.9487 - auc: 0.9811 - val_loss: 0.1024 - val_accuracy: 0.9583 - val_recall: 0.9583 - val_precision: 0.9718 - val_auc: 0.9978\n",
            "Epoch 14/50\n",
            "50/50 [==============================] - 1s 20ms/step - loss: 0.1906 - accuracy: 0.9450 - recall: 0.9425 - precision: 0.9449 - auc: 0.9866 - val_loss: 0.2684 - val_accuracy: 0.9306 - val_recall: 0.9306 - val_precision: 0.9306 - val_auc: 0.9791\n",
            "Epoch 15/50\n",
            "50/50 [==============================] - 1s 21ms/step - loss: 0.2259 - accuracy: 0.9250 - recall: 0.9150 - precision: 0.9266 - auc: 0.9863 - val_loss: 0.2672 - val_accuracy: 0.9028 - val_recall: 0.9028 - val_precision: 0.9028 - val_auc: 0.9856\n",
            "Epoch 16/50\n",
            "50/50 [==============================] - 1s 21ms/step - loss: 0.2124 - accuracy: 0.9300 - recall: 0.9275 - precision: 0.9322 - auc: 0.9874 - val_loss: 0.2134 - val_accuracy: 0.9444 - val_recall: 0.9306 - val_precision: 0.9571 - val_auc: 0.9897\n",
            "Epoch 17/50\n",
            "50/50 [==============================] - 1s 21ms/step - loss: 0.1977 - accuracy: 0.9550 - recall: 0.9500 - precision: 0.9548 - auc: 0.9865 - val_loss: 0.1889 - val_accuracy: 0.9028 - val_recall: 0.9028 - val_precision: 0.9155 - val_auc: 0.9919\n",
            "Epoch 18/50\n",
            "50/50 [==============================] - 1s 20ms/step - loss: 0.2176 - accuracy: 0.9375 - recall: 0.9375 - precision: 0.9422 - auc: 0.9854 - val_loss: 0.3727 - val_accuracy: 0.9028 - val_recall: 0.9028 - val_precision: 0.9155 - val_auc: 0.9668\n",
            "Epoch 19/50\n",
            "50/50 [==============================] - 1s 21ms/step - loss: 0.2748 - accuracy: 0.9225 - recall: 0.9150 - precision: 0.9289 - auc: 0.9763 - val_loss: 0.2415 - val_accuracy: 0.9306 - val_recall: 0.9306 - val_precision: 0.9306 - val_auc: 0.9798\n",
            "Epoch 20/50\n",
            "50/50 [==============================] - 1s 26ms/step - loss: 0.2807 - accuracy: 0.9225 - recall: 0.9100 - precision: 0.9309 - auc: 0.9762 - val_loss: 0.2059 - val_accuracy: 0.9167 - val_recall: 0.9167 - val_precision: 0.9296 - val_auc: 0.9892\n",
            "Epoch 21/50\n",
            "50/50 [==============================] - 1s 26ms/step - loss: 0.2072 - accuracy: 0.9375 - recall: 0.9375 - precision: 0.9422 - auc: 0.9853 - val_loss: 0.1526 - val_accuracy: 0.9444 - val_recall: 0.9306 - val_precision: 0.9437 - val_auc: 0.9966\n",
            "Epoch 22/50\n",
            "50/50 [==============================] - 1s 21ms/step - loss: 0.2028 - accuracy: 0.9475 - recall: 0.9450 - precision: 0.9497 - auc: 0.9840 - val_loss: 0.2456 - val_accuracy: 0.9306 - val_recall: 0.9306 - val_precision: 0.9306 - val_auc: 0.9818\n",
            "Epoch 23/50\n",
            "50/50 [==============================] - 1s 20ms/step - loss: 0.2214 - accuracy: 0.9300 - recall: 0.9250 - precision: 0.9367 - auc: 0.9846 - val_loss: 0.2906 - val_accuracy: 0.8750 - val_recall: 0.8750 - val_precision: 0.8873 - val_auc: 0.9810\n",
            "Epoch 24/50\n",
            "50/50 [==============================] - 1s 21ms/step - loss: 0.2303 - accuracy: 0.9350 - recall: 0.9350 - precision: 0.9397 - auc: 0.9822 - val_loss: 0.1624 - val_accuracy: 0.9167 - val_recall: 0.9167 - val_precision: 0.9296 - val_auc: 0.9941\n",
            "Epoch 25/50\n",
            "50/50 [==============================] - 1s 24ms/step - loss: 0.2072 - accuracy: 0.9300 - recall: 0.9300 - precision: 0.9370 - auc: 0.9861 - val_loss: 0.1220 - val_accuracy: 0.9583 - val_recall: 0.9583 - val_precision: 0.9583 - val_auc: 0.9976\n",
            "Epoch 26/50\n",
            "50/50 [==============================] - 1s 26ms/step - loss: 0.2167 - accuracy: 0.9150 - recall: 0.9100 - precision: 0.9215 - auc: 0.9870 - val_loss: 0.2339 - val_accuracy: 0.9167 - val_recall: 0.9167 - val_precision: 0.9167 - val_auc: 0.9870\n",
            "Epoch 27/50\n",
            "50/50 [==============================] - 1s 24ms/step - loss: 0.2258 - accuracy: 0.9350 - recall: 0.9350 - precision: 0.9373 - auc: 0.9826 - val_loss: 0.2322 - val_accuracy: 0.9306 - val_recall: 0.9306 - val_precision: 0.9306 - val_auc: 0.9848\n",
            "Epoch 28/50\n",
            "50/50 [==============================] - 1s 22ms/step - loss: 0.2025 - accuracy: 0.9475 - recall: 0.9450 - precision: 0.9545 - auc: 0.9872 - val_loss: 0.2457 - val_accuracy: 0.9167 - val_recall: 0.9167 - val_precision: 0.9167 - val_auc: 0.9895\n",
            "Epoch 29/50\n",
            "50/50 [==============================] - 1s 22ms/step - loss: 0.1711 - accuracy: 0.9550 - recall: 0.9500 - precision: 0.9548 - auc: 0.9900 - val_loss: 0.1860 - val_accuracy: 0.9306 - val_recall: 0.9306 - val_precision: 0.9306 - val_auc: 0.9911\n",
            "Epoch 30/50\n",
            "50/50 [==============================] - 1s 21ms/step - loss: 0.2731 - accuracy: 0.9175 - recall: 0.9000 - precision: 0.9207 - auc: 0.9789 - val_loss: 0.2071 - val_accuracy: 0.9167 - val_recall: 0.9167 - val_precision: 0.9167 - val_auc: 0.9910\n",
            "Epoch 31/50\n",
            "50/50 [==============================] - 1s 21ms/step - loss: 0.2464 - accuracy: 0.9175 - recall: 0.9050 - precision: 0.9282 - auc: 0.9821 - val_loss: 0.1682 - val_accuracy: 0.9444 - val_recall: 0.8889 - val_precision: 0.9412 - val_auc: 0.9939\n",
            "Epoch 32/50\n",
            "50/50 [==============================] - 1s 22ms/step - loss: 0.2449 - accuracy: 0.9250 - recall: 0.9175 - precision: 0.9291 - auc: 0.9821 - val_loss: 0.2084 - val_accuracy: 0.9444 - val_recall: 0.9306 - val_precision: 0.9571 - val_auc: 0.9962\n",
            "Epoch 33/50\n",
            "50/50 [==============================] - 1s 22ms/step - loss: 0.2044 - accuracy: 0.9350 - recall: 0.9275 - precision: 0.9440 - auc: 0.9874 - val_loss: 0.3212 - val_accuracy: 0.8889 - val_recall: 0.8889 - val_precision: 0.8889 - val_auc: 0.9775\n",
            "Epoch 34/50\n",
            "50/50 [==============================] - 1s 22ms/step - loss: 0.1589 - accuracy: 0.9500 - recall: 0.9475 - precision: 0.9571 - auc: 0.9925 - val_loss: 0.1755 - val_accuracy: 0.9306 - val_recall: 0.9028 - val_precision: 0.9420 - val_auc: 0.9916\n",
            "Epoch 35/50\n",
            "50/50 [==============================] - 1s 22ms/step - loss: 0.2019 - accuracy: 0.9350 - recall: 0.9300 - precision: 0.9394 - auc: 0.9879 - val_loss: 0.2278 - val_accuracy: 0.9028 - val_recall: 0.9028 - val_precision: 0.9028 - val_auc: 0.9861\n",
            "Epoch 36/50\n",
            "50/50 [==============================] - 1s 22ms/step - loss: 0.1381 - accuracy: 0.9500 - recall: 0.9500 - precision: 0.9572 - auc: 0.9943 - val_loss: 0.2268 - val_accuracy: 0.9167 - val_recall: 0.9167 - val_precision: 0.9296 - val_auc: 0.9862\n",
            "Epoch 37/50\n",
            "50/50 [==============================] - 1s 25ms/step - loss: 0.2107 - accuracy: 0.9375 - recall: 0.9375 - precision: 0.9375 - auc: 0.9851 - val_loss: 0.2932 - val_accuracy: 0.8750 - val_recall: 0.8750 - val_precision: 0.8750 - val_auc: 0.9788\n",
            "Epoch 38/50\n",
            "50/50 [==============================] - 1s 26ms/step - loss: 0.1762 - accuracy: 0.9275 - recall: 0.9275 - precision: 0.9298 - auc: 0.9918 - val_loss: 0.1619 - val_accuracy: 0.9444 - val_recall: 0.9444 - val_precision: 0.9714 - val_auc: 0.9855\n",
            "Epoch 39/50\n",
            "50/50 [==============================] - 1s 25ms/step - loss: 0.1882 - accuracy: 0.9600 - recall: 0.9525 - precision: 0.9597 - auc: 0.9868 - val_loss: 0.1276 - val_accuracy: 0.9583 - val_recall: 0.9583 - val_precision: 0.9583 - val_auc: 0.9965\n",
            "Epoch 40/50\n",
            "50/50 [==============================] - 1s 21ms/step - loss: 0.1952 - accuracy: 0.9400 - recall: 0.9400 - precision: 0.9424 - auc: 0.9869 - val_loss: 0.2256 - val_accuracy: 0.9444 - val_recall: 0.9444 - val_precision: 0.9444 - val_auc: 0.9761\n",
            "Epoch 41/50\n",
            "50/50 [==============================] - 1s 22ms/step - loss: 0.1734 - accuracy: 0.9450 - recall: 0.9425 - precision: 0.9449 - auc: 0.9904 - val_loss: 0.2070 - val_accuracy: 0.9444 - val_recall: 0.9306 - val_precision: 0.9437 - val_auc: 0.9885\n",
            "Epoch 42/50\n",
            "50/50 [==============================] - 1s 21ms/step - loss: 0.2083 - accuracy: 0.9300 - recall: 0.9300 - precision: 0.9370 - auc: 0.9865 - val_loss: 0.2332 - val_accuracy: 0.9028 - val_recall: 0.8889 - val_precision: 0.9275 - val_auc: 0.9859\n",
            "Epoch 43/50\n",
            "50/50 [==============================] - 1s 21ms/step - loss: 0.2120 - accuracy: 0.9525 - recall: 0.9425 - precision: 0.9544 - auc: 0.9842 - val_loss: 0.1302 - val_accuracy: 0.9444 - val_recall: 0.9444 - val_precision: 0.9444 - val_auc: 0.9953\n",
            "Epoch 44/50\n",
            "50/50 [==============================] - 1s 21ms/step - loss: 0.2352 - accuracy: 0.9325 - recall: 0.9300 - precision: 0.9347 - auc: 0.9806 - val_loss: 0.1933 - val_accuracy: 0.9444 - val_recall: 0.9444 - val_precision: 0.9444 - val_auc: 0.9875\n",
            "Epoch 45/50\n",
            "50/50 [==============================] - 1s 21ms/step - loss: 0.2185 - accuracy: 0.9200 - recall: 0.9125 - precision: 0.9335 - auc: 0.9862 - val_loss: 0.3199 - val_accuracy: 0.9167 - val_recall: 0.9167 - val_precision: 0.9167 - val_auc: 0.9731\n",
            "Epoch 46/50\n",
            "50/50 [==============================] - 1s 21ms/step - loss: 0.1907 - accuracy: 0.9425 - recall: 0.9400 - precision: 0.9447 - auc: 0.9893 - val_loss: 0.2642 - val_accuracy: 0.9028 - val_recall: 0.9028 - val_precision: 0.9028 - val_auc: 0.9828\n",
            "Epoch 47/50\n",
            "50/50 [==============================] - 1s 22ms/step - loss: 0.2289 - accuracy: 0.9325 - recall: 0.9225 - precision: 0.9365 - auc: 0.9849 - val_loss: 0.1050 - val_accuracy: 0.9583 - val_recall: 0.9583 - val_precision: 0.9718 - val_auc: 0.9976\n",
            "Epoch 48/50\n",
            "50/50 [==============================] - 1s 21ms/step - loss: 0.1406 - accuracy: 0.9525 - recall: 0.9500 - precision: 0.9548 - auc: 0.9946 - val_loss: 0.0588 - val_accuracy: 0.9722 - val_recall: 0.9722 - val_precision: 0.9722 - val_auc: 0.9995\n",
            "Epoch 49/50\n",
            "50/50 [==============================] - 1s 21ms/step - loss: 0.2120 - accuracy: 0.9275 - recall: 0.9225 - precision: 0.9389 - auc: 0.9872 - val_loss: 0.3411 - val_accuracy: 0.9167 - val_recall: 0.8889 - val_precision: 0.9143 - val_auc: 0.9707\n",
            "Epoch 50/50\n",
            "50/50 [==============================] - 1s 22ms/step - loss: 0.1861 - accuracy: 0.9325 - recall: 0.9275 - precision: 0.9322 - auc: 0.9905 - val_loss: 0.2460 - val_accuracy: 0.9306 - val_recall: 0.9028 - val_precision: 0.9286 - val_auc: 0.9843\n"
          ]
        }
      ],
      "source": [
        "model_history = model.fit_generator(\n",
        "    generator=train_generator,\n",
        "    steps_per_epoch=steps_per_epoch,\n",
        "    epochs=epochs,\n",
        "    shuffle=True,\n",
        "    validation_data=val_generator,\n",
        "    validation_steps=val_steps\n",
        ")"
      ],
      "id": "4l1WGw_rgzqW"
    },
    {
      "cell_type": "code",
      "execution_count": null,
      "metadata": {
        "id": "vhKCWfuTg4zm",
        "colab": {
          "base_uri": "https://localhost:8080/",
          "height": 388
        },
        "outputId": "268df867-fda4-436f-cad0-a5caca570a5a"
      },
      "outputs": [
        {
          "output_type": "display_data",
          "data": {
            "text/plain": [
              "<Figure size 864x432 with 2 Axes>"
            ],
            "image/png": "[encoded data removed]"
          },
          "metadata": {
            "needs_background": "light"
          }
        }
      ],
      "source": [
        "plot_loss_and_accuracy(model_history.history)"
      ],
      "id": "vhKCWfuTg4zm"
    },
    {
      "cell_type": "code",
      "execution_count": null,
      "metadata": {
        "id": "RQkNQYVgkJtu",
        "colab": {
          "base_uri": "https://localhost:8080/",
          "height": 562
        },
        "outputId": "2af29e78-fcb9-4d51-8999-ebf87c517cd4"
      },
      "outputs": [
        {
          "output_type": "stream",
          "name": "stdout",
          "text": [
            "31/31 [==============================] - 0s 12ms/step\n",
            "              precision    recall  f1-score   support\n",
            "\n",
            "           0       1.00      0.43      0.60         7\n",
            "           1       0.99      0.96      0.97       194\n",
            "           2       0.81      1.00      0.90        43\n",
            "\n",
            "    accuracy                           0.95       244\n",
            "   macro avg       0.93      0.80      0.82       244\n",
            "weighted avg       0.96      0.95      0.95       244\n",
            "\n",
            "Recall:  0.9508196721311475\n",
            "Accuracy:  0.9508196721311475\n",
            "Precision:  0.9508196721311475\n",
            "F1:  0.9508196721311475\n"
          ]
        },
        {
          "output_type": "display_data",
          "data": {
            "text/plain": [
              "<Figure size 432x288 with 2 Axes>"
            ],
            "image/png": "[encoded data removed]"
          },
          "metadata": {
            "needs_background": "light"
          }
        }
      ],
      "source": [
        "y_true = test_generator.labels\n",
        "y_pred = model.predict(test_generator).argmax(axis=1) # Predict prob and get Class Indices\n",
        "\n",
        "evaluation(y_true, y_pred)"
      ],
      "id": "RQkNQYVgkJtu"
    },
    {
      "cell_type": "markdown",
      "metadata": {
        "id": "L16WS89siy5e"
      },
      "source": [
        "# solution2 : Convert to binary class problem"
      ],
      "id": "L16WS89siy5e"
    },
    {
      "cell_type": "markdown",
      "metadata": {
        "id": "TfdaWgYY9yFI"
      },
      "source": [
        "## solution2 data preprocessing"
      ],
      "id": "TfdaWgYY9yFI"
    },
    {
      "cell_type": "markdown",
      "source": [
        "### save image"
      ],
      "metadata": {
        "id": "VNzRaNR_OZ9A"
      },
      "id": "VNzRaNR_OZ9A"
    },
    {
      "cell_type": "code",
      "execution_count": null,
      "metadata": {
        "id": "kgC0ZNCLi3ih"
      },
      "outputs": [],
      "source": [
        "input_data_path = './archive/images'\n",
        "annotations_path = \"./archive/annotations\"\n",
        "#labels = df['label'].unique()\n",
        "labels = ['with_mask', 'without_mask']\n",
        "directory = ['train', 'test']\n",
        "output_data_path =  './solution2'\n",
        "import os\n",
        "for label in labels:\n",
        "    for d in directory:\n",
        "        path = os.path.join(output_data_path, d, label)\n",
        "        #print(path)\n",
        "        if not os.path.exists(path):\n",
        "            os.makedirs(path)\n",
        "\n",
        "from PIL import Image\n",
        "def crop_img(image_path, xmin, ymin, xmax, ymax):\n",
        "    x_shift = (xmax - xmin) * 0.1\n",
        "    y_shift = (ymax - ymin) * 0.1\n",
        "    img = Image.open(image_path)\n",
        "    cropped = img.crop((xmin - x_shift, ymin - y_shift, xmax + x_shift, ymax + y_shift))\n",
        "    return cropped\n",
        "\n",
        "def extract_faces(image_name, image_info):\n",
        "    faces = []\n",
        "    df_one_img = image_info[image_info['file_name'] == image_name][['label', 'xmin', 'ymin', 'xmax', 'ymax']]\n",
        "    #print(df_one_img)\n",
        "    for row_num in range(len(df_one_img)):\n",
        "        label, xmin, ymin, xmax, ymax = df_one_img.iloc[row_num] \n",
        "        image_path = os.path.join(input_data_path, image_name)\n",
        "        faces.append((crop_img(image_path, xmin, ymin, xmax, ymax), label,f'{image_name[:-4]}_{(xmin, ymin)}'))\n",
        "    return faces\n",
        "\n",
        "def save_image(image, image_name, output_data_path,  dataset_type, label):\n",
        "    output_path = os.path.join(output_data_path, dataset_type, label ,f'{image_name}.png')\n",
        "    image.save(output_path)  \n",
        "\n",
        "images = [*os.listdir(\"./archive/images\")]\n",
        "cropped_faces = [extract_faces(img, df) for img in images]\n",
        "flat_cropped_faces = sum(cropped_faces, [])\n",
        "with_mask = [(img, image_name) for img, label,image_name in flat_cropped_faces if label == \"with_mask\"]\n",
        "without_mask = [(img, image_name) for img, label,image_name in flat_cropped_faces if label == \"without_mask\"]"
      ],
      "id": "kgC0ZNCLi3ih"
    },
    {
      "cell_type": "code",
      "execution_count": null,
      "metadata": {
        "id": "Bim3qdYW7ZMM"
      },
      "outputs": [],
      "source": [
        "from sklearn.model_selection import train_test_split\n",
        "\n",
        "train_with_mask, test_with_mask = train_test_split(with_mask, test_size=0.20, random_state=712)\n",
        "train_without_mask, test_without_mask = train_test_split(without_mask, test_size=0.20, random_state=712)"
      ],
      "id": "Bim3qdYW7ZMM"
    },
    {
      "cell_type": "code",
      "execution_count": null,
      "metadata": {
        "id": "goFGjw5I7i3o"
      },
      "outputs": [],
      "source": [
        "output_data_path =  './solution2'\n",
        "for image, image_name in train_with_mask:\n",
        "    save_image(image, image_name, output_data_path, 'train', 'with_mask')\n",
        "\n",
        "\n",
        "for image, image_name in train_without_mask:\n",
        "    save_image(image, image_name, output_data_path, 'train', 'without_mask')\n",
        "        \n",
        "# Test set\n",
        "\n",
        "for image, image_name in test_with_mask:\n",
        "    save_image(image, image_name, output_data_path, 'test', 'with_mask')\n",
        "\n",
        "for image, image_name in test_without_mask:\n",
        "    save_image(image, image_name, output_data_path, 'test', 'without_mask')\n",
        "    "
      ],
      "id": "goFGjw5I7i3o"
    },
    {
      "cell_type": "markdown",
      "source": [
        "### loead data"
      ],
      "metadata": {
        "id": "e_N9K0qnOeHE"
      },
      "id": "e_N9K0qnOeHE"
    },
    {
      "cell_type": "code",
      "execution_count": null,
      "metadata": {
        "id": "SJ88JrCZ9lna"
      },
      "outputs": [],
      "source": [
        "Batch_size = 128\n",
        "train_folder = './solution2/train'\n",
        "test_folder = './solution2/test'\n",
        "\n",
        "data_transforms_test = transforms.Compose([\n",
        "        transforms.CenterCrop(224),\n",
        "        transforms.ToTensor(),\n",
        "        transforms.Normalize([0.485, 0.456, 0.406], [0.229, 0.224, 0.225])\n",
        "])\n",
        "data_transforms = transforms.Compose([\n",
        "        transforms.RandomResizedCrop(224),\n",
        "        transforms.RandomHorizontalFlip(),\n",
        "        transforms.RandomRotation(10),\n",
        "        transforms.ToTensor(),\n",
        "        transforms.Normalize([0.485, 0.456, 0.406], [0.229, 0.224, 0.225])\n",
        "])\n",
        "\n",
        "train_data = datasets.ImageFolder(train_folder, transform=data_transforms)\n",
        "test_data = datasets.ImageFolder(test_folder, transform=data_transforms_test)\n",
        "\n",
        "len(train_data)\n",
        "len(test_data)\n",
        "\n",
        "train_loader = torch.utils.data.DataLoader(train_data, batch_size=Batch_size, shuffle=True,num_workers=0)\n",
        "test_loader = torch.utils.data.DataLoader(test_data, batch_size=Batch_size, shuffle=False,num_workers=0)"
      ],
      "id": "SJ88JrCZ9lna"
    },
    {
      "cell_type": "markdown",
      "metadata": {
        "id": "TcBjfQn5_PyO"
      },
      "source": [
        "## solution2 alexnet transfer learning"
      ],
      "id": "TcBjfQn5_PyO"
    },
    {
      "cell_type": "code",
      "execution_count": null,
      "metadata": {
        "id": "Z7aCvt91_Vnx"
      },
      "outputs": [],
      "source": [
        "import torchvision.models as models\n",
        "model_ft = models.alexnet(pretrained=True)\n",
        "device = torch.device(\"cuda\" if torch.cuda.is_available() else \"cpu\") \n",
        "model_ft = model_ft.to(device)"
      ],
      "id": "Z7aCvt91_Vnx"
    },
    {
      "cell_type": "code",
      "execution_count": null,
      "metadata": {
        "id": "PvsCt1Nv_bV7"
      },
      "outputs": [],
      "source": [
        "num_ftrs = model_ft.classifier[-1].in_features\n",
        "model_ft.classifier[-1] = nn.Linear(num_ftrs, 1) \n",
        "model_ft = model_ft.to(device)"
      ],
      "id": "PvsCt1Nv_bV7"
    },
    {
      "cell_type": "code",
      "execution_count": null,
      "metadata": {
        "id": "2vb425Bs_dxD"
      },
      "outputs": [],
      "source": [
        "criterion = nn.BCEWithLogitsLoss()\n",
        "optimizer = torch.optim.SGD(model_ft.parameters(), lr=1e-5, momentum=0.9)"
      ],
      "id": "2vb425Bs_dxD"
    },
    {
      "cell_type": "code",
      "execution_count": null,
      "metadata": {
        "id": "WfC2JwWN_koN"
      },
      "outputs": [],
      "source": [
        "from pandas.core.groupby.groupby import OutputFrameOrSeries\n",
        "def train_model(model, criterion, optimizer, num_epochs=25):\n",
        "    for epoch in range(num_epochs):\n",
        "        train_epoch_loss = 0\n",
        "        correct_train = 0\n",
        "        total_train = len(train_data)\n",
        "        for images, labels in tqdm(train_loader):\n",
        "\n",
        "            inputs = images.to(device)\n",
        "            labels = labels.float().unsqueeze(1).to(device)\n",
        "\n",
        "            # zero the parameter gradients\n",
        "            optimizer.zero_grad()\n",
        "\n",
        "            # Do the forward pass\n",
        "            outputs = model(inputs)\n",
        "            predictions_train = torch.round(torch.sigmoid(outputs)).long()\n",
        "            correct_train += torch.sum((predictions_train == labels).float())\n",
        "            loss = criterion(outputs, labels)\n",
        "\n",
        "            # Calculate gradients and step\n",
        "            loss.backward()\n",
        "            optimizer.step()\n",
        "            train_epoch_loss += loss.item()\n",
        "        training_history[\"train_accuracy\"].append((correct_train/total_train).cpu().numpy().astype(float))\n",
        "        training_history[\"train_loss\"].append(train_epoch_loss)\n",
        "        training_history[\"epoch\"].append(epoch)\n",
        "        test_model()\n",
        "        model_ft.train() # set model back to training mode (batch norm layers back to normal) after testing\n",
        "        \n",
        "        \n",
        "def test_model():\n",
        "    ## Testing\n",
        "    correct = 0\n",
        "    total = len(test_data)\n",
        "    test_epoch_loss = 0\n",
        "    model_ft.eval() # set the model into evaluation mode, which changes the \n",
        "    # behavior of the batch norm layer so that it is not sensitive to batch size\n",
        "    with torch.no_grad():\n",
        "        # Iterate through test set minibatchs \n",
        "        for images, labels in tqdm(test_loader):\n",
        "            # Forward pass\n",
        "            inputs = images.to(device)\n",
        "            labels = labels.unsqueeze(1).to(device)\n",
        "            y = model_ft(inputs)\n",
        "            loss = criterion(y, labels.float())\n",
        "            test_epoch_loss += loss.item()\n",
        "\n",
        "            predictions = torch.round(torch.sigmoid(y)).long()\n",
        "            correct += torch.sum((predictions == labels).float())\n",
        "    print('Test accuracy: {}'.format(correct/total))\n",
        "    training_history[\"test_accuracy\"].append((correct/total).cpu().numpy().astype(float))\n",
        "    training_history[\"test_loss\"].append(test_epoch_loss)\n"
      ],
      "id": "WfC2JwWN_koN"
    },
    {
      "cell_type": "code",
      "execution_count": null,
      "metadata": {
        "colab": {
          "base_uri": "https://localhost:8080/",
          "height": 422,
          "referenced_widgets": [
            "917118191a1c4463b9a06b321905e171",
            "d9ea66dc108e47f7931a12ba92b1f564",
            "6a6c62db923640a5996bb8bc4c76ae35",
            "60d0214035d84249af0ec8f98e6fadf8",
            "58267cdbb3e949a59f9f761abf335f6d",
            "4cae2d8ee8bf45ce80aaa07c36da4d35",
            "6264cf40bef0477b9fdfa5cfcef9d801",
            "558386f2833b44f1b488c79d1a58cc96",
            "ab2900d912714a868d1df5685623e25b",
            "1b53dc4d88f34933ae8fb554fa1850f4",
            "b03189ef6b994d88a5cb94b4c2cfbc4d",
            "5fbcdaa8d57d420ca01b30102e822162",
            "0fcf9059cefa48a192a5e7872cf83b7c",
            "2389fecbb07648ebab14633fb646bc4e",
            "d0804e54bcc24c3f96ace77bc58c66d9",
            "68436340b8674038a31675ec64a66d61",
            "bb908631041749db83913bc80833e630",
            "e54e84fa315c4bd7b3d6b289508d5c59",
            "8e654354db55476e97cc7a1d09c096d5",
            "995597cff59e4600972c60044f5741b4",
            "9203e75c9aaf4281a1ba451c4ea3e1e2",
            "529cb060624c49dd98b3ac8eab628c88",
            "e61fe3032a4f4d4f94215044cda5cbfb",
            "da4cc7480cd64c45b1c40a7cd6784163",
            "ac59f4afc34a45c8adc2c364769f151b",
            "f1f041a71949418fa1aabe600b2a2fbc",
            "734f2ac0e99d4397b2c3fc5f0dcf670e",
            "0877d0a571e643c4801e898e7d292de5",
            "044ab4866c47479084e9e29220181f7a",
            "132fcbace39643b5a29e42be5bcc1c8c",
            "00e3824464d84f00a43064fe952fa4b9",
            "4f2a1a5b58ed4829a0dacc760a577927",
            "56b3b746f9d3488d8c134074531903d4",
            "885adc2dca7744f5850751b2e5531ec5",
            "4c27f5cfd5c0403598ac4081291dd7d1",
            "c45696105e2746a0bb14fbd807da47a4",
            "1c8a7ca9d07a47ea8b9defe6287d7492",
            "fa38be2d0c9e45d7b91bcfbe22b2221a",
            "9c65452126c9480680da826db86bef60",
            "e9a9e8f7636b4641b979b943e7cad3d6",
            "395fa54968c1408a9c8b51fa5217832e",
            "c1a94db35fe44a4da6939b2cd319b5f0",
            "b03710deb3e44a68a34e30e98040f294",
            "bf31e859d1fd448f8ed53b817545b6a9",
            "bc57736d78d7489997f28bb59991a234",
            "93c2d4f381a448fdb4808bbc3b8c0df6",
            "6e9f70bb3a794bc084a403578adb7ee9",
            "14c50145c7244b7cbd88863f6a5ca33a",
            "fb427d8a36b44bce8b2557a22156b35a",
            "28dce1707d9b4bb69003e418dca83190",
            "4844051a040b43769db11e8343ff65c1",
            "f06c5b1a54894101862b35d27072e00e",
            "c5f55ec736d04f4fa6a30e4325a8d7eb",
            "6323926d4132401c86420edab8b90fad",
            "91b643b1e6194d02bb8710d5e34f5213",
            "1d86cb5eee824c0fbfce8849b29f1576",
            "eee254fd5cb249e88d8d3e4558e62d64",
            "2a3d6d88483a476fb9f288d85963d04c",
            "c52b6992e4bc462d845edab2c8551109",
            "c1d3c49a2493482aa80895a2ec59e6dc",
            "9a8a86f694284d62ae2f63d40f806473",
            "83ad7991b1114d869f65f1646fdb04ec",
            "0be8281610a14bb6ac6808386312a93b",
            "5ab76b5ede364346bba3cee7b1b65c97",
            "d229fb95f5284d4c8ea03b27649fc8f2",
            "8306ff2c437e4c73a37140cad6c37a93",
            "e6d4ed3bb06140ef860c6c703b9b52b3",
            "39166882139244c389a1f045a42768a3",
            "4531d22dc13c4966acd485c752a911d8",
            "0d35ecc51aa846f7a6e8cf92a027167a",
            "e6fc8b1cabf34d8b92e5e4e4bd64b67f",
            "9cc308b331f14c27a3a1c166c99c88c0",
            "d2c4374afa0348fcb69b8870e19985bc",
            "217bfc91d8a54399af7ff4688bd89f2b",
            "660e201e25024e069a2f4886f4396ef1",
            "840cf104033c4e44919c7437c4f62e20",
            "c514a2d7456b4e2cbacf19c8493abade",
            "902835fb1bc34c029127723f5a688e39",
            "c398b8f768e94e579c8f2c538204dd9f",
            "11cfba3894764392aaa692f753f2b1e0",
            "322c6f0a1f9148098f6e1de718bc3fd2",
            "321ec3a5360749dc96789023701e8fac",
            "a160b8a0078d4042b18d24c538448088",
            "d321dcfd7ba648f3949de02916335498",
            "82b3da2301824273854e7aa34fe47e2d",
            "06605e5a87f94fec8976022eff155244",
            "537cc9bd15d74db89d8d24eb20a28823",
            "4c87e246cd26414990e2feb4d6dee2df",
            "4e29a50fbb6e4892883a68a17c12e148",
            "6b1afa7d017e45128e30f7334a5bee54",
            "c3e6a10b677f48eea2766e7d1fb06b26",
            "cd7d01f18d114ceb9b699b68a3fc6acc",
            "fd44f132bed74d39a5085c3022ff4b82",
            "4849041bd5b64b17a4c6de213c251172",
            "1f4a90d93017415e832a9e205382087a",
            "ef50bc9d65ac4a178cc7852bd09736d3",
            "a47bbc484d5b41f595218eaba4b4067d",
            "084f822cc668406a850cd671201438cd",
            "409be7638ea1488bb02a9bafc2cdec02",
            "4b9c2db5a3fb48d28c416e2cd25883bb",
            "e7c61c9891634dc69dc0e2dc6e9b5470",
            "022d5096ca9647b2b23d72dda828adb7",
            "262d32d17fa74919a7cc82034c6ba46f",
            "e9e132c3acbd402ead5b1dd746b6528a",
            "5d641049346443bdabfa04f46fffbd7c",
            "3ca15f3dd1ee4c5b9ea09774a05e3737",
            "799e610285904287840966e8ae15e8da",
            "6d0784e78b3f49aca764877fe1206c2c",
            "cc0c749aaf0e4432b9bc1de52514affb",
            "39e6c21203eb478799a4a4f1614005c0"
          ]
        },
        "id": "zlu9iG3n_uG3",
        "outputId": "25645608-6bda-4188-f548-c9253f6490a7"
      },
      "outputs": [
        {
          "output_type": "display_data",
          "data": {
            "text/plain": [
              "  0%|          | 0/25 [00:00<?, ?it/s]"
            ],
            "application/vnd.jupyter.widget-view+json": {
              "version_major": 2,
              "version_minor": 0,
              "model_id": "917118191a1c4463b9a06b321905e171"
            }
          },
          "metadata": {}
        },
        {
          "output_type": "display_data",
          "data": {
            "text/plain": [
              "  0%|          | 0/7 [00:00<?, ?it/s]"
            ],
            "application/vnd.jupyter.widget-view+json": {
              "version_major": 2,
              "version_minor": 0,
              "model_id": "5fbcdaa8d57d420ca01b30102e822162"
            }
          },
          "metadata": {}
        },
        {
          "output_type": "stream",
          "name": "stdout",
          "text": [
            "Test accuracy: 0.6295828223228455\n"
          ]
        },
        {
          "output_type": "display_data",
          "data": {
            "text/plain": [
              "  0%|          | 0/25 [00:00<?, ?it/s]"
            ],
            "application/vnd.jupyter.widget-view+json": {
              "version_major": 2,
              "version_minor": 0,
              "model_id": "e61fe3032a4f4d4f94215044cda5cbfb"
            }
          },
          "metadata": {}
        },
        {
          "output_type": "display_data",
          "data": {
            "text/plain": [
              "  0%|          | 0/7 [00:00<?, ?it/s]"
            ],
            "application/vnd.jupyter.widget-view+json": {
              "version_major": 2,
              "version_minor": 0,
              "model_id": "885adc2dca7744f5850751b2e5531ec5"
            }
          },
          "metadata": {}
        },
        {
          "output_type": "stream",
          "name": "stdout",
          "text": [
            "Test accuracy: 0.7673830986022949\n"
          ]
        },
        {
          "output_type": "display_data",
          "data": {
            "text/plain": [
              "  0%|          | 0/25 [00:00<?, ?it/s]"
            ],
            "application/vnd.jupyter.widget-view+json": {
              "version_major": 2,
              "version_minor": 0,
              "model_id": "bc57736d78d7489997f28bb59991a234"
            }
          },
          "metadata": {}
        },
        {
          "output_type": "display_data",
          "data": {
            "text/plain": [
              "  0%|          | 0/7 [00:00<?, ?it/s]"
            ],
            "application/vnd.jupyter.widget-view+json": {
              "version_major": 2,
              "version_minor": 0,
              "model_id": "1d86cb5eee824c0fbfce8849b29f1576"
            }
          },
          "metadata": {}
        },
        {
          "output_type": "stream",
          "name": "stdout",
          "text": [
            "Test accuracy: 0.7888748645782471\n"
          ]
        },
        {
          "output_type": "display_data",
          "data": {
            "text/plain": [
              "  0%|          | 0/25 [00:00<?, ?it/s]"
            ],
            "application/vnd.jupyter.widget-view+json": {
              "version_major": 2,
              "version_minor": 0,
              "model_id": "e6d4ed3bb06140ef860c6c703b9b52b3"
            }
          },
          "metadata": {}
        },
        {
          "output_type": "display_data",
          "data": {
            "text/plain": [
              "  0%|          | 0/7 [00:00<?, ?it/s]"
            ],
            "application/vnd.jupyter.widget-view+json": {
              "version_major": 2,
              "version_minor": 0,
              "model_id": "902835fb1bc34c029127723f5a688e39"
            }
          },
          "metadata": {}
        },
        {
          "output_type": "stream",
          "name": "stdout",
          "text": [
            "Test accuracy: 0.795195996761322\n"
          ]
        },
        {
          "output_type": "display_data",
          "data": {
            "text/plain": [
              "  0%|          | 0/25 [00:00<?, ?it/s]"
            ],
            "application/vnd.jupyter.widget-view+json": {
              "version_major": 2,
              "version_minor": 0,
              "model_id": "4e29a50fbb6e4892883a68a17c12e148"
            }
          },
          "metadata": {}
        },
        {
          "output_type": "display_data",
          "data": {
            "text/plain": [
              "  0%|          | 0/7 [00:00<?, ?it/s]"
            ],
            "application/vnd.jupyter.widget-view+json": {
              "version_major": 2,
              "version_minor": 0,
              "model_id": "4b9c2db5a3fb48d28c416e2cd25883bb"
            }
          },
          "metadata": {}
        },
        {
          "output_type": "stream",
          "name": "stdout",
          "text": [
            "Test accuracy: 0.7989886403083801\n"
          ]
        }
      ],
      "source": [
        "# train_accuracy = []\n",
        "# test_accuracy = []\n",
        "# train_loss = []\n",
        "# test_loss = []\n",
        "training_history = {\"train_loss\": [], \"train_accuracy\": [], \"epoch\": [], \"test_loss\": [], \"test_accuracy\": []}\n",
        "num_epochs=5\n",
        "train_model(model_ft, criterion, optimizer, num_epochs)"
      ],
      "id": "zlu9iG3n_uG3"
    },
    {
      "cell_type": "code",
      "execution_count": null,
      "metadata": {
        "id": "quRUmVjkoLow",
        "colab": {
          "base_uri": "https://localhost:8080/",
          "height": 407
        },
        "outputId": "e2ed7661-d636-4181-b156-c686dae532ba"
      },
      "outputs": [
        {
          "output_type": "execute_result",
          "data": {
            "text/plain": [
              "[Text(0, 0.5, 'accuracy'), Text(0.5, 0, 'epoch number')]"
            ]
          },
          "metadata": {},
          "execution_count": 104
        },
        {
          "output_type": "display_data",
          "data": {
            "text/plain": [
              "<Figure size 864x432 with 2 Axes>"
            ],
            "image/png": "[encoded data removed]"
          },
          "metadata": {
            "needs_background": "light"
          }
        }
      ],
      "source": [
        "history_df = pd.DataFrame(training_history)\n",
        "# history_df.train_accuracy = pd.to_numeric(history_df.train_accuracy)\n",
        "# history_df.test_accuracy = pd.to_numeric(history_df.test_accuracy)\n",
        "history_df[\"train_accuracy\"]=history_df[\"train_accuracy\"].astype(float)\n",
        "history_df[\"test_accuracy\"]=history_df[\"test_accuracy\"].astype(float)\n",
        "fig, ax = plt.subplots(1,2, figsize=(12, 6))\n",
        "    \n",
        "history_df.loc[0:, ['train_loss', 'test_loss']].plot(ax=ax[0])\n",
        "ax[0].set(xlabel = 'epoch number', ylabel = 'loss')\n",
        "\n",
        "history_df.loc[0:, ['train_accuracy', 'test_accuracy']].plot(ax=ax[1])\n",
        "ax[1].set(xlabel = 'epoch number', ylabel = 'accuracy')"
      ],
      "id": "quRUmVjkoLow"
    },
    {
      "cell_type": "code",
      "source": [
        "from sklearn.metrics import confusion_matrix, classification_report\n",
        "from sklearn.metrics import precision_score, recall_score, accuracy_score,f1_score, classification_report\n",
        "\n",
        "import seaborn as sns \n",
        "\n",
        "def evaluation(y, y_hat, title = 'Confusion Matrix'):\n",
        "    \"\"\"Evaluation function\n",
        "    Prints Classification reports and confusion matrix\n",
        "    \"\"\"\n",
        "    cm = confusion_matrix(y, y_hat)\n",
        "    precision = precision_score(y, y_hat)\n",
        "    recall = recall_score(y, y_hat)\n",
        "    accuracy = accuracy_score(y,y_hat)\n",
        "    f1 = f1_score(y,y_hat)\n",
        "    report = classification_report(y,y_hat)\n",
        "    print(report)\n",
        "    print('Recall: ', recall)\n",
        "    print('Accuracy: ', accuracy)\n",
        "    print('Precision: ', precision)\n",
        "    print('F1: ', f1)\n",
        "    sns.heatmap(cm,  cmap= 'PuBu', annot=True, fmt='g', annot_kws={'size':20})\n",
        "    plt.xlabel('predicted', fontsize=18)\n",
        "    plt.ylabel('actual', fontsize=18)\n",
        "    plt.title(title, fontsize=18)\n",
        "    \n",
        "    plt.show()"
      ],
      "metadata": {
        "id": "OmJqpzUEe9f0"
      },
      "id": "OmJqpzUEe9f0",
      "execution_count": null,
      "outputs": []
    },
    {
      "cell_type": "code",
      "source": [
        "from sklearn.metrics import confusion_matrix\n",
        "import seaborn as sn\n",
        "import pandas as pd\n",
        "\n",
        "y_pred = []\n",
        "y_true = []\n",
        "\n",
        "# iterate over test data\n",
        "for inputs, labels in test_loader:\n",
        "        inputs = inputs.to(device)\n",
        "        labels = labels.float().unsqueeze(1).to(device)\n",
        "        outputs = model_ft(inputs) # Feed Network\n",
        "\n",
        "        output = torch.round(torch.sigmoid(outputs)).long()\n",
        "        y_pred.extend(output.cpu().numpy()) # Save Prediction\n",
        "        \n",
        "        labels = labels.data.cpu().numpy()\n",
        "        y_true.extend(labels) # Save Truth\n",
        "\n",
        "evaluation(y_true, y_pred)\n",
        "# # constant for classes\n",
        "# classes = ('with_mask', 'without_mask')\n",
        "\n",
        "# # Build confusion matrix\n",
        "# cf_matrix = confusion_matrix(y_true, y_pred)\n",
        "# df_cm = pd.DataFrame(cf_matrix/np.sum(cf_matrix) *10, index = [i for i in classes],\n",
        "#                      columns = [i for i in classes])\n",
        "# plt.figure(figsize = (12,7))\n",
        "# sn.heatmap(df_cm, annot=True)\n",
        "\n"
      ],
      "metadata": {
        "colab": {
          "base_uri": "https://localhost:8080/",
          "height": 528
        },
        "id": "YxQwzX9dk16m",
        "outputId": "74df9be2-9f3f-4ca5-92e1-38d65362cc23"
      },
      "id": "YxQwzX9dk16m",
      "execution_count": null,
      "outputs": [
        {
          "output_type": "stream",
          "name": "stdout",
          "text": [
            "              precision    recall  f1-score   support\n",
            "\n",
            "         0.0       0.82      0.96      0.88       647\n",
            "         1.0       0.18      0.04      0.07       144\n",
            "\n",
            "    accuracy                           0.79       791\n",
            "   macro avg       0.50      0.50      0.47       791\n",
            "weighted avg       0.70      0.79      0.73       791\n",
            "\n",
            "Recall:  0.041666666666666664\n",
            "Accuracy:  0.7901390644753477\n",
            "Precision:  0.17647058823529413\n",
            "F1:  0.06741573033707865\n"
          ]
        },
        {
          "output_type": "display_data",
          "data": {
            "text/plain": [
              "<Figure size 432x288 with 2 Axes>"
            ],
            "image/png": "[encoded data removed]"
          },
          "metadata": {
            "needs_background": "light"
          }
        }
      ]
    },
    {
      "cell_type": "markdown",
      "source": [
        "# Solution3: Freezing layers in transfer learning"
      ],
      "metadata": {
        "id": "oiXsWabFq047"
      },
      "id": "oiXsWabFq047"
    },
    {
      "cell_type": "markdown",
      "source": [
        "## Data preprocessing"
      ],
      "metadata": {
        "id": "_6M_Xkr7rIya"
      },
      "id": "_6M_Xkr7rIya"
    },
    {
      "cell_type": "code",
      "source": [
        "Batch_size = 128\n",
        "train_folder = 'train'\n",
        "valid_folder = 'val'\n",
        "test_folder = 'test'\n",
        "\n",
        "data_transforms_test = transforms.Compose([\n",
        "        transforms.CenterCrop(224),\n",
        "        transforms.ToTensor(),\n",
        "        transforms.Normalize([0.485, 0.456, 0.406], [0.229, 0.224, 0.225])\n",
        "])\n",
        "data_transforms = transforms.Compose([\n",
        "        transforms.RandomResizedCrop(224),\n",
        "        transforms.RandomHorizontalFlip(),\n",
        "        transforms.RandomRotation(10),\n",
        "        transforms.ToTensor(),\n",
        "        transforms.Normalize([0.485, 0.456, 0.406], [0.229, 0.224, 0.225])\n",
        "])\n",
        "\n",
        "train_data = datasets.ImageFolder(train_folder, transform=data_transforms)\n",
        "valid_data = datasets.ImageFolder(valid_folder, transform=data_transforms_test)\n",
        "test_data = datasets.ImageFolder(test_folder, transform=data_transforms_test)\n",
        "\n",
        "len(train_data)\n",
        "len(valid_data)\n",
        "len(test_data)\n",
        "\n",
        "train_loader = torch.utils.data.DataLoader(train_data, batch_size=Batch_size, shuffle=True,num_workers=0)\n",
        "valid_loader = torch.utils.data.DataLoader(valid_data, batch_size=Batch_size, shuffle=False,num_workers=0)\n",
        "test_loader = torch.utils.data.DataLoader(test_data, batch_size=Batch_size, shuffle=False,num_workers=0)"
      ],
      "metadata": {
        "id": "MCb_IiIsq95D"
      },
      "id": "MCb_IiIsq95D",
      "execution_count": null,
      "outputs": []
    },
    {
      "cell_type": "markdown",
      "source": [
        "## Model"
      ],
      "metadata": {
        "id": "abaQ2CTurTvd"
      },
      "id": "abaQ2CTurTvd"
    },
    {
      "cell_type": "code",
      "source": [
        "def train(model):\n",
        "  since = time.time()\n",
        "  for epoch in range(num_epochs):\n",
        "      metric = [0, 0, 0]\n",
        "      model.train()\n",
        "      total_y, total_pred_label = [], []\n",
        "      \n",
        "      for X, y in train_loader:\n",
        "          X = X.to(device)\n",
        "          y = y.to(device)\n",
        "          y_hat = model(X)\n",
        "          l = loss(y_hat, y)\n",
        "          optimizer.zero_grad()\n",
        "          l.backward()\n",
        "          optimizer.step()\n",
        "          metric[0] += l.item()*len(y)\n",
        "          metric[1] += (y_hat.argmax(dim=1) == y).sum().item()\n",
        "          metric[2] += len(y)\n",
        "          \n",
        "          total_y.extend(y.cpu())\n",
        "          total_pred_label.extend(y_hat.argmax(dim=1).cpu())\n",
        "\n",
        "      with torch.no_grad():\n",
        "          train_l = metric[0]/metric[2]\n",
        "          train_acc = metric[1]/metric[2]\n",
        "          test_l, test_acc, test_pre,test_recall,test_f1 = evaluate_accuracy(valid_loader, model, device)\n",
        "      \n",
        "          metric_score = metricss(np.array(total_y), np.array(total_pred_label))\n",
        "          sorted_metric_score = sorted(metric_score.items(), key=lambda x: x[0])\n",
        "          metrics_string = '\\t'.join(['loss'] +['acc']+ [metric_name[1:] for metric_name, _ in sorted_metric_score])\n",
        "          score_string = '\\t'.join(['{:.4f}'.format(train_l)] + ['{:.4f}'.format(train_acc)]+['{:.4f}'.format(score) for _, score in sorted_metric_score])\n",
        "          print(\"{}{}\\t{}\".format('epoch', epoch, metrics_string))\n",
        "          print(\"{}{}\\t{}\".format('train', '', score_string))\n",
        "\n",
        "          training_history[\"train_loss\"].append(train_l)\n",
        "          training_history[\"train_accuracy\"].append(train_acc)    \n",
        "          training_history[\"epoch\"].append(epoch)\n",
        "          training_history[\"test_loss\"].append(test_l)\n",
        "          training_history[\"test_accuracy\"].append(test_acc)\n",
        "          print(\"{}{}\\t{:.4f}\\t{:.4f}\\t{:.4f}\\t{:.4f}\\t{:.4f}\".format('test', '', test_l, test_acc, test_pre, test_recall, test_f1))  \n",
        "\n",
        "  time_elapsed = time.time() - since\n",
        "  print('Training completed in {:.0f}m {:.0f}s'.format(time_elapsed // 60, time_elapsed % 60))"
      ],
      "metadata": {
        "id": "43NyBzPasumg"
      },
      "id": "43NyBzPasumg",
      "execution_count": null,
      "outputs": []
    },
    {
      "cell_type": "code",
      "source": [
        "model_ft = models.alexnet(pretrained=True)\n",
        "\n",
        "for param in model_ft.parameters():\n",
        "    param.requires_grad = False\n",
        "\n",
        "num_ftrs = model_ft.classifier[-1].in_features \n",
        "model_ft.classifier[-1] = nn.Linear(num_ftrs, 3)\n",
        "model_ft = model_ft.to(device)\n",
        "model = model_ft.to(device)\n",
        "optimizer = torch.optim.SGD(model_ft.parameters(), lr=1e-5, momentum=0.9)"
      ],
      "metadata": {
        "id": "yoWAXF1YrWVP"
      },
      "id": "yoWAXF1YrWVP",
      "execution_count": null,
      "outputs": []
    },
    {
      "cell_type": "code",
      "source": [
        "num_epochs = 5\n",
        "model = model.to(device)\n",
        "loss = nn.CrossEntropyLoss()\n",
        "optimizer = optim.SGD(model.parameters(), lr=1e-2, momentum=0.7)\n",
        "training_history = {\"train_loss\": [], \"train_accuracy\": [], \"epoch\": [], \"test_loss\": [], \"test_accuracy\": []}\n",
        "train(model)"
      ],
      "metadata": {
        "colab": {
          "base_uri": "https://localhost:8080/"
        },
        "id": "F4A0mVEPrhdG",
        "outputId": "0bc1b43d-dc1b-4887-f9bd-7526671264e0"
      },
      "id": "F4A0mVEPrhdG",
      "execution_count": null,
      "outputs": [
        {
          "output_type": "stream",
          "name": "stdout",
          "text": [
            "epoch0\tloss\tacc\tpre\trecall\tf1\n",
            "train\t0.6889\t0.7770\t0.4285\t0.4385\t0.4334\n",
            "test\t2.2311\t0.7990\t0.5992\t0.3465\t0.3212\n",
            "epoch1\tloss\tacc\tpre\trecall\tf1\n",
            "train\t0.4375\t0.8452\t0.8434\t0.5057\t0.5118\n",
            "test\t3.5886\t0.8024\t0.6001\t0.3531\t0.3338\n",
            "epoch2\tloss\tacc\tpre\trecall\tf1\n",
            "train\t0.4041\t0.8538\t0.8566\t0.5094\t0.5191\n",
            "test\t2.5556\t0.8042\t0.6006\t0.3564\t0.3399\n",
            "epoch3\tloss\tacc\tpre\trecall\tf1\n",
            "train\t0.3900\t0.8526\t0.6036\t0.5174\t0.5227\n",
            "test\t3.2832\t0.8007\t0.5996\t0.3498\t0.3275\n",
            "epoch4\tloss\tacc\tpre\trecall\tf1\n",
            "train\t0.3792\t0.8590\t0.6105\t0.5192\t0.5266\n",
            "test\t3.5329\t0.8024\t0.6001\t0.3531\t0.3338\n",
            "Training completed in 1m 5s\n"
          ]
        }
      ]
    },
    {
      "cell_type": "code",
      "source": [
        "plot_metricss()"
      ],
      "metadata": {
        "colab": {
          "base_uri": "https://localhost:8080/",
          "height": 388
        },
        "id": "ghp_TtdvtqtP",
        "outputId": "8df37f78-3854-4c2c-8f89-9284d96d08ee"
      },
      "id": "ghp_TtdvtqtP",
      "execution_count": null,
      "outputs": [
        {
          "output_type": "display_data",
          "data": {
            "text/plain": [
              "<Figure size 864x432 with 2 Axes>"
            ],
            "image/png": "[encoded data removed]"
          },
          "metadata": {
            "needs_background": "light"
          }
        }
      ]
    },
    {
      "cell_type": "code",
      "source": [
        "from sklearn.metrics import confusion_matrix, classification_report\n",
        "from sklearn.metrics import precision_score, recall_score, accuracy_score,f1_score, classification_report\n",
        "\n",
        "import seaborn as sns \n",
        "\n",
        "def evaluation(y, y_hat, title = 'Confusion Matrix'):\n",
        "    \"\"\"Evaluation function\n",
        "    Prints Classification reports and confusion matrix\n",
        "    \"\"\"\n",
        "    cm = confusion_matrix(y, y_hat)\n",
        "    precision = precision_score(y, y_hat,average='micro')\n",
        "    recall = recall_score(y, y_hat,average='micro')\n",
        "    accuracy = accuracy_score(y,y_hat)\n",
        "    f1 = f1_score(y,y_hat,average='micro')\n",
        "    report = classification_report(y,y_hat)\n",
        "    print(report)\n",
        "    print('Recall: ', recall)\n",
        "    print('Accuracy: ', accuracy)\n",
        "    print('Precision: ', precision)\n",
        "    print('F1: ', f1)\n",
        "    sns.heatmap(cm,  cmap= 'PuBu', annot=True, fmt='g', annot_kws={'size':20})\n",
        "    plt.xlabel('predicted', fontsize=18)\n",
        "    plt.ylabel('actual', fontsize=18)\n",
        "    plt.title(title, fontsize=18)\n",
        "    \n",
        "    plt.show()"
      ],
      "metadata": {
        "id": "b0nWKwJ3t7VE"
      },
      "id": "b0nWKwJ3t7VE",
      "execution_count": null,
      "outputs": []
    },
    {
      "cell_type": "code",
      "source": [
        "from sklearn.metrics import confusion_matrix\n",
        "import seaborn as sn\n",
        "import pandas as pd\n",
        "\n",
        "y_pred = []\n",
        "y_true = []\n",
        "\n",
        "# iterate over test data\n",
        "for inputs, labels in test_loader:\n",
        "        inputs = inputs.to(device)\n",
        "        outputs = model(inputs).argmax(axis=1) # Feed Network\n",
        "        y_pred.extend(outputs.cpu().numpy()) # Save Prediction\n",
        "        \n",
        "        labels = labels.data.cpu().numpy()\n",
        "        y_true.extend(labels) # Save Truth\n",
        "\n",
        "evaluation(y_true, y_pred)"
      ],
      "metadata": {
        "colab": {
          "base_uri": "https://localhost:8080/",
          "height": 545
        },
        "id": "nKWdpJANt_rE",
        "outputId": "132676a7-944d-4359-af94-256994fbca9c"
      },
      "id": "nKWdpJANt_rE",
      "execution_count": null,
      "outputs": [
        {
          "output_type": "stream",
          "name": "stdout",
          "text": [
            "              precision    recall  f1-score   support\n",
            "\n",
            "           0       0.00      0.00      0.00         7\n",
            "           1       0.80      1.00      0.89       194\n",
            "           2       1.00      0.02      0.05        43\n",
            "\n",
            "    accuracy                           0.80       244\n",
            "   macro avg       0.60      0.34      0.31       244\n",
            "weighted avg       0.81      0.80      0.71       244\n",
            "\n",
            "Recall:  0.7991803278688525\n",
            "Accuracy:  0.7991803278688525\n",
            "Precision:  0.7991803278688525\n",
            "F1:  0.7991803278688525\n"
          ]
        },
        {
          "output_type": "display_data",
          "data": {
            "text/plain": [
              "<Figure size 432x288 with 2 Axes>"
            ],
            "image/png": "[encoded data removed]"
          },
          "metadata": {
            "needs_background": "light"
          }
        }
      ]
    }
  ],
  "metadata": {
    "accelerator": "GPU",
    "colab": {
      "collapsed_sections": [
        "JaSmtHTq6Eys",
        "7a34c4d7",
        "AiGGeJ2WMezZ",
        "P6Sjd_gAMY0S",
        "XEEQHvwzMnUS",
        "_5Q0VpGGyTrd",
        "cdaagowc1wz4",
        "3HhoYHh64rM0",
        "o59k152W5V31",
        "LOZGjoAi_Ng3",
        "g-wUcZBLk7G7",
        "L16WS89siy5e",
        "TfdaWgYY9yFI",
        "VNzRaNR_OZ9A",
        "e_N9K0qnOeHE",
        "TcBjfQn5_PyO",
        "oiXsWabFq047",
        "_6M_Xkr7rIya",
        "abaQ2CTurTvd"
      ],
      "machine_shape": "hm",
      "provenance": [],
      "gpuClass": "premium"
    },
    "gpuClass": "premium",
    "kernelspec": {
      "display_name": "Python 3 (ipykernel)",
      "language": "python",
      "name": "python3"
    },
    "language_info": {
      "codemirror_mode": {
        "name": "ipython",
        "version": 3
      },
      "file_extension": ".py",
      "mimetype": "text/x-python",
      "name": "python",
      "nbconvert_exporter": "python",
      "pygments_lexer": "ipython3",
      "version": "3.9.7"
    },
    "widgets": {
      "application/vnd.jupyter.widget-state+json": {
        "917118191a1c4463b9a06b321905e171": {
          "model_module": "@jupyter-widgets/controls",
          "model_name": "HBoxModel",
          "model_module_version": "1.5.0",
          "state": {
            "_dom_classes": [],
            "_model_module": "@jupyter-widgets/controls",
            "_model_module_version": "1.5.0",
            "_model_name": "HBoxModel",
            "_view_count": null,
            "_view_module": "@jupyter-widgets/controls",
            "_view_module_version": "1.5.0",
            "_view_name": "HBoxView",
            "box_style": "",
            "children": [
              "IPY_MODEL_d9ea66dc108e47f7931a12ba92b1f564",
              "IPY_MODEL_6a6c62db923640a5996bb8bc4c76ae35",
              "IPY_MODEL_60d0214035d84249af0ec8f98e6fadf8"
            ],
            "layout": "IPY_MODEL_58267cdbb3e949a59f9f761abf335f6d"
          }
        },
        "d9ea66dc108e47f7931a12ba92b1f564": {
          "model_module": "@jupyter-widgets/controls",
          "model_name": "HTMLModel",
          "model_module_version": "1.5.0",
          "state": {
            "_dom_classes": [],
            "_model_module": "@jupyter-widgets/controls",
            "_model_module_version": "1.5.0",
            "_model_name": "HTMLModel",
            "_view_count": null,
            "_view_module": "@jupyter-widgets/controls",
            "_view_module_version": "1.5.0",
            "_view_name": "HTMLView",
            "description": "",
            "description_tooltip": null,
            "layout": "IPY_MODEL_4cae2d8ee8bf45ce80aaa07c36da4d35",
            "placeholder": "​",
            "style": "IPY_MODEL_6264cf40bef0477b9fdfa5cfcef9d801",
            "value": "100%"
          }
        },
        "6a6c62db923640a5996bb8bc4c76ae35": {
          "model_module": "@jupyter-widgets/controls",
          "model_name": "FloatProgressModel",
          "model_module_version": "1.5.0",
          "state": {
            "_dom_classes": [],
            "_model_module": "@jupyter-widgets/controls",
            "_model_module_version": "1.5.0",
            "_model_name": "FloatProgressModel",
            "_view_count": null,
            "_view_module": "@jupyter-widgets/controls",
            "_view_module_version": "1.5.0",
            "_view_name": "ProgressView",
            "bar_style": "success",
            "description": "",
            "description_tooltip": null,
            "layout": "IPY_MODEL_558386f2833b44f1b488c79d1a58cc96",
            "max": 25,
            "min": 0,
            "orientation": "horizontal",
            "style": "IPY_MODEL_ab2900d912714a868d1df5685623e25b",
            "value": 25
          }
        },
        "60d0214035d84249af0ec8f98e6fadf8": {
          "model_module": "@jupyter-widgets/controls",
          "model_name": "HTMLModel",
          "model_module_version": "1.5.0",
          "state": {
            "_dom_classes": [],
            "_model_module": "@jupyter-widgets/controls",
            "_model_module_version": "1.5.0",
            "_model_name": "HTMLModel",
            "_view_count": null,
            "_view_module": "@jupyter-widgets/controls",
            "_view_module_version": "1.5.0",
            "_view_name": "HTMLView",
            "description": "",
            "description_tooltip": null,
            "layout": "IPY_MODEL_1b53dc4d88f34933ae8fb554fa1850f4",
            "placeholder": "​",
            "style": "IPY_MODEL_b03189ef6b994d88a5cb94b4c2cfbc4d",
            "value": " 25/25 [00:12&lt;00:00,  2.22it/s]"
          }
        },
        "58267cdbb3e949a59f9f761abf335f6d": {
          "model_module": "@jupyter-widgets/base",
          "model_name": "LayoutModel",
          "model_module_version": "1.2.0",
          "state": {
            "_model_module": "@jupyter-widgets/base",
            "_model_module_version": "1.2.0",
            "_model_name": "LayoutModel",
            "_view_count": null,
            "_view_module": "@jupyter-widgets/base",
            "_view_module_version": "1.2.0",
            "_view_name": "LayoutView",
            "align_content": null,
            "align_items": null,
            "align_self": null,
            "border": null,
            "bottom": null,
            "display": null,
            "flex": null,
            "flex_flow": null,
            "grid_area": null,
            "grid_auto_columns": null,
            "grid_auto_flow": null,
            "grid_auto_rows": null,
            "grid_column": null,
            "grid_gap": null,
            "grid_row": null,
            "grid_template_areas": null,
            "grid_template_columns": null,
            "grid_template_rows": null,
            "height": null,
            "justify_content": null,
            "justify_items": null,
            "left": null,
            "margin": null,
            "max_height": null,
            "max_width": null,
            "min_height": null,
            "min_width": null,
            "object_fit": null,
            "object_position": null,
            "order": null,
            "overflow": null,
            "overflow_x": null,
            "overflow_y": null,
            "padding": null,
            "right": null,
            "top": null,
            "visibility": null,
            "width": null
          }
        },
        "4cae2d8ee8bf45ce80aaa07c36da4d35": {
          "model_module": "@jupyter-widgets/base",
          "model_name": "LayoutModel",
          "model_module_version": "1.2.0",
          "state": {
            "_model_module": "@jupyter-widgets/base",
            "_model_module_version": "1.2.0",
            "_model_name": "LayoutModel",
            "_view_count": null,
            "_view_module": "@jupyter-widgets/base",
            "_view_module_version": "1.2.0",
            "_view_name": "LayoutView",
            "align_content": null,
            "align_items": null,
            "align_self": null,
            "border": null,
            "bottom": null,
            "display": null,
            "flex": null,
            "flex_flow": null,
            "grid_area": null,
            "grid_auto_columns": null,
            "grid_auto_flow": null,
            "grid_auto_rows": null,
            "grid_column": null,
            "grid_gap": null,
            "grid_row": null,
            "grid_template_areas": null,
            "grid_template_columns": null,
            "grid_template_rows": null,
            "height": null,
            "justify_content": null,
            "justify_items": null,
            "left": null,
            "margin": null,
            "max_height": null,
            "max_width": null,
            "min_height": null,
            "min_width": null,
            "object_fit": null,
            "object_position": null,
            "order": null,
            "overflow": null,
            "overflow_x": null,
            "overflow_y": null,
            "padding": null,
            "right": null,
            "top": null,
            "visibility": null,
            "width": null
          }
        },
        "6264cf40bef0477b9fdfa5cfcef9d801": {
          "model_module": "@jupyter-widgets/controls",
          "model_name": "DescriptionStyleModel",
          "model_module_version": "1.5.0",
          "state": {
            "_model_module": "@jupyter-widgets/controls",
            "_model_module_version": "1.5.0",
            "_model_name": "DescriptionStyleModel",
            "_view_count": null,
            "_view_module": "@jupyter-widgets/base",
            "_view_module_version": "1.2.0",
            "_view_name": "StyleView",
            "description_width": ""
          }
        },
        "558386f2833b44f1b488c79d1a58cc96": {
          "model_module": "@jupyter-widgets/base",
          "model_name": "LayoutModel",
          "model_module_version": "1.2.0",
          "state": {
            "_model_module": "@jupyter-widgets/base",
            "_model_module_version": "1.2.0",
            "_model_name": "LayoutModel",
            "_view_count": null,
            "_view_module": "@jupyter-widgets/base",
            "_view_module_version": "1.2.0",
            "_view_name": "LayoutView",
            "align_content": null,
            "align_items": null,
            "align_self": null,
            "border": null,
            "bottom": null,
            "display": null,
            "flex": null,
            "flex_flow": null,
            "grid_area": null,
            "grid_auto_columns": null,
            "grid_auto_flow": null,
            "grid_auto_rows": null,
            "grid_column": null,
            "grid_gap": null,
            "grid_row": null,
            "grid_template_areas": null,
            "grid_template_columns": null,
            "grid_template_rows": null,
            "height": null,
            "justify_content": null,
            "justify_items": null,
            "left": null,
            "margin": null,
            "max_height": null,
            "max_width": null,
            "min_height": null,
            "min_width": null,
            "object_fit": null,
            "object_position": null,
            "order": null,
            "overflow": null,
            "overflow_x": null,
            "overflow_y": null,
            "padding": null,
            "right": null,
            "top": null,
            "visibility": null,
            "width": null
          }
        },
        "ab2900d912714a868d1df5685623e25b": {
          "model_module": "@jupyter-widgets/controls",
          "model_name": "ProgressStyleModel",
          "model_module_version": "1.5.0",
          "state": {
            "_model_module": "@jupyter-widgets/controls",
            "_model_module_version": "1.5.0",
            "_model_name": "ProgressStyleModel",
            "_view_count": null,
            "_view_module": "@jupyter-widgets/base",
            "_view_module_version": "1.2.0",
            "_view_name": "StyleView",
            "bar_color": null,
            "description_width": ""
          }
        },
        "1b53dc4d88f34933ae8fb554fa1850f4": {
          "model_module": "@jupyter-widgets/base",
          "model_name": "LayoutModel",
          "model_module_version": "1.2.0",
          "state": {
            "_model_module": "@jupyter-widgets/base",
            "_model_module_version": "1.2.0",
            "_model_name": "LayoutModel",
            "_view_count": null,
            "_view_module": "@jupyter-widgets/base",
            "_view_module_version": "1.2.0",
            "_view_name": "LayoutView",
            "align_content": null,
            "align_items": null,
            "align_self": null,
            "border": null,
            "bottom": null,
            "display": null,
            "flex": null,
            "flex_flow": null,
            "grid_area": null,
            "grid_auto_columns": null,
            "grid_auto_flow": null,
            "grid_auto_rows": null,
            "grid_column": null,
            "grid_gap": null,
            "grid_row": null,
            "grid_template_areas": null,
            "grid_template_columns": null,
            "grid_template_rows": null,
            "height": null,
            "justify_content": null,
            "justify_items": null,
            "left": null,
            "margin": null,
            "max_height": null,
            "max_width": null,
            "min_height": null,
            "min_width": null,
            "object_fit": null,
            "object_position": null,
            "order": null,
            "overflow": null,
            "overflow_x": null,
            "overflow_y": null,
            "padding": null,
            "right": null,
            "top": null,
            "visibility": null,
            "width": null
          }
        },
        "b03189ef6b994d88a5cb94b4c2cfbc4d": {
          "model_module": "@jupyter-widgets/controls",
          "model_name": "DescriptionStyleModel",
          "model_module_version": "1.5.0",
          "state": {
            "_model_module": "@jupyter-widgets/controls",
            "_model_module_version": "1.5.0",
            "_model_name": "DescriptionStyleModel",
            "_view_count": null,
            "_view_module": "@jupyter-widgets/base",
            "_view_module_version": "1.2.0",
            "_view_name": "StyleView",
            "description_width": ""
          }
        },
        "5fbcdaa8d57d420ca01b30102e822162": {
          "model_module": "@jupyter-widgets/controls",
          "model_name": "HBoxModel",
          "model_module_version": "1.5.0",
          "state": {
            "_dom_classes": [],
            "_model_module": "@jupyter-widgets/controls",
            "_model_module_version": "1.5.0",
            "_model_name": "HBoxModel",
            "_view_count": null,
            "_view_module": "@jupyter-widgets/controls",
            "_view_module_version": "1.5.0",
            "_view_name": "HBoxView",
            "box_style": "",
            "children": [
              "IPY_MODEL_0fcf9059cefa48a192a5e7872cf83b7c",
              "IPY_MODEL_2389fecbb07648ebab14633fb646bc4e",
              "IPY_MODEL_d0804e54bcc24c3f96ace77bc58c66d9"
            ],
            "layout": "IPY_MODEL_68436340b8674038a31675ec64a66d61"
          }
        },
        "0fcf9059cefa48a192a5e7872cf83b7c": {
          "model_module": "@jupyter-widgets/controls",
          "model_name": "HTMLModel",
          "model_module_version": "1.5.0",
          "state": {
            "_dom_classes": [],
            "_model_module": "@jupyter-widgets/controls",
            "_model_module_version": "1.5.0",
            "_model_name": "HTMLModel",
            "_view_count": null,
            "_view_module": "@jupyter-widgets/controls",
            "_view_module_version": "1.5.0",
            "_view_name": "HTMLView",
            "description": "",
            "description_tooltip": null,
            "layout": "IPY_MODEL_bb908631041749db83913bc80833e630",
            "placeholder": "​",
            "style": "IPY_MODEL_e54e84fa315c4bd7b3d6b289508d5c59",
            "value": "100%"
          }
        },
        "2389fecbb07648ebab14633fb646bc4e": {
          "model_module": "@jupyter-widgets/controls",
          "model_name": "FloatProgressModel",
          "model_module_version": "1.5.0",
          "state": {
            "_dom_classes": [],
            "_model_module": "@jupyter-widgets/controls",
            "_model_module_version": "1.5.0",
            "_model_name": "FloatProgressModel",
            "_view_count": null,
            "_view_module": "@jupyter-widgets/controls",
            "_view_module_version": "1.5.0",
            "_view_name": "ProgressView",
            "bar_style": "success",
            "description": "",
            "description_tooltip": null,
            "layout": "IPY_MODEL_8e654354db55476e97cc7a1d09c096d5",
            "max": 7,
            "min": 0,
            "orientation": "horizontal",
            "style": "IPY_MODEL_995597cff59e4600972c60044f5741b4",
            "value": 7
          }
        },
        "d0804e54bcc24c3f96ace77bc58c66d9": {
          "model_module": "@jupyter-widgets/controls",
          "model_name": "HTMLModel",
          "model_module_version": "1.5.0",
          "state": {
            "_dom_classes": [],
            "_model_module": "@jupyter-widgets/controls",
            "_model_module_version": "1.5.0",
            "_model_name": "HTMLModel",
            "_view_count": null,
            "_view_module": "@jupyter-widgets/controls",
            "_view_module_version": "1.5.0",
            "_view_name": "HTMLView",
            "description": "",
            "description_tooltip": null,
            "layout": "IPY_MODEL_9203e75c9aaf4281a1ba451c4ea3e1e2",
            "placeholder": "​",
            "style": "IPY_MODEL_529cb060624c49dd98b3ac8eab628c88",
            "value": " 7/7 [00:02&lt;00:00,  2.93it/s]"
          }
        },
        "68436340b8674038a31675ec64a66d61": {
          "model_module": "@jupyter-widgets/base",
          "model_name": "LayoutModel",
          "model_module_version": "1.2.0",
          "state": {
            "_model_module": "@jupyter-widgets/base",
            "_model_module_version": "1.2.0",
            "_model_name": "LayoutModel",
            "_view_count": null,
            "_view_module": "@jupyter-widgets/base",
            "_view_module_version": "1.2.0",
            "_view_name": "LayoutView",
            "align_content": null,
            "align_items": null,
            "align_self": null,
            "border": null,
            "bottom": null,
            "display": null,
            "flex": null,
            "flex_flow": null,
            "grid_area": null,
            "grid_auto_columns": null,
            "grid_auto_flow": null,
            "grid_auto_rows": null,
            "grid_column": null,
            "grid_gap": null,
            "grid_row": null,
            "grid_template_areas": null,
            "grid_template_columns": null,
            "grid_template_rows": null,
            "height": null,
            "justify_content": null,
            "justify_items": null,
            "left": null,
            "margin": null,
            "max_height": null,
            "max_width": null,
            "min_height": null,
            "min_width": null,
            "object_fit": null,
            "object_position": null,
            "order": null,
            "overflow": null,
            "overflow_x": null,
            "overflow_y": null,
            "padding": null,
            "right": null,
            "top": null,
            "visibility": null,
            "width": null
          }
        },
        "bb908631041749db83913bc80833e630": {
          "model_module": "@jupyter-widgets/base",
          "model_name": "LayoutModel",
          "model_module_version": "1.2.0",
          "state": {
            "_model_module": "@jupyter-widgets/base",
            "_model_module_version": "1.2.0",
            "_model_name": "LayoutModel",
            "_view_count": null,
            "_view_module": "@jupyter-widgets/base",
            "_view_module_version": "1.2.0",
            "_view_name": "LayoutView",
            "align_content": null,
            "align_items": null,
            "align_self": null,
            "border": null,
            "bottom": null,
            "display": null,
            "flex": null,
            "flex_flow": null,
            "grid_area": null,
            "grid_auto_columns": null,
            "grid_auto_flow": null,
            "grid_auto_rows": null,
            "grid_column": null,
            "grid_gap": null,
            "grid_row": null,
            "grid_template_areas": null,
            "grid_template_columns": null,
            "grid_template_rows": null,
            "height": null,
            "justify_content": null,
            "justify_items": null,
            "left": null,
            "margin": null,
            "max_height": null,
            "max_width": null,
            "min_height": null,
            "min_width": null,
            "object_fit": null,
            "object_position": null,
            "order": null,
            "overflow": null,
            "overflow_x": null,
            "overflow_y": null,
            "padding": null,
            "right": null,
            "top": null,
            "visibility": null,
            "width": null
          }
        },
        "e54e84fa315c4bd7b3d6b289508d5c59": {
          "model_module": "@jupyter-widgets/controls",
          "model_name": "DescriptionStyleModel",
          "model_module_version": "1.5.0",
          "state": {
            "_model_module": "@jupyter-widgets/controls",
            "_model_module_version": "1.5.0",
            "_model_name": "DescriptionStyleModel",
            "_view_count": null,
            "_view_module": "@jupyter-widgets/base",
            "_view_module_version": "1.2.0",
            "_view_name": "StyleView",
            "description_width": ""
          }
        },
        "8e654354db55476e97cc7a1d09c096d5": {
          "model_module": "@jupyter-widgets/base",
          "model_name": "LayoutModel",
          "model_module_version": "1.2.0",
          "state": {
            "_model_module": "@jupyter-widgets/base",
            "_model_module_version": "1.2.0",
            "_model_name": "LayoutModel",
            "_view_count": null,
            "_view_module": "@jupyter-widgets/base",
            "_view_module_version": "1.2.0",
            "_view_name": "LayoutView",
            "align_content": null,
            "align_items": null,
            "align_self": null,
            "border": null,
            "bottom": null,
            "display": null,
            "flex": null,
            "flex_flow": null,
            "grid_area": null,
            "grid_auto_columns": null,
            "grid_auto_flow": null,
            "grid_auto_rows": null,
            "grid_column": null,
            "grid_gap": null,
            "grid_row": null,
            "grid_template_areas": null,
            "grid_template_columns": null,
            "grid_template_rows": null,
            "height": null,
            "justify_content": null,
            "justify_items": null,
            "left": null,
            "margin": null,
            "max_height": null,
            "max_width": null,
            "min_height": null,
            "min_width": null,
            "object_fit": null,
            "object_position": null,
            "order": null,
            "overflow": null,
            "overflow_x": null,
            "overflow_y": null,
            "padding": null,
            "right": null,
            "top": null,
            "visibility": null,
            "width": null
          }
        },
        "995597cff59e4600972c60044f5741b4": {
          "model_module": "@jupyter-widgets/controls",
          "model_name": "ProgressStyleModel",
          "model_module_version": "1.5.0",
          "state": {
            "_model_module": "@jupyter-widgets/controls",
            "_model_module_version": "1.5.0",
            "_model_name": "ProgressStyleModel",
            "_view_count": null,
            "_view_module": "@jupyter-widgets/base",
            "_view_module_version": "1.2.0",
            "_view_name": "StyleView",
            "bar_color": null,
            "description_width": ""
          }
        },
        "9203e75c9aaf4281a1ba451c4ea3e1e2": {
          "model_module": "@jupyter-widgets/base",
          "model_name": "LayoutModel",
          "model_module_version": "1.2.0",
          "state": {
            "_model_module": "@jupyter-widgets/base",
            "_model_module_version": "1.2.0",
            "_model_name": "LayoutModel",
            "_view_count": null,
            "_view_module": "@jupyter-widgets/base",
            "_view_module_version": "1.2.0",
            "_view_name": "LayoutView",
            "align_content": null,
            "align_items": null,
            "align_self": null,
            "border": null,
            "bottom": null,
            "display": null,
            "flex": null,
            "flex_flow": null,
            "grid_area": null,
            "grid_auto_columns": null,
            "grid_auto_flow": null,
            "grid_auto_rows": null,
            "grid_column": null,
            "grid_gap": null,
            "grid_row": null,
            "grid_template_areas": null,
            "grid_template_columns": null,
            "grid_template_rows": null,
            "height": null,
            "justify_content": null,
            "justify_items": null,
            "left": null,
            "margin": null,
            "max_height": null,
            "max_width": null,
            "min_height": null,
            "min_width": null,
            "object_fit": null,
            "object_position": null,
            "order": null,
            "overflow": null,
            "overflow_x": null,
            "overflow_y": null,
            "padding": null,
            "right": null,
            "top": null,
            "visibility": null,
            "width": null
          }
        },
        "529cb060624c49dd98b3ac8eab628c88": {
          "model_module": "@jupyter-widgets/controls",
          "model_name": "DescriptionStyleModel",
          "model_module_version": "1.5.0",
          "state": {
            "_model_module": "@jupyter-widgets/controls",
            "_model_module_version": "1.5.0",
            "_model_name": "DescriptionStyleModel",
            "_view_count": null,
            "_view_module": "@jupyter-widgets/base",
            "_view_module_version": "1.2.0",
            "_view_name": "StyleView",
            "description_width": ""
          }
        },
        "e61fe3032a4f4d4f94215044cda5cbfb": {
          "model_module": "@jupyter-widgets/controls",
          "model_name": "HBoxModel",
          "model_module_version": "1.5.0",
          "state": {
            "_dom_classes": [],
            "_model_module": "@jupyter-widgets/controls",
            "_model_module_version": "1.5.0",
            "_model_name": "HBoxModel",
            "_view_count": null,
            "_view_module": "@jupyter-widgets/controls",
            "_view_module_version": "1.5.0",
            "_view_name": "HBoxView",
            "box_style": "",
            "children": [
              "IPY_MODEL_da4cc7480cd64c45b1c40a7cd6784163",
              "IPY_MODEL_ac59f4afc34a45c8adc2c364769f151b",
              "IPY_MODEL_f1f041a71949418fa1aabe600b2a2fbc"
            ],
            "layout": "IPY_MODEL_734f2ac0e99d4397b2c3fc5f0dcf670e"
          }
        },
        "da4cc7480cd64c45b1c40a7cd6784163": {
          "model_module": "@jupyter-widgets/controls",
          "model_name": "HTMLModel",
          "model_module_version": "1.5.0",
          "state": {
            "_dom_classes": [],
            "_model_module": "@jupyter-widgets/controls",
            "_model_module_version": "1.5.0",
            "_model_name": "HTMLModel",
            "_view_count": null,
            "_view_module": "@jupyter-widgets/controls",
            "_view_module_version": "1.5.0",
            "_view_name": "HTMLView",
            "description": "",
            "description_tooltip": null,
            "layout": "IPY_MODEL_0877d0a571e643c4801e898e7d292de5",
            "placeholder": "​",
            "style": "IPY_MODEL_044ab4866c47479084e9e29220181f7a",
            "value": "100%"
          }
        },
        "ac59f4afc34a45c8adc2c364769f151b": {
          "model_module": "@jupyter-widgets/controls",
          "model_name": "FloatProgressModel",
          "model_module_version": "1.5.0",
          "state": {
            "_dom_classes": [],
            "_model_module": "@jupyter-widgets/controls",
            "_model_module_version": "1.5.0",
            "_model_name": "FloatProgressModel",
            "_view_count": null,
            "_view_module": "@jupyter-widgets/controls",
            "_view_module_version": "1.5.0",
            "_view_name": "ProgressView",
            "bar_style": "success",
            "description": "",
            "description_tooltip": null,
            "layout": "IPY_MODEL_132fcbace39643b5a29e42be5bcc1c8c",
            "max": 25,
            "min": 0,
            "orientation": "horizontal",
            "style": "IPY_MODEL_00e3824464d84f00a43064fe952fa4b9",
            "value": 25
          }
        },
        "f1f041a71949418fa1aabe600b2a2fbc": {
          "model_module": "@jupyter-widgets/controls",
          "model_name": "HTMLModel",
          "model_module_version": "1.5.0",
          "state": {
            "_dom_classes": [],
            "_model_module": "@jupyter-widgets/controls",
            "_model_module_version": "1.5.0",
            "_model_name": "HTMLModel",
            "_view_count": null,
            "_view_module": "@jupyter-widgets/controls",
            "_view_module_version": "1.5.0",
            "_view_name": "HTMLView",
            "description": "",
            "description_tooltip": null,
            "layout": "IPY_MODEL_4f2a1a5b58ed4829a0dacc760a577927",
            "placeholder": "​",
            "style": "IPY_MODEL_56b3b746f9d3488d8c134074531903d4",
            "value": " 25/25 [00:12&lt;00:00,  2.20it/s]"
          }
        },
        "734f2ac0e99d4397b2c3fc5f0dcf670e": {
          "model_module": "@jupyter-widgets/base",
          "model_name": "LayoutModel",
          "model_module_version": "1.2.0",
          "state": {
            "_model_module": "@jupyter-widgets/base",
            "_model_module_version": "1.2.0",
            "_model_name": "LayoutModel",
            "_view_count": null,
            "_view_module": "@jupyter-widgets/base",
            "_view_module_version": "1.2.0",
            "_view_name": "LayoutView",
            "align_content": null,
            "align_items": null,
            "align_self": null,
            "border": null,
            "bottom": null,
            "display": null,
            "flex": null,
            "flex_flow": null,
            "grid_area": null,
            "grid_auto_columns": null,
            "grid_auto_flow": null,
            "grid_auto_rows": null,
            "grid_column": null,
            "grid_gap": null,
            "grid_row": null,
            "grid_template_areas": null,
            "grid_template_columns": null,
            "grid_template_rows": null,
            "height": null,
            "justify_content": null,
            "justify_items": null,
            "left": null,
            "margin": null,
            "max_height": null,
            "max_width": null,
            "min_height": null,
            "min_width": null,
            "object_fit": null,
            "object_position": null,
            "order": null,
            "overflow": null,
            "overflow_x": null,
            "overflow_y": null,
            "padding": null,
            "right": null,
            "top": null,
            "visibility": null,
            "width": null
          }
        },
        "0877d0a571e643c4801e898e7d292de5": {
          "model_module": "@jupyter-widgets/base",
          "model_name": "LayoutModel",
          "model_module_version": "1.2.0",
          "state": {
            "_model_module": "@jupyter-widgets/base",
            "_model_module_version": "1.2.0",
            "_model_name": "LayoutModel",
            "_view_count": null,
            "_view_module": "@jupyter-widgets/base",
            "_view_module_version": "1.2.0",
            "_view_name": "LayoutView",
            "align_content": null,
            "align_items": null,
            "align_self": null,
            "border": null,
            "bottom": null,
            "display": null,
            "flex": null,
            "flex_flow": null,
            "grid_area": null,
            "grid_auto_columns": null,
            "grid_auto_flow": null,
            "grid_auto_rows": null,
            "grid_column": null,
            "grid_gap": null,
            "grid_row": null,
            "grid_template_areas": null,
            "grid_template_columns": null,
            "grid_template_rows": null,
            "height": null,
            "justify_content": null,
            "justify_items": null,
            "left": null,
            "margin": null,
            "max_height": null,
            "max_width": null,
            "min_height": null,
            "min_width": null,
            "object_fit": null,
            "object_position": null,
            "order": null,
            "overflow": null,
            "overflow_x": null,
            "overflow_y": null,
            "padding": null,
            "right": null,
            "top": null,
            "visibility": null,
            "width": null
          }
        },
        "044ab4866c47479084e9e29220181f7a": {
          "model_module": "@jupyter-widgets/controls",
          "model_name": "DescriptionStyleModel",
          "model_module_version": "1.5.0",
          "state": {
            "_model_module": "@jupyter-widgets/controls",
            "_model_module_version": "1.5.0",
            "_model_name": "DescriptionStyleModel",
            "_view_count": null,
            "_view_module": "@jupyter-widgets/base",
            "_view_module_version": "1.2.0",
            "_view_name": "StyleView",
            "description_width": ""
          }
        },
        "132fcbace39643b5a29e42be5bcc1c8c": {
          "model_module": "@jupyter-widgets/base",
          "model_name": "LayoutModel",
          "model_module_version": "1.2.0",
          "state": {
            "_model_module": "@jupyter-widgets/base",
            "_model_module_version": "1.2.0",
            "_model_name": "LayoutModel",
            "_view_count": null,
            "_view_module": "@jupyter-widgets/base",
            "_view_module_version": "1.2.0",
            "_view_name": "LayoutView",
            "align_content": null,
            "align_items": null,
            "align_self": null,
            "border": null,
            "bottom": null,
            "display": null,
            "flex": null,
            "flex_flow": null,
            "grid_area": null,
            "grid_auto_columns": null,
            "grid_auto_flow": null,
            "grid_auto_rows": null,
            "grid_column": null,
            "grid_gap": null,
            "grid_row": null,
            "grid_template_areas": null,
            "grid_template_columns": null,
            "grid_template_rows": null,
            "height": null,
            "justify_content": null,
            "justify_items": null,
            "left": null,
            "margin": null,
            "max_height": null,
            "max_width": null,
            "min_height": null,
            "min_width": null,
            "object_fit": null,
            "object_position": null,
            "order": null,
            "overflow": null,
            "overflow_x": null,
            "overflow_y": null,
            "padding": null,
            "right": null,
            "top": null,
            "visibility": null,
            "width": null
          }
        },
        "00e3824464d84f00a43064fe952fa4b9": {
          "model_module": "@jupyter-widgets/controls",
          "model_name": "ProgressStyleModel",
          "model_module_version": "1.5.0",
          "state": {
            "_model_module": "@jupyter-widgets/controls",
            "_model_module_version": "1.5.0",
            "_model_name": "ProgressStyleModel",
            "_view_count": null,
            "_view_module": "@jupyter-widgets/base",
            "_view_module_version": "1.2.0",
            "_view_name": "StyleView",
            "bar_color": null,
            "description_width": ""
          }
        },
        "4f2a1a5b58ed4829a0dacc760a577927": {
          "model_module": "@jupyter-widgets/base",
          "model_name": "LayoutModel",
          "model_module_version": "1.2.0",
          "state": {
            "_model_module": "@jupyter-widgets/base",
            "_model_module_version": "1.2.0",
            "_model_name": "LayoutModel",
            "_view_count": null,
            "_view_module": "@jupyter-widgets/base",
            "_view_module_version": "1.2.0",
            "_view_name": "LayoutView",
            "align_content": null,
            "align_items": null,
            "align_self": null,
            "border": null,
            "bottom": null,
            "display": null,
            "flex": null,
            "flex_flow": null,
            "grid_area": null,
            "grid_auto_columns": null,
            "grid_auto_flow": null,
            "grid_auto_rows": null,
            "grid_column": null,
            "grid_gap": null,
            "grid_row": null,
            "grid_template_areas": null,
            "grid_template_columns": null,
            "grid_template_rows": null,
            "height": null,
            "justify_content": null,
            "justify_items": null,
            "left": null,
            "margin": null,
            "max_height": null,
            "max_width": null,
            "min_height": null,
            "min_width": null,
            "object_fit": null,
            "object_position": null,
            "order": null,
            "overflow": null,
            "overflow_x": null,
            "overflow_y": null,
            "padding": null,
            "right": null,
            "top": null,
            "visibility": null,
            "width": null
          }
        },
        "56b3b746f9d3488d8c134074531903d4": {
          "model_module": "@jupyter-widgets/controls",
          "model_name": "DescriptionStyleModel",
          "model_module_version": "1.5.0",
          "state": {
            "_model_module": "@jupyter-widgets/controls",
            "_model_module_version": "1.5.0",
            "_model_name": "DescriptionStyleModel",
            "_view_count": null,
            "_view_module": "@jupyter-widgets/base",
            "_view_module_version": "1.2.0",
            "_view_name": "StyleView",
            "description_width": ""
          }
        },
        "885adc2dca7744f5850751b2e5531ec5": {
          "model_module": "@jupyter-widgets/controls",
          "model_name": "HBoxModel",
          "model_module_version": "1.5.0",
          "state": {
            "_dom_classes": [],
            "_model_module": "@jupyter-widgets/controls",
            "_model_module_version": "1.5.0",
            "_model_name": "HBoxModel",
            "_view_count": null,
            "_view_module": "@jupyter-widgets/controls",
            "_view_module_version": "1.5.0",
            "_view_name": "HBoxView",
            "box_style": "",
            "children": [
              "IPY_MODEL_4c27f5cfd5c0403598ac4081291dd7d1",
              "IPY_MODEL_c45696105e2746a0bb14fbd807da47a4",
              "IPY_MODEL_1c8a7ca9d07a47ea8b9defe6287d7492"
            ],
            "layout": "IPY_MODEL_fa38be2d0c9e45d7b91bcfbe22b2221a"
          }
        },
        "4c27f5cfd5c0403598ac4081291dd7d1": {
          "model_module": "@jupyter-widgets/controls",
          "model_name": "HTMLModel",
          "model_module_version": "1.5.0",
          "state": {
            "_dom_classes": [],
            "_model_module": "@jupyter-widgets/controls",
            "_model_module_version": "1.5.0",
            "_model_name": "HTMLModel",
            "_view_count": null,
            "_view_module": "@jupyter-widgets/controls",
            "_view_module_version": "1.5.0",
            "_view_name": "HTMLView",
            "description": "",
            "description_tooltip": null,
            "layout": "IPY_MODEL_9c65452126c9480680da826db86bef60",
            "placeholder": "​",
            "style": "IPY_MODEL_e9a9e8f7636b4641b979b943e7cad3d6",
            "value": "100%"
          }
        },
        "c45696105e2746a0bb14fbd807da47a4": {
          "model_module": "@jupyter-widgets/controls",
          "model_name": "FloatProgressModel",
          "model_module_version": "1.5.0",
          "state": {
            "_dom_classes": [],
            "_model_module": "@jupyter-widgets/controls",
            "_model_module_version": "1.5.0",
            "_model_name": "FloatProgressModel",
            "_view_count": null,
            "_view_module": "@jupyter-widgets/controls",
            "_view_module_version": "1.5.0",
            "_view_name": "ProgressView",
            "bar_style": "success",
            "description": "",
            "description_tooltip": null,
            "layout": "IPY_MODEL_395fa54968c1408a9c8b51fa5217832e",
            "max": 7,
            "min": 0,
            "orientation": "horizontal",
            "style": "IPY_MODEL_c1a94db35fe44a4da6939b2cd319b5f0",
            "value": 7
          }
        },
        "1c8a7ca9d07a47ea8b9defe6287d7492": {
          "model_module": "@jupyter-widgets/controls",
          "model_name": "HTMLModel",
          "model_module_version": "1.5.0",
          "state": {
            "_dom_classes": [],
            "_model_module": "@jupyter-widgets/controls",
            "_model_module_version": "1.5.0",
            "_model_name": "HTMLModel",
            "_view_count": null,
            "_view_module": "@jupyter-widgets/controls",
            "_view_module_version": "1.5.0",
            "_view_name": "HTMLView",
            "description": "",
            "description_tooltip": null,
            "layout": "IPY_MODEL_b03710deb3e44a68a34e30e98040f294",
            "placeholder": "​",
            "style": "IPY_MODEL_bf31e859d1fd448f8ed53b817545b6a9",
            "value": " 7/7 [00:02&lt;00:00,  2.92it/s]"
          }
        },
        "fa38be2d0c9e45d7b91bcfbe22b2221a": {
          "model_module": "@jupyter-widgets/base",
          "model_name": "LayoutModel",
          "model_module_version": "1.2.0",
          "state": {
            "_model_module": "@jupyter-widgets/base",
            "_model_module_version": "1.2.0",
            "_model_name": "LayoutModel",
            "_view_count": null,
            "_view_module": "@jupyter-widgets/base",
            "_view_module_version": "1.2.0",
            "_view_name": "LayoutView",
            "align_content": null,
            "align_items": null,
            "align_self": null,
            "border": null,
            "bottom": null,
            "display": null,
            "flex": null,
            "flex_flow": null,
            "grid_area": null,
            "grid_auto_columns": null,
            "grid_auto_flow": null,
            "grid_auto_rows": null,
            "grid_column": null,
            "grid_gap": null,
            "grid_row": null,
            "grid_template_areas": null,
            "grid_template_columns": null,
            "grid_template_rows": null,
            "height": null,
            "justify_content": null,
            "justify_items": null,
            "left": null,
            "margin": null,
            "max_height": null,
            "max_width": null,
            "min_height": null,
            "min_width": null,
            "object_fit": null,
            "object_position": null,
            "order": null,
            "overflow": null,
            "overflow_x": null,
            "overflow_y": null,
            "padding": null,
            "right": null,
            "top": null,
            "visibility": null,
            "width": null
          }
        },
        "9c65452126c9480680da826db86bef60": {
          "model_module": "@jupyter-widgets/base",
          "model_name": "LayoutModel",
          "model_module_version": "1.2.0",
          "state": {
            "_model_module": "@jupyter-widgets/base",
            "_model_module_version": "1.2.0",
            "_model_name": "LayoutModel",
            "_view_count": null,
            "_view_module": "@jupyter-widgets/base",
            "_view_module_version": "1.2.0",
            "_view_name": "LayoutView",
            "align_content": null,
            "align_items": null,
            "align_self": null,
            "border": null,
            "bottom": null,
            "display": null,
            "flex": null,
            "flex_flow": null,
            "grid_area": null,
            "grid_auto_columns": null,
            "grid_auto_flow": null,
            "grid_auto_rows": null,
            "grid_column": null,
            "grid_gap": null,
            "grid_row": null,
            "grid_template_areas": null,
            "grid_template_columns": null,
            "grid_template_rows": null,
            "height": null,
            "justify_content": null,
            "justify_items": null,
            "left": null,
            "margin": null,
            "max_height": null,
            "max_width": null,
            "min_height": null,
            "min_width": null,
            "object_fit": null,
            "object_position": null,
            "order": null,
            "overflow": null,
            "overflow_x": null,
            "overflow_y": null,
            "padding": null,
            "right": null,
            "top": null,
            "visibility": null,
            "width": null
          }
        },
        "e9a9e8f7636b4641b979b943e7cad3d6": {
          "model_module": "@jupyter-widgets/controls",
          "model_name": "DescriptionStyleModel",
          "model_module_version": "1.5.0",
          "state": {
            "_model_module": "@jupyter-widgets/controls",
            "_model_module_version": "1.5.0",
            "_model_name": "DescriptionStyleModel",
            "_view_count": null,
            "_view_module": "@jupyter-widgets/base",
            "_view_module_version": "1.2.0",
            "_view_name": "StyleView",
            "description_width": ""
          }
        },
        "395fa54968c1408a9c8b51fa5217832e": {
          "model_module": "@jupyter-widgets/base",
          "model_name": "LayoutModel",
          "model_module_version": "1.2.0",
          "state": {
            "_model_module": "@jupyter-widgets/base",
            "_model_module_version": "1.2.0",
            "_model_name": "LayoutModel",
            "_view_count": null,
            "_view_module": "@jupyter-widgets/base",
            "_view_module_version": "1.2.0",
            "_view_name": "LayoutView",
            "align_content": null,
            "align_items": null,
            "align_self": null,
            "border": null,
            "bottom": null,
            "display": null,
            "flex": null,
            "flex_flow": null,
            "grid_area": null,
            "grid_auto_columns": null,
            "grid_auto_flow": null,
            "grid_auto_rows": null,
            "grid_column": null,
            "grid_gap": null,
            "grid_row": null,
            "grid_template_areas": null,
            "grid_template_columns": null,
            "grid_template_rows": null,
            "height": null,
            "justify_content": null,
            "justify_items": null,
            "left": null,
            "margin": null,
            "max_height": null,
            "max_width": null,
            "min_height": null,
            "min_width": null,
            "object_fit": null,
            "object_position": null,
            "order": null,
            "overflow": null,
            "overflow_x": null,
            "overflow_y": null,
            "padding": null,
            "right": null,
            "top": null,
            "visibility": null,
            "width": null
          }
        },
        "c1a94db35fe44a4da6939b2cd319b5f0": {
          "model_module": "@jupyter-widgets/controls",
          "model_name": "ProgressStyleModel",
          "model_module_version": "1.5.0",
          "state": {
            "_model_module": "@jupyter-widgets/controls",
            "_model_module_version": "1.5.0",
            "_model_name": "ProgressStyleModel",
            "_view_count": null,
            "_view_module": "@jupyter-widgets/base",
            "_view_module_version": "1.2.0",
            "_view_name": "StyleView",
            "bar_color": null,
            "description_width": ""
          }
        },
        "b03710deb3e44a68a34e30e98040f294": {
          "model_module": "@jupyter-widgets/base",
          "model_name": "LayoutModel",
          "model_module_version": "1.2.0",
          "state": {
            "_model_module": "@jupyter-widgets/base",
            "_model_module_version": "1.2.0",
            "_model_name": "LayoutModel",
            "_view_count": null,
            "_view_module": "@jupyter-widgets/base",
            "_view_module_version": "1.2.0",
            "_view_name": "LayoutView",
            "align_content": null,
            "align_items": null,
            "align_self": null,
            "border": null,
            "bottom": null,
            "display": null,
            "flex": null,
            "flex_flow": null,
            "grid_area": null,
            "grid_auto_columns": null,
            "grid_auto_flow": null,
            "grid_auto_rows": null,
            "grid_column": null,
            "grid_gap": null,
            "grid_row": null,
            "grid_template_areas": null,
            "grid_template_columns": null,
            "grid_template_rows": null,
            "height": null,
            "justify_content": null,
            "justify_items": null,
            "left": null,
            "margin": null,
            "max_height": null,
            "max_width": null,
            "min_height": null,
            "min_width": null,
            "object_fit": null,
            "object_position": null,
            "order": null,
            "overflow": null,
            "overflow_x": null,
            "overflow_y": null,
            "padding": null,
            "right": null,
            "top": null,
            "visibility": null,
            "width": null
          }
        },
        "bf31e859d1fd448f8ed53b817545b6a9": {
          "model_module": "@jupyter-widgets/controls",
          "model_name": "DescriptionStyleModel",
          "model_module_version": "1.5.0",
          "state": {
            "_model_module": "@jupyter-widgets/controls",
            "_model_module_version": "1.5.0",
            "_model_name": "DescriptionStyleModel",
            "_view_count": null,
            "_view_module": "@jupyter-widgets/base",
            "_view_module_version": "1.2.0",
            "_view_name": "StyleView",
            "description_width": ""
          }
        },
        "bc57736d78d7489997f28bb59991a234": {
          "model_module": "@jupyter-widgets/controls",
          "model_name": "HBoxModel",
          "model_module_version": "1.5.0",
          "state": {
            "_dom_classes": [],
            "_model_module": "@jupyter-widgets/controls",
            "_model_module_version": "1.5.0",
            "_model_name": "HBoxModel",
            "_view_count": null,
            "_view_module": "@jupyter-widgets/controls",
            "_view_module_version": "1.5.0",
            "_view_name": "HBoxView",
            "box_style": "",
            "children": [
              "IPY_MODEL_93c2d4f381a448fdb4808bbc3b8c0df6",
              "IPY_MODEL_6e9f70bb3a794bc084a403578adb7ee9",
              "IPY_MODEL_14c50145c7244b7cbd88863f6a5ca33a"
            ],
            "layout": "IPY_MODEL_fb427d8a36b44bce8b2557a22156b35a"
          }
        },
        "93c2d4f381a448fdb4808bbc3b8c0df6": {
          "model_module": "@jupyter-widgets/controls",
          "model_name": "HTMLModel",
          "model_module_version": "1.5.0",
          "state": {
            "_dom_classes": [],
            "_model_module": "@jupyter-widgets/controls",
            "_model_module_version": "1.5.0",
            "_model_name": "HTMLModel",
            "_view_count": null,
            "_view_module": "@jupyter-widgets/controls",
            "_view_module_version": "1.5.0",
            "_view_name": "HTMLView",
            "description": "",
            "description_tooltip": null,
            "layout": "IPY_MODEL_28dce1707d9b4bb69003e418dca83190",
            "placeholder": "​",
            "style": "IPY_MODEL_4844051a040b43769db11e8343ff65c1",
            "value": "100%"
          }
        },
        "6e9f70bb3a794bc084a403578adb7ee9": {
          "model_module": "@jupyter-widgets/controls",
          "model_name": "FloatProgressModel",
          "model_module_version": "1.5.0",
          "state": {
            "_dom_classes": [],
            "_model_module": "@jupyter-widgets/controls",
            "_model_module_version": "1.5.0",
            "_model_name": "FloatProgressModel",
            "_view_count": null,
            "_view_module": "@jupyter-widgets/controls",
            "_view_module_version": "1.5.0",
            "_view_name": "ProgressView",
            "bar_style": "success",
            "description": "",
            "description_tooltip": null,
            "layout": "IPY_MODEL_f06c5b1a54894101862b35d27072e00e",
            "max": 25,
            "min": 0,
            "orientation": "horizontal",
            "style": "IPY_MODEL_c5f55ec736d04f4fa6a30e4325a8d7eb",
            "value": 25
          }
        },
        "14c50145c7244b7cbd88863f6a5ca33a": {
          "model_module": "@jupyter-widgets/controls",
          "model_name": "HTMLModel",
          "model_module_version": "1.5.0",
          "state": {
            "_dom_classes": [],
            "_model_module": "@jupyter-widgets/controls",
            "_model_module_version": "1.5.0",
            "_model_name": "HTMLModel",
            "_view_count": null,
            "_view_module": "@jupyter-widgets/controls",
            "_view_module_version": "1.5.0",
            "_view_name": "HTMLView",
            "description": "",
            "description_tooltip": null,
            "layout": "IPY_MODEL_6323926d4132401c86420edab8b90fad",
            "placeholder": "​",
            "style": "IPY_MODEL_91b643b1e6194d02bb8710d5e34f5213",
            "value": " 25/25 [00:12&lt;00:00,  2.20it/s]"
          }
        },
        "fb427d8a36b44bce8b2557a22156b35a": {
          "model_module": "@jupyter-widgets/base",
          "model_name": "LayoutModel",
          "model_module_version": "1.2.0",
          "state": {
            "_model_module": "@jupyter-widgets/base",
            "_model_module_version": "1.2.0",
            "_model_name": "LayoutModel",
            "_view_count": null,
            "_view_module": "@jupyter-widgets/base",
            "_view_module_version": "1.2.0",
            "_view_name": "LayoutView",
            "align_content": null,
            "align_items": null,
            "align_self": null,
            "border": null,
            "bottom": null,
            "display": null,
            "flex": null,
            "flex_flow": null,
            "grid_area": null,
            "grid_auto_columns": null,
            "grid_auto_flow": null,
            "grid_auto_rows": null,
            "grid_column": null,
            "grid_gap": null,
            "grid_row": null,
            "grid_template_areas": null,
            "grid_template_columns": null,
            "grid_template_rows": null,
            "height": null,
            "justify_content": null,
            "justify_items": null,
            "left": null,
            "margin": null,
            "max_height": null,
            "max_width": null,
            "min_height": null,
            "min_width": null,
            "object_fit": null,
            "object_position": null,
            "order": null,
            "overflow": null,
            "overflow_x": null,
            "overflow_y": null,
            "padding": null,
            "right": null,
            "top": null,
            "visibility": null,
            "width": null
          }
        },
        "28dce1707d9b4bb69003e418dca83190": {
          "model_module": "@jupyter-widgets/base",
          "model_name": "LayoutModel",
          "model_module_version": "1.2.0",
          "state": {
            "_model_module": "@jupyter-widgets/base",
            "_model_module_version": "1.2.0",
            "_model_name": "LayoutModel",
            "_view_count": null,
            "_view_module": "@jupyter-widgets/base",
            "_view_module_version": "1.2.0",
            "_view_name": "LayoutView",
            "align_content": null,
            "align_items": null,
            "align_self": null,
            "border": null,
            "bottom": null,
            "display": null,
            "flex": null,
            "flex_flow": null,
            "grid_area": null,
            "grid_auto_columns": null,
            "grid_auto_flow": null,
            "grid_auto_rows": null,
            "grid_column": null,
            "grid_gap": null,
            "grid_row": null,
            "grid_template_areas": null,
            "grid_template_columns": null,
            "grid_template_rows": null,
            "height": null,
            "justify_content": null,
            "justify_items": null,
            "left": null,
            "margin": null,
            "max_height": null,
            "max_width": null,
            "min_height": null,
            "min_width": null,
            "object_fit": null,
            "object_position": null,
            "order": null,
            "overflow": null,
            "overflow_x": null,
            "overflow_y": null,
            "padding": null,
            "right": null,
            "top": null,
            "visibility": null,
            "width": null
          }
        },
        "4844051a040b43769db11e8343ff65c1": {
          "model_module": "@jupyter-widgets/controls",
          "model_name": "DescriptionStyleModel",
          "model_module_version": "1.5.0",
          "state": {
            "_model_module": "@jupyter-widgets/controls",
            "_model_module_version": "1.5.0",
            "_model_name": "DescriptionStyleModel",
            "_view_count": null,
            "_view_module": "@jupyter-widgets/base",
            "_view_module_version": "1.2.0",
            "_view_name": "StyleView",
            "description_width": ""
          }
        },
        "f06c5b1a54894101862b35d27072e00e": {
          "model_module": "@jupyter-widgets/base",
          "model_name": "LayoutModel",
          "model_module_version": "1.2.0",
          "state": {
            "_model_module": "@jupyter-widgets/base",
            "_model_module_version": "1.2.0",
            "_model_name": "LayoutModel",
            "_view_count": null,
            "_view_module": "@jupyter-widgets/base",
            "_view_module_version": "1.2.0",
            "_view_name": "LayoutView",
            "align_content": null,
            "align_items": null,
            "align_self": null,
            "border": null,
            "bottom": null,
            "display": null,
            "flex": null,
            "flex_flow": null,
            "grid_area": null,
            "grid_auto_columns": null,
            "grid_auto_flow": null,
            "grid_auto_rows": null,
            "grid_column": null,
            "grid_gap": null,
            "grid_row": null,
            "grid_template_areas": null,
            "grid_template_columns": null,
            "grid_template_rows": null,
            "height": null,
            "justify_content": null,
            "justify_items": null,
            "left": null,
            "margin": null,
            "max_height": null,
            "max_width": null,
            "min_height": null,
            "min_width": null,
            "object_fit": null,
            "object_position": null,
            "order": null,
            "overflow": null,
            "overflow_x": null,
            "overflow_y": null,
            "padding": null,
            "right": null,
            "top": null,
            "visibility": null,
            "width": null
          }
        },
        "c5f55ec736d04f4fa6a30e4325a8d7eb": {
          "model_module": "@jupyter-widgets/controls",
          "model_name": "ProgressStyleModel",
          "model_module_version": "1.5.0",
          "state": {
            "_model_module": "@jupyter-widgets/controls",
            "_model_module_version": "1.5.0",
            "_model_name": "ProgressStyleModel",
            "_view_count": null,
            "_view_module": "@jupyter-widgets/base",
            "_view_module_version": "1.2.0",
            "_view_name": "StyleView",
            "bar_color": null,
            "description_width": ""
          }
        },
        "6323926d4132401c86420edab8b90fad": {
          "model_module": "@jupyter-widgets/base",
          "model_name": "LayoutModel",
          "model_module_version": "1.2.0",
          "state": {
            "_model_module": "@jupyter-widgets/base",
            "_model_module_version": "1.2.0",
            "_model_name": "LayoutModel",
            "_view_count": null,
            "_view_module": "@jupyter-widgets/base",
            "_view_module_version": "1.2.0",
            "_view_name": "LayoutView",
            "align_content": null,
            "align_items": null,
            "align_self": null,
            "border": null,
            "bottom": null,
            "display": null,
            "flex": null,
            "flex_flow": null,
            "grid_area": null,
            "grid_auto_columns": null,
            "grid_auto_flow": null,
            "grid_auto_rows": null,
            "grid_column": null,
            "grid_gap": null,
            "grid_row": null,
            "grid_template_areas": null,
            "grid_template_columns": null,
            "grid_template_rows": null,
            "height": null,
            "justify_content": null,
            "justify_items": null,
            "left": null,
            "margin": null,
            "max_height": null,
            "max_width": null,
            "min_height": null,
            "min_width": null,
            "object_fit": null,
            "object_position": null,
            "order": null,
            "overflow": null,
            "overflow_x": null,
            "overflow_y": null,
            "padding": null,
            "right": null,
            "top": null,
            "visibility": null,
            "width": null
          }
        },
        "91b643b1e6194d02bb8710d5e34f5213": {
          "model_module": "@jupyter-widgets/controls",
          "model_name": "DescriptionStyleModel",
          "model_module_version": "1.5.0",
          "state": {
            "_model_module": "@jupyter-widgets/controls",
            "_model_module_version": "1.5.0",
            "_model_name": "DescriptionStyleModel",
            "_view_count": null,
            "_view_module": "@jupyter-widgets/base",
            "_view_module_version": "1.2.0",
            "_view_name": "StyleView",
            "description_width": ""
          }
        },
        "1d86cb5eee824c0fbfce8849b29f1576": {
          "model_module": "@jupyter-widgets/controls",
          "model_name": "HBoxModel",
          "model_module_version": "1.5.0",
          "state": {
            "_dom_classes": [],
            "_model_module": "@jupyter-widgets/controls",
            "_model_module_version": "1.5.0",
            "_model_name": "HBoxModel",
            "_view_count": null,
            "_view_module": "@jupyter-widgets/controls",
            "_view_module_version": "1.5.0",
            "_view_name": "HBoxView",
            "box_style": "",
            "children": [
              "IPY_MODEL_eee254fd5cb249e88d8d3e4558e62d64",
              "IPY_MODEL_2a3d6d88483a476fb9f288d85963d04c",
              "IPY_MODEL_c52b6992e4bc462d845edab2c8551109"
            ],
            "layout": "IPY_MODEL_c1d3c49a2493482aa80895a2ec59e6dc"
          }
        },
        "eee254fd5cb249e88d8d3e4558e62d64": {
          "model_module": "@jupyter-widgets/controls",
          "model_name": "HTMLModel",
          "model_module_version": "1.5.0",
          "state": {
            "_dom_classes": [],
            "_model_module": "@jupyter-widgets/controls",
            "_model_module_version": "1.5.0",
            "_model_name": "HTMLModel",
            "_view_count": null,
            "_view_module": "@jupyter-widgets/controls",
            "_view_module_version": "1.5.0",
            "_view_name": "HTMLView",
            "description": "",
            "description_tooltip": null,
            "layout": "IPY_MODEL_9a8a86f694284d62ae2f63d40f806473",
            "placeholder": "​",
            "style": "IPY_MODEL_83ad7991b1114d869f65f1646fdb04ec",
            "value": "100%"
          }
        },
        "2a3d6d88483a476fb9f288d85963d04c": {
          "model_module": "@jupyter-widgets/controls",
          "model_name": "FloatProgressModel",
          "model_module_version": "1.5.0",
          "state": {
            "_dom_classes": [],
            "_model_module": "@jupyter-widgets/controls",
            "_model_module_version": "1.5.0",
            "_model_name": "FloatProgressModel",
            "_view_count": null,
            "_view_module": "@jupyter-widgets/controls",
            "_view_module_version": "1.5.0",
            "_view_name": "ProgressView",
            "bar_style": "success",
            "description": "",
            "description_tooltip": null,
            "layout": "IPY_MODEL_0be8281610a14bb6ac6808386312a93b",
            "max": 7,
            "min": 0,
            "orientation": "horizontal",
            "style": "IPY_MODEL_5ab76b5ede364346bba3cee7b1b65c97",
            "value": 7
          }
        },
        "c52b6992e4bc462d845edab2c8551109": {
          "model_module": "@jupyter-widgets/controls",
          "model_name": "HTMLModel",
          "model_module_version": "1.5.0",
          "state": {
            "_dom_classes": [],
            "_model_module": "@jupyter-widgets/controls",
            "_model_module_version": "1.5.0",
            "_model_name": "HTMLModel",
            "_view_count": null,
            "_view_module": "@jupyter-widgets/controls",
            "_view_module_version": "1.5.0",
            "_view_name": "HTMLView",
            "description": "",
            "description_tooltip": null,
            "layout": "IPY_MODEL_d229fb95f5284d4c8ea03b27649fc8f2",
            "placeholder": "​",
            "style": "IPY_MODEL_8306ff2c437e4c73a37140cad6c37a93",
            "value": " 7/7 [00:02&lt;00:00,  2.91it/s]"
          }
        },
        "c1d3c49a2493482aa80895a2ec59e6dc": {
          "model_module": "@jupyter-widgets/base",
          "model_name": "LayoutModel",
          "model_module_version": "1.2.0",
          "state": {
            "_model_module": "@jupyter-widgets/base",
            "_model_module_version": "1.2.0",
            "_model_name": "LayoutModel",
            "_view_count": null,
            "_view_module": "@jupyter-widgets/base",
            "_view_module_version": "1.2.0",
            "_view_name": "LayoutView",
            "align_content": null,
            "align_items": null,
            "align_self": null,
            "border": null,
            "bottom": null,
            "display": null,
            "flex": null,
            "flex_flow": null,
            "grid_area": null,
            "grid_auto_columns": null,
            "grid_auto_flow": null,
            "grid_auto_rows": null,
            "grid_column": null,
            "grid_gap": null,
            "grid_row": null,
            "grid_template_areas": null,
            "grid_template_columns": null,
            "grid_template_rows": null,
            "height": null,
            "justify_content": null,
            "justify_items": null,
            "left": null,
            "margin": null,
            "max_height": null,
            "max_width": null,
            "min_height": null,
            "min_width": null,
            "object_fit": null,
            "object_position": null,
            "order": null,
            "overflow": null,
            "overflow_x": null,
            "overflow_y": null,
            "padding": null,
            "right": null,
            "top": null,
            "visibility": null,
            "width": null
          }
        },
        "9a8a86f694284d62ae2f63d40f806473": {
          "model_module": "@jupyter-widgets/base",
          "model_name": "LayoutModel",
          "model_module_version": "1.2.0",
          "state": {
            "_model_module": "@jupyter-widgets/base",
            "_model_module_version": "1.2.0",
            "_model_name": "LayoutModel",
            "_view_count": null,
            "_view_module": "@jupyter-widgets/base",
            "_view_module_version": "1.2.0",
            "_view_name": "LayoutView",
            "align_content": null,
            "align_items": null,
            "align_self": null,
            "border": null,
            "bottom": null,
            "display": null,
            "flex": null,
            "flex_flow": null,
            "grid_area": null,
            "grid_auto_columns": null,
            "grid_auto_flow": null,
            "grid_auto_rows": null,
            "grid_column": null,
            "grid_gap": null,
            "grid_row": null,
            "grid_template_areas": null,
            "grid_template_columns": null,
            "grid_template_rows": null,
            "height": null,
            "justify_content": null,
            "justify_items": null,
            "left": null,
            "margin": null,
            "max_height": null,
            "max_width": null,
            "min_height": null,
            "min_width": null,
            "object_fit": null,
            "object_position": null,
            "order": null,
            "overflow": null,
            "overflow_x": null,
            "overflow_y": null,
            "padding": null,
            "right": null,
            "top": null,
            "visibility": null,
            "width": null
          }
        },
        "83ad7991b1114d869f65f1646fdb04ec": {
          "model_module": "@jupyter-widgets/controls",
          "model_name": "DescriptionStyleModel",
          "model_module_version": "1.5.0",
          "state": {
            "_model_module": "@jupyter-widgets/controls",
            "_model_module_version": "1.5.0",
            "_model_name": "DescriptionStyleModel",
            "_view_count": null,
            "_view_module": "@jupyter-widgets/base",
            "_view_module_version": "1.2.0",
            "_view_name": "StyleView",
            "description_width": ""
          }
        },
        "0be8281610a14bb6ac6808386312a93b": {
          "model_module": "@jupyter-widgets/base",
          "model_name": "LayoutModel",
          "model_module_version": "1.2.0",
          "state": {
            "_model_module": "@jupyter-widgets/base",
            "_model_module_version": "1.2.0",
            "_model_name": "LayoutModel",
            "_view_count": null,
            "_view_module": "@jupyter-widgets/base",
            "_view_module_version": "1.2.0",
            "_view_name": "LayoutView",
            "align_content": null,
            "align_items": null,
            "align_self": null,
            "border": null,
            "bottom": null,
            "display": null,
            "flex": null,
            "flex_flow": null,
            "grid_area": null,
            "grid_auto_columns": null,
            "grid_auto_flow": null,
            "grid_auto_rows": null,
            "grid_column": null,
            "grid_gap": null,
            "grid_row": null,
            "grid_template_areas": null,
            "grid_template_columns": null,
            "grid_template_rows": null,
            "height": null,
            "justify_content": null,
            "justify_items": null,
            "left": null,
            "margin": null,
            "max_height": null,
            "max_width": null,
            "min_height": null,
            "min_width": null,
            "object_fit": null,
            "object_position": null,
            "order": null,
            "overflow": null,
            "overflow_x": null,
            "overflow_y": null,
            "padding": null,
            "right": null,
            "top": null,
            "visibility": null,
            "width": null
          }
        },
        "5ab76b5ede364346bba3cee7b1b65c97": {
          "model_module": "@jupyter-widgets/controls",
          "model_name": "ProgressStyleModel",
          "model_module_version": "1.5.0",
          "state": {
            "_model_module": "@jupyter-widgets/controls",
            "_model_module_version": "1.5.0",
            "_model_name": "ProgressStyleModel",
            "_view_count": null,
            "_view_module": "@jupyter-widgets/base",
            "_view_module_version": "1.2.0",
            "_view_name": "StyleView",
            "bar_color": null,
            "description_width": ""
          }
        },
        "d229fb95f5284d4c8ea03b27649fc8f2": {
          "model_module": "@jupyter-widgets/base",
          "model_name": "LayoutModel",
          "model_module_version": "1.2.0",
          "state": {
            "_model_module": "@jupyter-widgets/base",
            "_model_module_version": "1.2.0",
            "_model_name": "LayoutModel",
            "_view_count": null,
            "_view_module": "@jupyter-widgets/base",
            "_view_module_version": "1.2.0",
            "_view_name": "LayoutView",
            "align_content": null,
            "align_items": null,
            "align_self": null,
            "border": null,
            "bottom": null,
            "display": null,
            "flex": null,
            "flex_flow": null,
            "grid_area": null,
            "grid_auto_columns": null,
            "grid_auto_flow": null,
            "grid_auto_rows": null,
            "grid_column": null,
            "grid_gap": null,
            "grid_row": null,
            "grid_template_areas": null,
            "grid_template_columns": null,
            "grid_template_rows": null,
            "height": null,
            "justify_content": null,
            "justify_items": null,
            "left": null,
            "margin": null,
            "max_height": null,
            "max_width": null,
            "min_height": null,
            "min_width": null,
            "object_fit": null,
            "object_position": null,
            "order": null,
            "overflow": null,
            "overflow_x": null,
            "overflow_y": null,
            "padding": null,
            "right": null,
            "top": null,
            "visibility": null,
            "width": null
          }
        },
        "8306ff2c437e4c73a37140cad6c37a93": {
          "model_module": "@jupyter-widgets/controls",
          "model_name": "DescriptionStyleModel",
          "model_module_version": "1.5.0",
          "state": {
            "_model_module": "@jupyter-widgets/controls",
            "_model_module_version": "1.5.0",
            "_model_name": "DescriptionStyleModel",
            "_view_count": null,
            "_view_module": "@jupyter-widgets/base",
            "_view_module_version": "1.2.0",
            "_view_name": "StyleView",
            "description_width": ""
          }
        },
        "e6d4ed3bb06140ef860c6c703b9b52b3": {
          "model_module": "@jupyter-widgets/controls",
          "model_name": "HBoxModel",
          "model_module_version": "1.5.0",
          "state": {
            "_dom_classes": [],
            "_model_module": "@jupyter-widgets/controls",
            "_model_module_version": "1.5.0",
            "_model_name": "HBoxModel",
            "_view_count": null,
            "_view_module": "@jupyter-widgets/controls",
            "_view_module_version": "1.5.0",
            "_view_name": "HBoxView",
            "box_style": "",
            "children": [
              "IPY_MODEL_39166882139244c389a1f045a42768a3",
              "IPY_MODEL_4531d22dc13c4966acd485c752a911d8",
              "IPY_MODEL_0d35ecc51aa846f7a6e8cf92a027167a"
            ],
            "layout": "IPY_MODEL_e6fc8b1cabf34d8b92e5e4e4bd64b67f"
          }
        },
        "39166882139244c389a1f045a42768a3": {
          "model_module": "@jupyter-widgets/controls",
          "model_name": "HTMLModel",
          "model_module_version": "1.5.0",
          "state": {
            "_dom_classes": [],
            "_model_module": "@jupyter-widgets/controls",
            "_model_module_version": "1.5.0",
            "_model_name": "HTMLModel",
            "_view_count": null,
            "_view_module": "@jupyter-widgets/controls",
            "_view_module_version": "1.5.0",
            "_view_name": "HTMLView",
            "description": "",
            "description_tooltip": null,
            "layout": "IPY_MODEL_9cc308b331f14c27a3a1c166c99c88c0",
            "placeholder": "​",
            "style": "IPY_MODEL_d2c4374afa0348fcb69b8870e19985bc",
            "value": "100%"
          }
        },
        "4531d22dc13c4966acd485c752a911d8": {
          "model_module": "@jupyter-widgets/controls",
          "model_name": "FloatProgressModel",
          "model_module_version": "1.5.0",
          "state": {
            "_dom_classes": [],
            "_model_module": "@jupyter-widgets/controls",
            "_model_module_version": "1.5.0",
            "_model_name": "FloatProgressModel",
            "_view_count": null,
            "_view_module": "@jupyter-widgets/controls",
            "_view_module_version": "1.5.0",
            "_view_name": "ProgressView",
            "bar_style": "success",
            "description": "",
            "description_tooltip": null,
            "layout": "IPY_MODEL_217bfc91d8a54399af7ff4688bd89f2b",
            "max": 25,
            "min": 0,
            "orientation": "horizontal",
            "style": "IPY_MODEL_660e201e25024e069a2f4886f4396ef1",
            "value": 25
          }
        },
        "0d35ecc51aa846f7a6e8cf92a027167a": {
          "model_module": "@jupyter-widgets/controls",
          "model_name": "HTMLModel",
          "model_module_version": "1.5.0",
          "state": {
            "_dom_classes": [],
            "_model_module": "@jupyter-widgets/controls",
            "_model_module_version": "1.5.0",
            "_model_name": "HTMLModel",
            "_view_count": null,
            "_view_module": "@jupyter-widgets/controls",
            "_view_module_version": "1.5.0",
            "_view_name": "HTMLView",
            "description": "",
            "description_tooltip": null,
            "layout": "IPY_MODEL_840cf104033c4e44919c7437c4f62e20",
            "placeholder": "​",
            "style": "IPY_MODEL_c514a2d7456b4e2cbacf19c8493abade",
            "value": " 25/25 [00:12&lt;00:00,  2.21it/s]"
          }
        },
        "e6fc8b1cabf34d8b92e5e4e4bd64b67f": {
          "model_module": "@jupyter-widgets/base",
          "model_name": "LayoutModel",
          "model_module_version": "1.2.0",
          "state": {
            "_model_module": "@jupyter-widgets/base",
            "_model_module_version": "1.2.0",
            "_model_name": "LayoutModel",
            "_view_count": null,
            "_view_module": "@jupyter-widgets/base",
            "_view_module_version": "1.2.0",
            "_view_name": "LayoutView",
            "align_content": null,
            "align_items": null,
            "align_self": null,
            "border": null,
            "bottom": null,
            "display": null,
            "flex": null,
            "flex_flow": null,
            "grid_area": null,
            "grid_auto_columns": null,
            "grid_auto_flow": null,
            "grid_auto_rows": null,
            "grid_column": null,
            "grid_gap": null,
            "grid_row": null,
            "grid_template_areas": null,
            "grid_template_columns": null,
            "grid_template_rows": null,
            "height": null,
            "justify_content": null,
            "justify_items": null,
            "left": null,
            "margin": null,
            "max_height": null,
            "max_width": null,
            "min_height": null,
            "min_width": null,
            "object_fit": null,
            "object_position": null,
            "order": null,
            "overflow": null,
            "overflow_x": null,
            "overflow_y": null,
            "padding": null,
            "right": null,
            "top": null,
            "visibility": null,
            "width": null
          }
        },
        "9cc308b331f14c27a3a1c166c99c88c0": {
          "model_module": "@jupyter-widgets/base",
          "model_name": "LayoutModel",
          "model_module_version": "1.2.0",
          "state": {
            "_model_module": "@jupyter-widgets/base",
            "_model_module_version": "1.2.0",
            "_model_name": "LayoutModel",
            "_view_count": null,
            "_view_module": "@jupyter-widgets/base",
            "_view_module_version": "1.2.0",
            "_view_name": "LayoutView",
            "align_content": null,
            "align_items": null,
            "align_self": null,
            "border": null,
            "bottom": null,
            "display": null,
            "flex": null,
            "flex_flow": null,
            "grid_area": null,
            "grid_auto_columns": null,
            "grid_auto_flow": null,
            "grid_auto_rows": null,
            "grid_column": null,
            "grid_gap": null,
            "grid_row": null,
            "grid_template_areas": null,
            "grid_template_columns": null,
            "grid_template_rows": null,
            "height": null,
            "justify_content": null,
            "justify_items": null,
            "left": null,
            "margin": null,
            "max_height": null,
            "max_width": null,
            "min_height": null,
            "min_width": null,
            "object_fit": null,
            "object_position": null,
            "order": null,
            "overflow": null,
            "overflow_x": null,
            "overflow_y": null,
            "padding": null,
            "right": null,
            "top": null,
            "visibility": null,
            "width": null
          }
        },
        "d2c4374afa0348fcb69b8870e19985bc": {
          "model_module": "@jupyter-widgets/controls",
          "model_name": "DescriptionStyleModel",
          "model_module_version": "1.5.0",
          "state": {
            "_model_module": "@jupyter-widgets/controls",
            "_model_module_version": "1.5.0",
            "_model_name": "DescriptionStyleModel",
            "_view_count": null,
            "_view_module": "@jupyter-widgets/base",
            "_view_module_version": "1.2.0",
            "_view_name": "StyleView",
            "description_width": ""
          }
        },
        "217bfc91d8a54399af7ff4688bd89f2b": {
          "model_module": "@jupyter-widgets/base",
          "model_name": "LayoutModel",
          "model_module_version": "1.2.0",
          "state": {
            "_model_module": "@jupyter-widgets/base",
            "_model_module_version": "1.2.0",
            "_model_name": "LayoutModel",
            "_view_count": null,
            "_view_module": "@jupyter-widgets/base",
            "_view_module_version": "1.2.0",
            "_view_name": "LayoutView",
            "align_content": null,
            "align_items": null,
            "align_self": null,
            "border": null,
            "bottom": null,
            "display": null,
            "flex": null,
            "flex_flow": null,
            "grid_area": null,
            "grid_auto_columns": null,
            "grid_auto_flow": null,
            "grid_auto_rows": null,
            "grid_column": null,
            "grid_gap": null,
            "grid_row": null,
            "grid_template_areas": null,
            "grid_template_columns": null,
            "grid_template_rows": null,
            "height": null,
            "justify_content": null,
            "justify_items": null,
            "left": null,
            "margin": null,
            "max_height": null,
            "max_width": null,
            "min_height": null,
            "min_width": null,
            "object_fit": null,
            "object_position": null,
            "order": null,
            "overflow": null,
            "overflow_x": null,
            "overflow_y": null,
            "padding": null,
            "right": null,
            "top": null,
            "visibility": null,
            "width": null
          }
        },
        "660e201e25024e069a2f4886f4396ef1": {
          "model_module": "@jupyter-widgets/controls",
          "model_name": "ProgressStyleModel",
          "model_module_version": "1.5.0",
          "state": {
            "_model_module": "@jupyter-widgets/controls",
            "_model_module_version": "1.5.0",
            "_model_name": "ProgressStyleModel",
            "_view_count": null,
            "_view_module": "@jupyter-widgets/base",
            "_view_module_version": "1.2.0",
            "_view_name": "StyleView",
            "bar_color": null,
            "description_width": ""
          }
        },
        "840cf104033c4e44919c7437c4f62e20": {
          "model_module": "@jupyter-widgets/base",
          "model_name": "LayoutModel",
          "model_module_version": "1.2.0",
          "state": {
            "_model_module": "@jupyter-widgets/base",
            "_model_module_version": "1.2.0",
            "_model_name": "LayoutModel",
            "_view_count": null,
            "_view_module": "@jupyter-widgets/base",
            "_view_module_version": "1.2.0",
            "_view_name": "LayoutView",
            "align_content": null,
            "align_items": null,
            "align_self": null,
            "border": null,
            "bottom": null,
            "display": null,
            "flex": null,
            "flex_flow": null,
            "grid_area": null,
            "grid_auto_columns": null,
            "grid_auto_flow": null,
            "grid_auto_rows": null,
            "grid_column": null,
            "grid_gap": null,
            "grid_row": null,
            "grid_template_areas": null,
            "grid_template_columns": null,
            "grid_template_rows": null,
            "height": null,
            "justify_content": null,
            "justify_items": null,
            "left": null,
            "margin": null,
            "max_height": null,
            "max_width": null,
            "min_height": null,
            "min_width": null,
            "object_fit": null,
            "object_position": null,
            "order": null,
            "overflow": null,
            "overflow_x": null,
            "overflow_y": null,
            "padding": null,
            "right": null,
            "top": null,
            "visibility": null,
            "width": null
          }
        },
        "c514a2d7456b4e2cbacf19c8493abade": {
          "model_module": "@jupyter-widgets/controls",
          "model_name": "DescriptionStyleModel",
          "model_module_version": "1.5.0",
          "state": {
            "_model_module": "@jupyter-widgets/controls",
            "_model_module_version": "1.5.0",
            "_model_name": "DescriptionStyleModel",
            "_view_count": null,
            "_view_module": "@jupyter-widgets/base",
            "_view_module_version": "1.2.0",
            "_view_name": "StyleView",
            "description_width": ""
          }
        },
        "902835fb1bc34c029127723f5a688e39": {
          "model_module": "@jupyter-widgets/controls",
          "model_name": "HBoxModel",
          "model_module_version": "1.5.0",
          "state": {
            "_dom_classes": [],
            "_model_module": "@jupyter-widgets/controls",
            "_model_module_version": "1.5.0",
            "_model_name": "HBoxModel",
            "_view_count": null,
            "_view_module": "@jupyter-widgets/controls",
            "_view_module_version": "1.5.0",
            "_view_name": "HBoxView",
            "box_style": "",
            "children": [
              "IPY_MODEL_c398b8f768e94e579c8f2c538204dd9f",
              "IPY_MODEL_11cfba3894764392aaa692f753f2b1e0",
              "IPY_MODEL_322c6f0a1f9148098f6e1de718bc3fd2"
            ],
            "layout": "IPY_MODEL_321ec3a5360749dc96789023701e8fac"
          }
        },
        "c398b8f768e94e579c8f2c538204dd9f": {
          "model_module": "@jupyter-widgets/controls",
          "model_name": "HTMLModel",
          "model_module_version": "1.5.0",
          "state": {
            "_dom_classes": [],
            "_model_module": "@jupyter-widgets/controls",
            "_model_module_version": "1.5.0",
            "_model_name": "HTMLModel",
            "_view_count": null,
            "_view_module": "@jupyter-widgets/controls",
            "_view_module_version": "1.5.0",
            "_view_name": "HTMLView",
            "description": "",
            "description_tooltip": null,
            "layout": "IPY_MODEL_a160b8a0078d4042b18d24c538448088",
            "placeholder": "​",
            "style": "IPY_MODEL_d321dcfd7ba648f3949de02916335498",
            "value": "100%"
          }
        },
        "11cfba3894764392aaa692f753f2b1e0": {
          "model_module": "@jupyter-widgets/controls",
          "model_name": "FloatProgressModel",
          "model_module_version": "1.5.0",
          "state": {
            "_dom_classes": [],
            "_model_module": "@jupyter-widgets/controls",
            "_model_module_version": "1.5.0",
            "_model_name": "FloatProgressModel",
            "_view_count": null,
            "_view_module": "@jupyter-widgets/controls",
            "_view_module_version": "1.5.0",
            "_view_name": "ProgressView",
            "bar_style": "success",
            "description": "",
            "description_tooltip": null,
            "layout": "IPY_MODEL_82b3da2301824273854e7aa34fe47e2d",
            "max": 7,
            "min": 0,
            "orientation": "horizontal",
            "style": "IPY_MODEL_06605e5a87f94fec8976022eff155244",
            "value": 7
          }
        },
        "322c6f0a1f9148098f6e1de718bc3fd2": {
          "model_module": "@jupyter-widgets/controls",
          "model_name": "HTMLModel",
          "model_module_version": "1.5.0",
          "state": {
            "_dom_classes": [],
            "_model_module": "@jupyter-widgets/controls",
            "_model_module_version": "1.5.0",
            "_model_name": "HTMLModel",
            "_view_count": null,
            "_view_module": "@jupyter-widgets/controls",
            "_view_module_version": "1.5.0",
            "_view_name": "HTMLView",
            "description": "",
            "description_tooltip": null,
            "layout": "IPY_MODEL_537cc9bd15d74db89d8d24eb20a28823",
            "placeholder": "​",
            "style": "IPY_MODEL_4c87e246cd26414990e2feb4d6dee2df",
            "value": " 7/7 [00:02&lt;00:00,  2.89it/s]"
          }
        },
        "321ec3a5360749dc96789023701e8fac": {
          "model_module": "@jupyter-widgets/base",
          "model_name": "LayoutModel",
          "model_module_version": "1.2.0",
          "state": {
            "_model_module": "@jupyter-widgets/base",
            "_model_module_version": "1.2.0",
            "_model_name": "LayoutModel",
            "_view_count": null,
            "_view_module": "@jupyter-widgets/base",
            "_view_module_version": "1.2.0",
            "_view_name": "LayoutView",
            "align_content": null,
            "align_items": null,
            "align_self": null,
            "border": null,
            "bottom": null,
            "display": null,
            "flex": null,
            "flex_flow": null,
            "grid_area": null,
            "grid_auto_columns": null,
            "grid_auto_flow": null,
            "grid_auto_rows": null,
            "grid_column": null,
            "grid_gap": null,
            "grid_row": null,
            "grid_template_areas": null,
            "grid_template_columns": null,
            "grid_template_rows": null,
            "height": null,
            "justify_content": null,
            "justify_items": null,
            "left": null,
            "margin": null,
            "max_height": null,
            "max_width": null,
            "min_height": null,
            "min_width": null,
            "object_fit": null,
            "object_position": null,
            "order": null,
            "overflow": null,
            "overflow_x": null,
            "overflow_y": null,
            "padding": null,
            "right": null,
            "top": null,
            "visibility": null,
            "width": null
          }
        },
        "a160b8a0078d4042b18d24c538448088": {
          "model_module": "@jupyter-widgets/base",
          "model_name": "LayoutModel",
          "model_module_version": "1.2.0",
          "state": {
            "_model_module": "@jupyter-widgets/base",
            "_model_module_version": "1.2.0",
            "_model_name": "LayoutModel",
            "_view_count": null,
            "_view_module": "@jupyter-widgets/base",
            "_view_module_version": "1.2.0",
            "_view_name": "LayoutView",
            "align_content": null,
            "align_items": null,
            "align_self": null,
            "border": null,
            "bottom": null,
            "display": null,
            "flex": null,
            "flex_flow": null,
            "grid_area": null,
            "grid_auto_columns": null,
            "grid_auto_flow": null,
            "grid_auto_rows": null,
            "grid_column": null,
            "grid_gap": null,
            "grid_row": null,
            "grid_template_areas": null,
            "grid_template_columns": null,
            "grid_template_rows": null,
            "height": null,
            "justify_content": null,
            "justify_items": null,
            "left": null,
            "margin": null,
            "max_height": null,
            "max_width": null,
            "min_height": null,
            "min_width": null,
            "object_fit": null,
            "object_position": null,
            "order": null,
            "overflow": null,
            "overflow_x": null,
            "overflow_y": null,
            "padding": null,
            "right": null,
            "top": null,
            "visibility": null,
            "width": null
          }
        },
        "d321dcfd7ba648f3949de02916335498": {
          "model_module": "@jupyter-widgets/controls",
          "model_name": "DescriptionStyleModel",
          "model_module_version": "1.5.0",
          "state": {
            "_model_module": "@jupyter-widgets/controls",
            "_model_module_version": "1.5.0",
            "_model_name": "DescriptionStyleModel",
            "_view_count": null,
            "_view_module": "@jupyter-widgets/base",
            "_view_module_version": "1.2.0",
            "_view_name": "StyleView",
            "description_width": ""
          }
        },
        "82b3da2301824273854e7aa34fe47e2d": {
          "model_module": "@jupyter-widgets/base",
          "model_name": "LayoutModel",
          "model_module_version": "1.2.0",
          "state": {
            "_model_module": "@jupyter-widgets/base",
            "_model_module_version": "1.2.0",
            "_model_name": "LayoutModel",
            "_view_count": null,
            "_view_module": "@jupyter-widgets/base",
            "_view_module_version": "1.2.0",
            "_view_name": "LayoutView",
            "align_content": null,
            "align_items": null,
            "align_self": null,
            "border": null,
            "bottom": null,
            "display": null,
            "flex": null,
            "flex_flow": null,
            "grid_area": null,
            "grid_auto_columns": null,
            "grid_auto_flow": null,
            "grid_auto_rows": null,
            "grid_column": null,
            "grid_gap": null,
            "grid_row": null,
            "grid_template_areas": null,
            "grid_template_columns": null,
            "grid_template_rows": null,
            "height": null,
            "justify_content": null,
            "justify_items": null,
            "left": null,
            "margin": null,
            "max_height": null,
            "max_width": null,
            "min_height": null,
            "min_width": null,
            "object_fit": null,
            "object_position": null,
            "order": null,
            "overflow": null,
            "overflow_x": null,
            "overflow_y": null,
            "padding": null,
            "right": null,
            "top": null,
            "visibility": null,
            "width": null
          }
        },
        "06605e5a87f94fec8976022eff155244": {
          "model_module": "@jupyter-widgets/controls",
          "model_name": "ProgressStyleModel",
          "model_module_version": "1.5.0",
          "state": {
            "_model_module": "@jupyter-widgets/controls",
            "_model_module_version": "1.5.0",
            "_model_name": "ProgressStyleModel",
            "_view_count": null,
            "_view_module": "@jupyter-widgets/base",
            "_view_module_version": "1.2.0",
            "_view_name": "StyleView",
            "bar_color": null,
            "description_width": ""
          }
        },
        "537cc9bd15d74db89d8d24eb20a28823": {
          "model_module": "@jupyter-widgets/base",
          "model_name": "LayoutModel",
          "model_module_version": "1.2.0",
          "state": {
            "_model_module": "@jupyter-widgets/base",
            "_model_module_version": "1.2.0",
            "_model_name": "LayoutModel",
            "_view_count": null,
            "_view_module": "@jupyter-widgets/base",
            "_view_module_version": "1.2.0",
            "_view_name": "LayoutView",
            "align_content": null,
            "align_items": null,
            "align_self": null,
            "border": null,
            "bottom": null,
            "display": null,
            "flex": null,
            "flex_flow": null,
            "grid_area": null,
            "grid_auto_columns": null,
            "grid_auto_flow": null,
            "grid_auto_rows": null,
            "grid_column": null,
            "grid_gap": null,
            "grid_row": null,
            "grid_template_areas": null,
            "grid_template_columns": null,
            "grid_template_rows": null,
            "height": null,
            "justify_content": null,
            "justify_items": null,
            "left": null,
            "margin": null,
            "max_height": null,
            "max_width": null,
            "min_height": null,
            "min_width": null,
            "object_fit": null,
            "object_position": null,
            "order": null,
            "overflow": null,
            "overflow_x": null,
            "overflow_y": null,
            "padding": null,
            "right": null,
            "top": null,
            "visibility": null,
            "width": null
          }
        },
        "4c87e246cd26414990e2feb4d6dee2df": {
          "model_module": "@jupyter-widgets/controls",
          "model_name": "DescriptionStyleModel",
          "model_module_version": "1.5.0",
          "state": {
            "_model_module": "@jupyter-widgets/controls",
            "_model_module_version": "1.5.0",
            "_model_name": "DescriptionStyleModel",
            "_view_count": null,
            "_view_module": "@jupyter-widgets/base",
            "_view_module_version": "1.2.0",
            "_view_name": "StyleView",
            "description_width": ""
          }
        },
        "4e29a50fbb6e4892883a68a17c12e148": {
          "model_module": "@jupyter-widgets/controls",
          "model_name": "HBoxModel",
          "model_module_version": "1.5.0",
          "state": {
            "_dom_classes": [],
            "_model_module": "@jupyter-widgets/controls",
            "_model_module_version": "1.5.0",
            "_model_name": "HBoxModel",
            "_view_count": null,
            "_view_module": "@jupyter-widgets/controls",
            "_view_module_version": "1.5.0",
            "_view_name": "HBoxView",
            "box_style": "",
            "children": [
              "IPY_MODEL_6b1afa7d017e45128e30f7334a5bee54",
              "IPY_MODEL_c3e6a10b677f48eea2766e7d1fb06b26",
              "IPY_MODEL_cd7d01f18d114ceb9b699b68a3fc6acc"
            ],
            "layout": "IPY_MODEL_fd44f132bed74d39a5085c3022ff4b82"
          }
        },
        "6b1afa7d017e45128e30f7334a5bee54": {
          "model_module": "@jupyter-widgets/controls",
          "model_name": "HTMLModel",
          "model_module_version": "1.5.0",
          "state": {
            "_dom_classes": [],
            "_model_module": "@jupyter-widgets/controls",
            "_model_module_version": "1.5.0",
            "_model_name": "HTMLModel",
            "_view_count": null,
            "_view_module": "@jupyter-widgets/controls",
            "_view_module_version": "1.5.0",
            "_view_name": "HTMLView",
            "description": "",
            "description_tooltip": null,
            "layout": "IPY_MODEL_4849041bd5b64b17a4c6de213c251172",
            "placeholder": "​",
            "style": "IPY_MODEL_1f4a90d93017415e832a9e205382087a",
            "value": "100%"
          }
        },
        "c3e6a10b677f48eea2766e7d1fb06b26": {
          "model_module": "@jupyter-widgets/controls",
          "model_name": "FloatProgressModel",
          "model_module_version": "1.5.0",
          "state": {
            "_dom_classes": [],
            "_model_module": "@jupyter-widgets/controls",
            "_model_module_version": "1.5.0",
            "_model_name": "FloatProgressModel",
            "_view_count": null,
            "_view_module": "@jupyter-widgets/controls",
            "_view_module_version": "1.5.0",
            "_view_name": "ProgressView",
            "bar_style": "success",
            "description": "",
            "description_tooltip": null,
            "layout": "IPY_MODEL_ef50bc9d65ac4a178cc7852bd09736d3",
            "max": 25,
            "min": 0,
            "orientation": "horizontal",
            "style": "IPY_MODEL_a47bbc484d5b41f595218eaba4b4067d",
            "value": 25
          }
        },
        "cd7d01f18d114ceb9b699b68a3fc6acc": {
          "model_module": "@jupyter-widgets/controls",
          "model_name": "HTMLModel",
          "model_module_version": "1.5.0",
          "state": {
            "_dom_classes": [],
            "_model_module": "@jupyter-widgets/controls",
            "_model_module_version": "1.5.0",
            "_model_name": "HTMLModel",
            "_view_count": null,
            "_view_module": "@jupyter-widgets/controls",
            "_view_module_version": "1.5.0",
            "_view_name": "HTMLView",
            "description": "",
            "description_tooltip": null,
            "layout": "IPY_MODEL_084f822cc668406a850cd671201438cd",
            "placeholder": "​",
            "style": "IPY_MODEL_409be7638ea1488bb02a9bafc2cdec02",
            "value": " 25/25 [00:13&lt;00:00,  1.86it/s]"
          }
        },
        "fd44f132bed74d39a5085c3022ff4b82": {
          "model_module": "@jupyter-widgets/base",
          "model_name": "LayoutModel",
          "model_module_version": "1.2.0",
          "state": {
            "_model_module": "@jupyter-widgets/base",
            "_model_module_version": "1.2.0",
            "_model_name": "LayoutModel",
            "_view_count": null,
            "_view_module": "@jupyter-widgets/base",
            "_view_module_version": "1.2.0",
            "_view_name": "LayoutView",
            "align_content": null,
            "align_items": null,
            "align_self": null,
            "border": null,
            "bottom": null,
            "display": null,
            "flex": null,
            "flex_flow": null,
            "grid_area": null,
            "grid_auto_columns": null,
            "grid_auto_flow": null,
            "grid_auto_rows": null,
            "grid_column": null,
            "grid_gap": null,
            "grid_row": null,
            "grid_template_areas": null,
            "grid_template_columns": null,
            "grid_template_rows": null,
            "height": null,
            "justify_content": null,
            "justify_items": null,
            "left": null,
            "margin": null,
            "max_height": null,
            "max_width": null,
            "min_height": null,
            "min_width": null,
            "object_fit": null,
            "object_position": null,
            "order": null,
            "overflow": null,
            "overflow_x": null,
            "overflow_y": null,
            "padding": null,
            "right": null,
            "top": null,
            "visibility": null,
            "width": null
          }
        },
        "4849041bd5b64b17a4c6de213c251172": {
          "model_module": "@jupyter-widgets/base",
          "model_name": "LayoutModel",
          "model_module_version": "1.2.0",
          "state": {
            "_model_module": "@jupyter-widgets/base",
            "_model_module_version": "1.2.0",
            "_model_name": "LayoutModel",
            "_view_count": null,
            "_view_module": "@jupyter-widgets/base",
            "_view_module_version": "1.2.0",
            "_view_name": "LayoutView",
            "align_content": null,
            "align_items": null,
            "align_self": null,
            "border": null,
            "bottom": null,
            "display": null,
            "flex": null,
            "flex_flow": null,
            "grid_area": null,
            "grid_auto_columns": null,
            "grid_auto_flow": null,
            "grid_auto_rows": null,
            "grid_column": null,
            "grid_gap": null,
            "grid_row": null,
            "grid_template_areas": null,
            "grid_template_columns": null,
            "grid_template_rows": null,
            "height": null,
            "justify_content": null,
            "justify_items": null,
            "left": null,
            "margin": null,
            "max_height": null,
            "max_width": null,
            "min_height": null,
            "min_width": null,
            "object_fit": null,
            "object_position": null,
            "order": null,
            "overflow": null,
            "overflow_x": null,
            "overflow_y": null,
            "padding": null,
            "right": null,
            "top": null,
            "visibility": null,
            "width": null
          }
        },
        "1f4a90d93017415e832a9e205382087a": {
          "model_module": "@jupyter-widgets/controls",
          "model_name": "DescriptionStyleModel",
          "model_module_version": "1.5.0",
          "state": {
            "_model_module": "@jupyter-widgets/controls",
            "_model_module_version": "1.5.0",
            "_model_name": "DescriptionStyleModel",
            "_view_count": null,
            "_view_module": "@jupyter-widgets/base",
            "_view_module_version": "1.2.0",
            "_view_name": "StyleView",
            "description_width": ""
          }
        },
        "ef50bc9d65ac4a178cc7852bd09736d3": {
          "model_module": "@jupyter-widgets/base",
          "model_name": "LayoutModel",
          "model_module_version": "1.2.0",
          "state": {
            "_model_module": "@jupyter-widgets/base",
            "_model_module_version": "1.2.0",
            "_model_name": "LayoutModel",
            "_view_count": null,
            "_view_module": "@jupyter-widgets/base",
            "_view_module_version": "1.2.0",
            "_view_name": "LayoutView",
            "align_content": null,
            "align_items": null,
            "align_self": null,
            "border": null,
            "bottom": null,
            "display": null,
            "flex": null,
            "flex_flow": null,
            "grid_area": null,
            "grid_auto_columns": null,
            "grid_auto_flow": null,
            "grid_auto_rows": null,
            "grid_column": null,
            "grid_gap": null,
            "grid_row": null,
            "grid_template_areas": null,
            "grid_template_columns": null,
            "grid_template_rows": null,
            "height": null,
            "justify_content": null,
            "justify_items": null,
            "left": null,
            "margin": null,
            "max_height": null,
            "max_width": null,
            "min_height": null,
            "min_width": null,
            "object_fit": null,
            "object_position": null,
            "order": null,
            "overflow": null,
            "overflow_x": null,
            "overflow_y": null,
            "padding": null,
            "right": null,
            "top": null,
            "visibility": null,
            "width": null
          }
        },
        "a47bbc484d5b41f595218eaba4b4067d": {
          "model_module": "@jupyter-widgets/controls",
          "model_name": "ProgressStyleModel",
          "model_module_version": "1.5.0",
          "state": {
            "_model_module": "@jupyter-widgets/controls",
            "_model_module_version": "1.5.0",
            "_model_name": "ProgressStyleModel",
            "_view_count": null,
            "_view_module": "@jupyter-widgets/base",
            "_view_module_version": "1.2.0",
            "_view_name": "StyleView",
            "bar_color": null,
            "description_width": ""
          }
        },
        "084f822cc668406a850cd671201438cd": {
          "model_module": "@jupyter-widgets/base",
          "model_name": "LayoutModel",
          "model_module_version": "1.2.0",
          "state": {
            "_model_module": "@jupyter-widgets/base",
            "_model_module_version": "1.2.0",
            "_model_name": "LayoutModel",
            "_view_count": null,
            "_view_module": "@jupyter-widgets/base",
            "_view_module_version": "1.2.0",
            "_view_name": "LayoutView",
            "align_content": null,
            "align_items": null,
            "align_self": null,
            "border": null,
            "bottom": null,
            "display": null,
            "flex": null,
            "flex_flow": null,
            "grid_area": null,
            "grid_auto_columns": null,
            "grid_auto_flow": null,
            "grid_auto_rows": null,
            "grid_column": null,
            "grid_gap": null,
            "grid_row": null,
            "grid_template_areas": null,
            "grid_template_columns": null,
            "grid_template_rows": null,
            "height": null,
            "justify_content": null,
            "justify_items": null,
            "left": null,
            "margin": null,
            "max_height": null,
            "max_width": null,
            "min_height": null,
            "min_width": null,
            "object_fit": null,
            "object_position": null,
            "order": null,
            "overflow": null,
            "overflow_x": null,
            "overflow_y": null,
            "padding": null,
            "right": null,
            "top": null,
            "visibility": null,
            "width": null
          }
        },
        "409be7638ea1488bb02a9bafc2cdec02": {
          "model_module": "@jupyter-widgets/controls",
          "model_name": "DescriptionStyleModel",
          "model_module_version": "1.5.0",
          "state": {
            "_model_module": "@jupyter-widgets/controls",
            "_model_module_version": "1.5.0",
            "_model_name": "DescriptionStyleModel",
            "_view_count": null,
            "_view_module": "@jupyter-widgets/base",
            "_view_module_version": "1.2.0",
            "_view_name": "StyleView",
            "description_width": ""
          }
        },
        "4b9c2db5a3fb48d28c416e2cd25883bb": {
          "model_module": "@jupyter-widgets/controls",
          "model_name": "HBoxModel",
          "model_module_version": "1.5.0",
          "state": {
            "_dom_classes": [],
            "_model_module": "@jupyter-widgets/controls",
            "_model_module_version": "1.5.0",
            "_model_name": "HBoxModel",
            "_view_count": null,
            "_view_module": "@jupyter-widgets/controls",
            "_view_module_version": "1.5.0",
            "_view_name": "HBoxView",
            "box_style": "",
            "children": [
              "IPY_MODEL_e7c61c9891634dc69dc0e2dc6e9b5470",
              "IPY_MODEL_022d5096ca9647b2b23d72dda828adb7",
              "IPY_MODEL_262d32d17fa74919a7cc82034c6ba46f"
            ],
            "layout": "IPY_MODEL_e9e132c3acbd402ead5b1dd746b6528a"
          }
        },
        "e7c61c9891634dc69dc0e2dc6e9b5470": {
          "model_module": "@jupyter-widgets/controls",
          "model_name": "HTMLModel",
          "model_module_version": "1.5.0",
          "state": {
            "_dom_classes": [],
            "_model_module": "@jupyter-widgets/controls",
            "_model_module_version": "1.5.0",
            "_model_name": "HTMLModel",
            "_view_count": null,
            "_view_module": "@jupyter-widgets/controls",
            "_view_module_version": "1.5.0",
            "_view_name": "HTMLView",
            "description": "",
            "description_tooltip": null,
            "layout": "IPY_MODEL_5d641049346443bdabfa04f46fffbd7c",
            "placeholder": "​",
            "style": "IPY_MODEL_3ca15f3dd1ee4c5b9ea09774a05e3737",
            "value": "100%"
          }
        },
        "022d5096ca9647b2b23d72dda828adb7": {
          "model_module": "@jupyter-widgets/controls",
          "model_name": "FloatProgressModel",
          "model_module_version": "1.5.0",
          "state": {
            "_dom_classes": [],
            "_model_module": "@jupyter-widgets/controls",
            "_model_module_version": "1.5.0",
            "_model_name": "FloatProgressModel",
            "_view_count": null,
            "_view_module": "@jupyter-widgets/controls",
            "_view_module_version": "1.5.0",
            "_view_name": "ProgressView",
            "bar_style": "success",
            "description": "",
            "description_tooltip": null,
            "layout": "IPY_MODEL_799e610285904287840966e8ae15e8da",
            "max": 7,
            "min": 0,
            "orientation": "horizontal",
            "style": "IPY_MODEL_6d0784e78b3f49aca764877fe1206c2c",
            "value": 7
          }
        },
        "262d32d17fa74919a7cc82034c6ba46f": {
          "model_module": "@jupyter-widgets/controls",
          "model_name": "HTMLModel",
          "model_module_version": "1.5.0",
          "state": {
            "_dom_classes": [],
            "_model_module": "@jupyter-widgets/controls",
            "_model_module_version": "1.5.0",
            "_model_name": "HTMLModel",
            "_view_count": null,
            "_view_module": "@jupyter-widgets/controls",
            "_view_module_version": "1.5.0",
            "_view_name": "HTMLView",
            "description": "",
            "description_tooltip": null,
            "layout": "IPY_MODEL_cc0c749aaf0e4432b9bc1de52514affb",
            "placeholder": "​",
            "style": "IPY_MODEL_39e6c21203eb478799a4a4f1614005c0",
            "value": " 7/7 [00:02&lt;00:00,  2.94it/s]"
          }
        },
        "e9e132c3acbd402ead5b1dd746b6528a": {
          "model_module": "@jupyter-widgets/base",
          "model_name": "LayoutModel",
          "model_module_version": "1.2.0",
          "state": {
            "_model_module": "@jupyter-widgets/base",
            "_model_module_version": "1.2.0",
            "_model_name": "LayoutModel",
            "_view_count": null,
            "_view_module": "@jupyter-widgets/base",
            "_view_module_version": "1.2.0",
            "_view_name": "LayoutView",
            "align_content": null,
            "align_items": null,
            "align_self": null,
            "border": null,
            "bottom": null,
            "display": null,
            "flex": null,
            "flex_flow": null,
            "grid_area": null,
            "grid_auto_columns": null,
            "grid_auto_flow": null,
            "grid_auto_rows": null,
            "grid_column": null,
            "grid_gap": null,
            "grid_row": null,
            "grid_template_areas": null,
            "grid_template_columns": null,
            "grid_template_rows": null,
            "height": null,
            "justify_content": null,
            "justify_items": null,
            "left": null,
            "margin": null,
            "max_height": null,
            "max_width": null,
            "min_height": null,
            "min_width": null,
            "object_fit": null,
            "object_position": null,
            "order": null,
            "overflow": null,
            "overflow_x": null,
            "overflow_y": null,
            "padding": null,
            "right": null,
            "top": null,
            "visibility": null,
            "width": null
          }
        },
        "5d641049346443bdabfa04f46fffbd7c": {
          "model_module": "@jupyter-widgets/base",
          "model_name": "LayoutModel",
          "model_module_version": "1.2.0",
          "state": {
            "_model_module": "@jupyter-widgets/base",
            "_model_module_version": "1.2.0",
            "_model_name": "LayoutModel",
            "_view_count": null,
            "_view_module": "@jupyter-widgets/base",
            "_view_module_version": "1.2.0",
            "_view_name": "LayoutView",
            "align_content": null,
            "align_items": null,
            "align_self": null,
            "border": null,
            "bottom": null,
            "display": null,
            "flex": null,
            "flex_flow": null,
            "grid_area": null,
            "grid_auto_columns": null,
            "grid_auto_flow": null,
            "grid_auto_rows": null,
            "grid_column": null,
            "grid_gap": null,
            "grid_row": null,
            "grid_template_areas": null,
            "grid_template_columns": null,
            "grid_template_rows": null,
            "height": null,
            "justify_content": null,
            "justify_items": null,
            "left": null,
            "margin": null,
            "max_height": null,
            "max_width": null,
            "min_height": null,
            "min_width": null,
            "object_fit": null,
            "object_position": null,
            "order": null,
            "overflow": null,
            "overflow_x": null,
            "overflow_y": null,
            "padding": null,
            "right": null,
            "top": null,
            "visibility": null,
            "width": null
          }
        },
        "3ca15f3dd1ee4c5b9ea09774a05e3737": {
          "model_module": "@jupyter-widgets/controls",
          "model_name": "DescriptionStyleModel",
          "model_module_version": "1.5.0",
          "state": {
            "_model_module": "@jupyter-widgets/controls",
            "_model_module_version": "1.5.0",
            "_model_name": "DescriptionStyleModel",
            "_view_count": null,
            "_view_module": "@jupyter-widgets/base",
            "_view_module_version": "1.2.0",
            "_view_name": "StyleView",
            "description_width": ""
          }
        },
        "799e610285904287840966e8ae15e8da": {
          "model_module": "@jupyter-widgets/base",
          "model_name": "LayoutModel",
          "model_module_version": "1.2.0",
          "state": {
            "_model_module": "@jupyter-widgets/base",
            "_model_module_version": "1.2.0",
            "_model_name": "LayoutModel",
            "_view_count": null,
            "_view_module": "@jupyter-widgets/base",
            "_view_module_version": "1.2.0",
            "_view_name": "LayoutView",
            "align_content": null,
            "align_items": null,
            "align_self": null,
            "border": null,
            "bottom": null,
            "display": null,
            "flex": null,
            "flex_flow": null,
            "grid_area": null,
            "grid_auto_columns": null,
            "grid_auto_flow": null,
            "grid_auto_rows": null,
            "grid_column": null,
            "grid_gap": null,
            "grid_row": null,
            "grid_template_areas": null,
            "grid_template_columns": null,
            "grid_template_rows": null,
            "height": null,
            "justify_content": null,
            "justify_items": null,
            "left": null,
            "margin": null,
            "max_height": null,
            "max_width": null,
            "min_height": null,
            "min_width": null,
            "object_fit": null,
            "object_position": null,
            "order": null,
            "overflow": null,
            "overflow_x": null,
            "overflow_y": null,
            "padding": null,
            "right": null,
            "top": null,
            "visibility": null,
            "width": null
          }
        },
        "6d0784e78b3f49aca764877fe1206c2c": {
          "model_module": "@jupyter-widgets/controls",
          "model_name": "ProgressStyleModel",
          "model_module_version": "1.5.0",
          "state": {
            "_model_module": "@jupyter-widgets/controls",
            "_model_module_version": "1.5.0",
            "_model_name": "ProgressStyleModel",
            "_view_count": null,
            "_view_module": "@jupyter-widgets/base",
            "_view_module_version": "1.2.0",
            "_view_name": "StyleView",
            "bar_color": null,
            "description_width": ""
          }
        },
        "cc0c749aaf0e4432b9bc1de52514affb": {
          "model_module": "@jupyter-widgets/base",
          "model_name": "LayoutModel",
          "model_module_version": "1.2.0",
          "state": {
            "_model_module": "@jupyter-widgets/base",
            "_model_module_version": "1.2.0",
            "_model_name": "LayoutModel",
            "_view_count": null,
            "_view_module": "@jupyter-widgets/base",
            "_view_module_version": "1.2.0",
            "_view_name": "LayoutView",
            "align_content": null,
            "align_items": null,
            "align_self": null,
            "border": null,
            "bottom": null,
            "display": null,
            "flex": null,
            "flex_flow": null,
            "grid_area": null,
            "grid_auto_columns": null,
            "grid_auto_flow": null,
            "grid_auto_rows": null,
            "grid_column": null,
            "grid_gap": null,
            "grid_row": null,
            "grid_template_areas": null,
            "grid_template_columns": null,
            "grid_template_rows": null,
            "height": null,
            "justify_content": null,
            "justify_items": null,
            "left": null,
            "margin": null,
            "max_height": null,
            "max_width": null,
            "min_height": null,
            "min_width": null,
            "object_fit": null,
            "object_position": null,
            "order": null,
            "overflow": null,
            "overflow_x": null,
            "overflow_y": null,
            "padding": null,
            "right": null,
            "top": null,
            "visibility": null,
            "width": null
          }
        },
        "39e6c21203eb478799a4a4f1614005c0": {
          "model_module": "@jupyter-widgets/controls",
          "model_name": "DescriptionStyleModel",
          "model_module_version": "1.5.0",
          "state": {
            "_model_module": "@jupyter-widgets/controls",
            "_model_module_version": "1.5.0",
            "_model_name": "DescriptionStyleModel",
            "_view_count": null,
            "_view_module": "@jupyter-widgets/base",
            "_view_module_version": "1.2.0",
            "_view_name": "StyleView",
            "description_width": ""
          }
        },
        "405a3f52d3cd4c9c8deb89b428b336d4": {
          "model_module": "@jupyter-widgets/controls",
          "model_name": "HBoxModel",
          "model_module_version": "1.5.0",
          "state": {
            "_dom_classes": [],
            "_model_module": "@jupyter-widgets/controls",
            "_model_module_version": "1.5.0",
            "_model_name": "HBoxModel",
            "_view_count": null,
            "_view_module": "@jupyter-widgets/controls",
            "_view_module_version": "1.5.0",
            "_view_name": "HBoxView",
            "box_style": "",
            "children": [
              "IPY_MODEL_f462c61ff021482387499854c2916cb5",
              "IPY_MODEL_972ee6e8b6144a5db402da6777378af2",
              "IPY_MODEL_3d1ee99d0f5945a9826a27aed6afa085"
            ],
            "layout": "IPY_MODEL_5465078e211b43f5ae99e28b335c9ad6"
          }
        },
        "f462c61ff021482387499854c2916cb5": {
          "model_module": "@jupyter-widgets/controls",
          "model_name": "HTMLModel",
          "model_module_version": "1.5.0",
          "state": {
            "_dom_classes": [],
            "_model_module": "@jupyter-widgets/controls",
            "_model_module_version": "1.5.0",
            "_model_name": "HTMLModel",
            "_view_count": null,
            "_view_module": "@jupyter-widgets/controls",
            "_view_module_version": "1.5.0",
            "_view_name": "HTMLView",
            "description": "",
            "description_tooltip": null,
            "layout": "IPY_MODEL_63f771e2fe9544febecaf3f2bc9c6f2c",
            "placeholder": "​",
            "style": "IPY_MODEL_6d45a56b50fd4fd8b6e6e20d86075cca",
            "value": "100%"
          }
        },
        "972ee6e8b6144a5db402da6777378af2": {
          "model_module": "@jupyter-widgets/controls",
          "model_name": "FloatProgressModel",
          "model_module_version": "1.5.0",
          "state": {
            "_dom_classes": [],
            "_model_module": "@jupyter-widgets/controls",
            "_model_module_version": "1.5.0",
            "_model_name": "FloatProgressModel",
            "_view_count": null,
            "_view_module": "@jupyter-widgets/controls",
            "_view_module_version": "1.5.0",
            "_view_name": "ProgressView",
            "bar_style": "success",
            "description": "",
            "description_tooltip": null,
            "layout": "IPY_MODEL_0e917899975544a6bcc29ab7a6a7f571",
            "max": 87319819,
            "min": 0,
            "orientation": "horizontal",
            "style": "IPY_MODEL_4b0e9ae5df754691a2b8af5e23e5c8b8",
            "value": 87319819
          }
        },
        "3d1ee99d0f5945a9826a27aed6afa085": {
          "model_module": "@jupyter-widgets/controls",
          "model_name": "HTMLModel",
          "model_module_version": "1.5.0",
          "state": {
            "_dom_classes": [],
            "_model_module": "@jupyter-widgets/controls",
            "_model_module_version": "1.5.0",
            "_model_name": "HTMLModel",
            "_view_count": null,
            "_view_module": "@jupyter-widgets/controls",
            "_view_module_version": "1.5.0",
            "_view_name": "HTMLView",
            "description": "",
            "description_tooltip": null,
            "layout": "IPY_MODEL_ab7e7aa9c42d4d7faab0c4cb4845040d",
            "placeholder": "​",
            "style": "IPY_MODEL_dc090372d61342a98bfd77f63b597884",
            "value": " 83.3M/83.3M [00:00&lt;00:00, 141MB/s]"
          }
        },
        "5465078e211b43f5ae99e28b335c9ad6": {
          "model_module": "@jupyter-widgets/base",
          "model_name": "LayoutModel",
          "model_module_version": "1.2.0",
          "state": {
            "_model_module": "@jupyter-widgets/base",
            "_model_module_version": "1.2.0",
            "_model_name": "LayoutModel",
            "_view_count": null,
            "_view_module": "@jupyter-widgets/base",
            "_view_module_version": "1.2.0",
            "_view_name": "LayoutView",
            "align_content": null,
            "align_items": null,
            "align_self": null,
            "border": null,
            "bottom": null,
            "display": null,
            "flex": null,
            "flex_flow": null,
            "grid_area": null,
            "grid_auto_columns": null,
            "grid_auto_flow": null,
            "grid_auto_rows": null,
            "grid_column": null,
            "grid_gap": null,
            "grid_row": null,
            "grid_template_areas": null,
            "grid_template_columns": null,
            "grid_template_rows": null,
            "height": null,
            "justify_content": null,
            "justify_items": null,
            "left": null,
            "margin": null,
            "max_height": null,
            "max_width": null,
            "min_height": null,
            "min_width": null,
            "object_fit": null,
            "object_position": null,
            "order": null,
            "overflow": null,
            "overflow_x": null,
            "overflow_y": null,
            "padding": null,
            "right": null,
            "top": null,
            "visibility": null,
            "width": null
          }
        },
        "63f771e2fe9544febecaf3f2bc9c6f2c": {
          "model_module": "@jupyter-widgets/base",
          "model_name": "LayoutModel",
          "model_module_version": "1.2.0",
          "state": {
            "_model_module": "@jupyter-widgets/base",
            "_model_module_version": "1.2.0",
            "_model_name": "LayoutModel",
            "_view_count": null,
            "_view_module": "@jupyter-widgets/base",
            "_view_module_version": "1.2.0",
            "_view_name": "LayoutView",
            "align_content": null,
            "align_items": null,
            "align_self": null,
            "border": null,
            "bottom": null,
            "display": null,
            "flex": null,
            "flex_flow": null,
            "grid_area": null,
            "grid_auto_columns": null,
            "grid_auto_flow": null,
            "grid_auto_rows": null,
            "grid_column": null,
            "grid_gap": null,
            "grid_row": null,
            "grid_template_areas": null,
            "grid_template_columns": null,
            "grid_template_rows": null,
            "height": null,
            "justify_content": null,
            "justify_items": null,
            "left": null,
            "margin": null,
            "max_height": null,
            "max_width": null,
            "min_height": null,
            "min_width": null,
            "object_fit": null,
            "object_position": null,
            "order": null,
            "overflow": null,
            "overflow_x": null,
            "overflow_y": null,
            "padding": null,
            "right": null,
            "top": null,
            "visibility": null,
            "width": null
          }
        },
        "6d45a56b50fd4fd8b6e6e20d86075cca": {
          "model_module": "@jupyter-widgets/controls",
          "model_name": "DescriptionStyleModel",
          "model_module_version": "1.5.0",
          "state": {
            "_model_module": "@jupyter-widgets/controls",
            "_model_module_version": "1.5.0",
            "_model_name": "DescriptionStyleModel",
            "_view_count": null,
            "_view_module": "@jupyter-widgets/base",
            "_view_module_version": "1.2.0",
            "_view_name": "StyleView",
            "description_width": ""
          }
        },
        "0e917899975544a6bcc29ab7a6a7f571": {
          "model_module": "@jupyter-widgets/base",
          "model_name": "LayoutModel",
          "model_module_version": "1.2.0",
          "state": {
            "_model_module": "@jupyter-widgets/base",
            "_model_module_version": "1.2.0",
            "_model_name": "LayoutModel",
            "_view_count": null,
            "_view_module": "@jupyter-widgets/base",
            "_view_module_version": "1.2.0",
            "_view_name": "LayoutView",
            "align_content": null,
            "align_items": null,
            "align_self": null,
            "border": null,
            "bottom": null,
            "display": null,
            "flex": null,
            "flex_flow": null,
            "grid_area": null,
            "grid_auto_columns": null,
            "grid_auto_flow": null,
            "grid_auto_rows": null,
            "grid_column": null,
            "grid_gap": null,
            "grid_row": null,
            "grid_template_areas": null,
            "grid_template_columns": null,
            "grid_template_rows": null,
            "height": null,
            "justify_content": null,
            "justify_items": null,
            "left": null,
            "margin": null,
            "max_height": null,
            "max_width": null,
            "min_height": null,
            "min_width": null,
            "object_fit": null,
            "object_position": null,
            "order": null,
            "overflow": null,
            "overflow_x": null,
            "overflow_y": null,
            "padding": null,
            "right": null,
            "top": null,
            "visibility": null,
            "width": null
          }
        },
        "4b0e9ae5df754691a2b8af5e23e5c8b8": {
          "model_module": "@jupyter-widgets/controls",
          "model_name": "ProgressStyleModel",
          "model_module_version": "1.5.0",
          "state": {
            "_model_module": "@jupyter-widgets/controls",
            "_model_module_version": "1.5.0",
            "_model_name": "ProgressStyleModel",
            "_view_count": null,
            "_view_module": "@jupyter-widgets/base",
            "_view_module_version": "1.2.0",
            "_view_name": "StyleView",
            "bar_color": null,
            "description_width": ""
          }
        },
        "ab7e7aa9c42d4d7faab0c4cb4845040d": {
          "model_module": "@jupyter-widgets/base",
          "model_name": "LayoutModel",
          "model_module_version": "1.2.0",
          "state": {
            "_model_module": "@jupyter-widgets/base",
            "_model_module_version": "1.2.0",
            "_model_name": "LayoutModel",
            "_view_count": null,
            "_view_module": "@jupyter-widgets/base",
            "_view_module_version": "1.2.0",
            "_view_name": "LayoutView",
            "align_content": null,
            "align_items": null,
            "align_self": null,
            "border": null,
            "bottom": null,
            "display": null,
            "flex": null,
            "flex_flow": null,
            "grid_area": null,
            "grid_auto_columns": null,
            "grid_auto_flow": null,
            "grid_auto_rows": null,
            "grid_column": null,
            "grid_gap": null,
            "grid_row": null,
            "grid_template_areas": null,
            "grid_template_columns": null,
            "grid_template_rows": null,
            "height": null,
            "justify_content": null,
            "justify_items": null,
            "left": null,
            "margin": null,
            "max_height": null,
            "max_width": null,
            "min_height": null,
            "min_width": null,
            "object_fit": null,
            "object_position": null,
            "order": null,
            "overflow": null,
            "overflow_x": null,
            "overflow_y": null,
            "padding": null,
            "right": null,
            "top": null,
            "visibility": null,
            "width": null
          }
        },
        "dc090372d61342a98bfd77f63b597884": {
          "model_module": "@jupyter-widgets/controls",
          "model_name": "DescriptionStyleModel",
          "model_module_version": "1.5.0",
          "state": {
            "_model_module": "@jupyter-widgets/controls",
            "_model_module_version": "1.5.0",
            "_model_name": "DescriptionStyleModel",
            "_view_count": null,
            "_view_module": "@jupyter-widgets/base",
            "_view_module_version": "1.2.0",
            "_view_name": "StyleView",
            "description_width": ""
          }
        },
        "9c14a753c0cc483199f673675d13f301": {
          "model_module": "@jupyter-widgets/controls",
          "model_name": "HBoxModel",
          "model_module_version": "1.5.0",
          "state": {
            "_dom_classes": [],
            "_model_module": "@jupyter-widgets/controls",
            "_model_module_version": "1.5.0",
            "_model_name": "HBoxModel",
            "_view_count": null,
            "_view_module": "@jupyter-widgets/controls",
            "_view_module_version": "1.5.0",
            "_view_name": "HBoxView",
            "box_style": "",
            "children": [
              "IPY_MODEL_d568d11ab19f4e4b872b92570ab60624",
              "IPY_MODEL_60d1f9af46bb4a1bae86efb601ecb556",
              "IPY_MODEL_91156477a80b461f901e89616ea37a4e"
            ],
            "layout": "IPY_MODEL_7c54488c6bd8446c90b22efc730d16ac"
          }
        },
        "d568d11ab19f4e4b872b92570ab60624": {
          "model_module": "@jupyter-widgets/controls",
          "model_name": "HTMLModel",
          "model_module_version": "1.5.0",
          "state": {
            "_dom_classes": [],
            "_model_module": "@jupyter-widgets/controls",
            "_model_module_version": "1.5.0",
            "_model_name": "HTMLModel",
            "_view_count": null,
            "_view_module": "@jupyter-widgets/controls",
            "_view_module_version": "1.5.0",
            "_view_name": "HTMLView",
            "description": "",
            "description_tooltip": null,
            "layout": "IPY_MODEL_091523b09920426594b9873cf9a0d29f",
            "placeholder": "​",
            "style": "IPY_MODEL_627217d4d3ec44d19290af9210c6a188",
            "value": "100%"
          }
        },
        "60d1f9af46bb4a1bae86efb601ecb556": {
          "model_module": "@jupyter-widgets/controls",
          "model_name": "FloatProgressModel",
          "model_module_version": "1.5.0",
          "state": {
            "_dom_classes": [],
            "_model_module": "@jupyter-widgets/controls",
            "_model_module_version": "1.5.0",
            "_model_name": "FloatProgressModel",
            "_view_count": null,
            "_view_module": "@jupyter-widgets/controls",
            "_view_module_version": "1.5.0",
            "_view_name": "ProgressView",
            "bar_style": "success",
            "description": "",
            "description_tooltip": null,
            "layout": "IPY_MODEL_e6f34162043c47068599574fa7fe417f",
            "max": 115730790,
            "min": 0,
            "orientation": "horizontal",
            "style": "IPY_MODEL_095bdbcfc0e54f0ea98ccb2f11388a23",
            "value": 115730790
          }
        },
        "91156477a80b461f901e89616ea37a4e": {
          "model_module": "@jupyter-widgets/controls",
          "model_name": "HTMLModel",
          "model_module_version": "1.5.0",
          "state": {
            "_dom_classes": [],
            "_model_module": "@jupyter-widgets/controls",
            "_model_module_version": "1.5.0",
            "_model_name": "HTMLModel",
            "_view_count": null,
            "_view_module": "@jupyter-widgets/controls",
            "_view_module_version": "1.5.0",
            "_view_name": "HTMLView",
            "description": "",
            "description_tooltip": null,
            "layout": "IPY_MODEL_9bbcadecb7074eb684402e79d1d6db8f",
            "placeholder": "​",
            "style": "IPY_MODEL_a2a8013f8a0d4dbab233aa803096ef47",
            "value": " 110M/110M [00:00&lt;00:00, 152MB/s]"
          }
        },
        "7c54488c6bd8446c90b22efc730d16ac": {
          "model_module": "@jupyter-widgets/base",
          "model_name": "LayoutModel",
          "model_module_version": "1.2.0",
          "state": {
            "_model_module": "@jupyter-widgets/base",
            "_model_module_version": "1.2.0",
            "_model_name": "LayoutModel",
            "_view_count": null,
            "_view_module": "@jupyter-widgets/base",
            "_view_module_version": "1.2.0",
            "_view_name": "LayoutView",
            "align_content": null,
            "align_items": null,
            "align_self": null,
            "border": null,
            "bottom": null,
            "display": null,
            "flex": null,
            "flex_flow": null,
            "grid_area": null,
            "grid_auto_columns": null,
            "grid_auto_flow": null,
            "grid_auto_rows": null,
            "grid_column": null,
            "grid_gap": null,
            "grid_row": null,
            "grid_template_areas": null,
            "grid_template_columns": null,
            "grid_template_rows": null,
            "height": null,
            "justify_content": null,
            "justify_items": null,
            "left": null,
            "margin": null,
            "max_height": null,
            "max_width": null,
            "min_height": null,
            "min_width": null,
            "object_fit": null,
            "object_position": null,
            "order": null,
            "overflow": null,
            "overflow_x": null,
            "overflow_y": null,
            "padding": null,
            "right": null,
            "top": null,
            "visibility": null,
            "width": null
          }
        },
        "091523b09920426594b9873cf9a0d29f": {
          "model_module": "@jupyter-widgets/base",
          "model_name": "LayoutModel",
          "model_module_version": "1.2.0",
          "state": {
            "_model_module": "@jupyter-widgets/base",
            "_model_module_version": "1.2.0",
            "_model_name": "LayoutModel",
            "_view_count": null,
            "_view_module": "@jupyter-widgets/base",
            "_view_module_version": "1.2.0",
            "_view_name": "LayoutView",
            "align_content": null,
            "align_items": null,
            "align_self": null,
            "border": null,
            "bottom": null,
            "display": null,
            "flex": null,
            "flex_flow": null,
            "grid_area": null,
            "grid_auto_columns": null,
            "grid_auto_flow": null,
            "grid_auto_rows": null,
            "grid_column": null,
            "grid_gap": null,
            "grid_row": null,
            "grid_template_areas": null,
            "grid_template_columns": null,
            "grid_template_rows": null,
            "height": null,
            "justify_content": null,
            "justify_items": null,
            "left": null,
            "margin": null,
            "max_height": null,
            "max_width": null,
            "min_height": null,
            "min_width": null,
            "object_fit": null,
            "object_position": null,
            "order": null,
            "overflow": null,
            "overflow_x": null,
            "overflow_y": null,
            "padding": null,
            "right": null,
            "top": null,
            "visibility": null,
            "width": null
          }
        },
        "627217d4d3ec44d19290af9210c6a188": {
          "model_module": "@jupyter-widgets/controls",
          "model_name": "DescriptionStyleModel",
          "model_module_version": "1.5.0",
          "state": {
            "_model_module": "@jupyter-widgets/controls",
            "_model_module_version": "1.5.0",
            "_model_name": "DescriptionStyleModel",
            "_view_count": null,
            "_view_module": "@jupyter-widgets/base",
            "_view_module_version": "1.2.0",
            "_view_name": "StyleView",
            "description_width": ""
          }
        },
        "e6f34162043c47068599574fa7fe417f": {
          "model_module": "@jupyter-widgets/base",
          "model_name": "LayoutModel",
          "model_module_version": "1.2.0",
          "state": {
            "_model_module": "@jupyter-widgets/base",
            "_model_module_version": "1.2.0",
            "_model_name": "LayoutModel",
            "_view_count": null,
            "_view_module": "@jupyter-widgets/base",
            "_view_module_version": "1.2.0",
            "_view_name": "LayoutView",
            "align_content": null,
            "align_items": null,
            "align_self": null,
            "border": null,
            "bottom": null,
            "display": null,
            "flex": null,
            "flex_flow": null,
            "grid_area": null,
            "grid_auto_columns": null,
            "grid_auto_flow": null,
            "grid_auto_rows": null,
            "grid_column": null,
            "grid_gap": null,
            "grid_row": null,
            "grid_template_areas": null,
            "grid_template_columns": null,
            "grid_template_rows": null,
            "height": null,
            "justify_content": null,
            "justify_items": null,
            "left": null,
            "margin": null,
            "max_height": null,
            "max_width": null,
            "min_height": null,
            "min_width": null,
            "object_fit": null,
            "object_position": null,
            "order": null,
            "overflow": null,
            "overflow_x": null,
            "overflow_y": null,
            "padding": null,
            "right": null,
            "top": null,
            "visibility": null,
            "width": null
          }
        },
        "095bdbcfc0e54f0ea98ccb2f11388a23": {
          "model_module": "@jupyter-widgets/controls",
          "model_name": "ProgressStyleModel",
          "model_module_version": "1.5.0",
          "state": {
            "_model_module": "@jupyter-widgets/controls",
            "_model_module_version": "1.5.0",
            "_model_name": "ProgressStyleModel",
            "_view_count": null,
            "_view_module": "@jupyter-widgets/base",
            "_view_module_version": "1.2.0",
            "_view_name": "StyleView",
            "bar_color": null,
            "description_width": ""
          }
        },
        "9bbcadecb7074eb684402e79d1d6db8f": {
          "model_module": "@jupyter-widgets/base",
          "model_name": "LayoutModel",
          "model_module_version": "1.2.0",
          "state": {
            "_model_module": "@jupyter-widgets/base",
            "_model_module_version": "1.2.0",
            "_model_name": "LayoutModel",
            "_view_count": null,
            "_view_module": "@jupyter-widgets/base",
            "_view_module_version": "1.2.0",
            "_view_name": "LayoutView",
            "align_content": null,
            "align_items": null,
            "align_self": null,
            "border": null,
            "bottom": null,
            "display": null,
            "flex": null,
            "flex_flow": null,
            "grid_area": null,
            "grid_auto_columns": null,
            "grid_auto_flow": null,
            "grid_auto_rows": null,
            "grid_column": null,
            "grid_gap": null,
            "grid_row": null,
            "grid_template_areas": null,
            "grid_template_columns": null,
            "grid_template_rows": null,
            "height": null,
            "justify_content": null,
            "justify_items": null,
            "left": null,
            "margin": null,
            "max_height": null,
            "max_width": null,
            "min_height": null,
            "min_width": null,
            "object_fit": null,
            "object_position": null,
            "order": null,
            "overflow": null,
            "overflow_x": null,
            "overflow_y": null,
            "padding": null,
            "right": null,
            "top": null,
            "visibility": null,
            "width": null
          }
        },
        "a2a8013f8a0d4dbab233aa803096ef47": {
          "model_module": "@jupyter-widgets/controls",
          "model_name": "DescriptionStyleModel",
          "model_module_version": "1.5.0",
          "state": {
            "_model_module": "@jupyter-widgets/controls",
            "_model_module_version": "1.5.0",
            "_model_name": "DescriptionStyleModel",
            "_view_count": null,
            "_view_module": "@jupyter-widgets/base",
            "_view_module_version": "1.2.0",
            "_view_name": "StyleView",
            "description_width": ""
          }
        }
      }
    }
  },
  "nbformat": 4,
  "nbformat_minor": 5
}